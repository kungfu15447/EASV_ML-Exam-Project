{
 "cells": [
  {
   "cell_type": "code",
   "execution_count": 60,
   "metadata": {},
   "outputs": [],
   "source": [
    "import pandas as pd\n",
    "import numpy\n",
    "from tensorflow import keras\n",
    "from keras.layers import Dense, Flatten\n",
    "import keras.callbacks as callbacks;"
   ]
  },
  {
   "cell_type": "code",
   "execution_count": 35,
   "metadata": {},
   "outputs": [
    {
     "data": {
      "text/plain": [
       "(112799, 785)"
      ]
     },
     "execution_count": 35,
     "metadata": {},
     "output_type": "execute_result"
    }
   ],
   "source": [
    "test = pd.read_csv(\"Datasets/emnist-balanced-test.csv\").to_numpy()\n",
    "train = pd.read_csv(\"Datasets/emnist-balanced-train.csv\").to_numpy()\n",
    "train.shape"
   ]
  },
  {
   "cell_type": "code",
   "execution_count": 61,
   "metadata": {},
   "outputs": [
    {
     "data": {
      "text/plain": [
       "((107799, 784), (107799,))"
      ]
     },
     "execution_count": 61,
     "metadata": {},
     "output_type": "execute_result"
    }
   ],
   "source": [
    "x_train, x_valid = train[5000:, 1:], train[:5000, 1:]\n",
    "x_train, x_valid = x_train / 255.0, x_valid/ 255.0\n",
    "y_train, y_valid = train[5000:, 0], train[:5000, 0]\n",
    "\n",
    "x_train.shape, y_train.shape"
   ]
  },
  {
   "cell_type": "code",
   "execution_count": 43,
   "metadata": {},
   "outputs": [
    {
     "data": {
      "text/plain": [
       "47"
      ]
     },
     "execution_count": 43,
     "metadata": {},
     "output_type": "execute_result"
    }
   ],
   "source": [
    "y_train_unique = numpy.unique(y_train)\n",
    "y_train_unique.size"
   ]
  },
  {
   "cell_type": "code",
   "execution_count": 57,
   "metadata": {},
   "outputs": [],
   "source": [
    "model = keras.models.Sequential([\n",
    "    Flatten(input_shape=[784]),\n",
    "    Dense(300, activation=\"relu\"),\n",
    "    Dense(300, activation=\"relu\"),\n",
    "    Dense(300, activation=\"relu\"),\n",
    "    Dense(300, activation=\"relu\"),\n",
    "    Dense(y_train_unique.size, activation=\"softmax\")\n",
    "])"
   ]
  },
  {
   "cell_type": "code",
   "execution_count": 58,
   "metadata": {},
   "outputs": [
    {
     "name": "stdout",
     "output_type": "stream",
     "text": [
      "Model: \"sequential_5\"\n",
      "_________________________________________________________________\n",
      " Layer (type)                Output Shape              Param #   \n",
      "=================================================================\n",
      " flatten_2 (Flatten)         (None, 784)               0         \n",
      "                                                                 \n",
      " dense_25 (Dense)            (None, 300)               235500    \n",
      "                                                                 \n",
      " dense_26 (Dense)            (None, 300)               90300     \n",
      "                                                                 \n",
      " dense_27 (Dense)            (None, 300)               90300     \n",
      "                                                                 \n",
      " dense_28 (Dense)            (None, 300)               90300     \n",
      "                                                                 \n",
      " dense_29 (Dense)            (None, 47)                14147     \n",
      "                                                                 \n",
      "=================================================================\n",
      "Total params: 520,547\n",
      "Trainable params: 520,547\n",
      "Non-trainable params: 0\n",
      "_________________________________________________________________\n"
     ]
    },
    {
     "data": {
      "text/plain": [
       "(None, (None, 784))"
      ]
     },
     "execution_count": 58,
     "metadata": {},
     "output_type": "execute_result"
    }
   ],
   "source": [
    "model.summary(), model.input_shape"
   ]
  },
  {
   "cell_type": "code",
   "execution_count": 59,
   "metadata": {},
   "outputs": [],
   "source": [
    "model.compile(loss=keras.losses.sparse_categorical_crossentropy, \n",
    "              optimizer=keras.optimizers.SGD(learning_rate=0.01), \n",
    "              metrics=[keras.metrics.sparse_categorical_accuracy])"
   ]
  },
  {
   "cell_type": "code",
   "execution_count": 62,
   "metadata": {},
   "outputs": [
    {
     "name": "stdout",
     "output_type": "stream",
     "text": [
      "Epoch 1/100\n",
      "3369/3369 [==============================] - 15s 4ms/step - loss: 1.8225 - sparse_categorical_accuracy: 0.5153 - val_loss: 1.0541 - val_sparse_categorical_accuracy: 0.6910A: 1s - loss: 1.9350 - spa\n",
      "Epoch 2/100\n",
      "3369/3369 [==============================] - 13s 4ms/step - loss: 0.9136 - sparse_categorical_accuracy: 0.7245 - val_loss: 0.7956 - val_sparse_categorical_accuracy: 0.7564\n",
      "Epoch 3/100\n",
      "3369/3369 [==============================] - 12s 4ms/step - loss: 0.7223 - sparse_categorical_accuracy: 0.7749 - val_loss: 0.6808 - val_sparse_categorical_accuracy: 0.7800\n",
      "Epoch 4/100\n",
      "3369/3369 [==============================] - 9s 3ms/step - loss: 0.6236 - sparse_categorical_accuracy: 0.8016 - val_loss: 0.6422 - val_sparse_categorical_accuracy: 0.7864\n",
      "Epoch 5/100\n",
      "3369/3369 [==============================] - 9s 3ms/step - loss: 0.5631 - sparse_categorical_accuracy: 0.8177 - val_loss: 0.5756 - val_sparse_categorical_accuracy: 0.8088\n",
      "Epoch 6/100\n",
      "3369/3369 [==============================] - 9s 3ms/step - loss: 0.5183 - sparse_categorical_accuracy: 0.8285 - val_loss: 0.5487 - val_sparse_categorical_accuracy: 0.8200\n",
      "Epoch 7/100\n",
      "3369/3369 [==============================] - 9s 3ms/step - loss: 0.4849 - sparse_categorical_accuracy: 0.8386 - val_loss: 0.5360 - val_sparse_categorical_accuracy: 0.8234\n",
      "Epoch 8/100\n",
      "3369/3369 [==============================] - 15s 4ms/step - loss: 0.4575 - sparse_categorical_accuracy: 0.8457 - val_loss: 0.5070 - val_sparse_categorical_accuracy: 0.8296\n",
      "Epoch 9/100\n",
      "3369/3369 [==============================] - 13s 4ms/step - loss: 0.4342 - sparse_categorical_accuracy: 0.8514 - val_loss: 0.4969 - val_sparse_categorical_accuracy: 0.8334\n",
      "Epoch 10/100\n",
      "3369/3369 [==============================] - 13s 4ms/step - loss: 0.4147 - sparse_categorical_accuracy: 0.8574 - val_loss: 0.4753 - val_sparse_categorical_accuracy: 0.8454\n",
      "Epoch 11/100\n",
      "3369/3369 [==============================] - 14s 4ms/step - loss: 0.3978 - sparse_categorical_accuracy: 0.8625 - val_loss: 0.4835 - val_sparse_categorical_accuracy: 0.8422\n",
      "Epoch 12/100\n",
      "3369/3369 [==============================] - 14s 4ms/step - loss: 0.3820 - sparse_categorical_accuracy: 0.8659 - val_loss: 0.4643 - val_sparse_categorical_accuracy: 0.8438\n",
      "Epoch 13/100\n",
      "3369/3369 [==============================] - 13s 4ms/step - loss: 0.3664 - sparse_categorical_accuracy: 0.8708 - val_loss: 0.4718 - val_sparse_categorical_accuracy: 0.8450\n",
      "Epoch 14/100\n",
      "3369/3369 [==============================] - 11s 3ms/step - loss: 0.3532 - sparse_categorical_accuracy: 0.8752 - val_loss: 0.4548 - val_sparse_categorical_accuracy: 0.8454\n",
      "Epoch 15/100\n",
      "3369/3369 [==============================] - 10s 3ms/step - loss: 0.3418 - sparse_categorical_accuracy: 0.8779 - val_loss: 0.4703 - val_sparse_categorical_accuracy: 0.8386\n",
      "Epoch 16/100\n",
      "3369/3369 [==============================] - 10s 3ms/step - loss: 0.3301 - sparse_categorical_accuracy: 0.8817 - val_loss: 0.4696 - val_sparse_categorical_accuracy: 0.8458\n",
      "Epoch 17/100\n",
      "3369/3369 [==============================] - 12s 4ms/step - loss: 0.3202 - sparse_categorical_accuracy: 0.8838 - val_loss: 0.4531 - val_sparse_categorical_accuracy: 0.8512\n",
      "Epoch 18/100\n",
      "3369/3369 [==============================] - 12s 4ms/step - loss: 0.3100 - sparse_categorical_accuracy: 0.8869 - val_loss: 0.4533 - val_sparse_categorical_accuracy: 0.8510\n",
      "Epoch 19/100\n",
      "3369/3369 [==============================] - 12s 3ms/step - loss: 0.3006 - sparse_categorical_accuracy: 0.8905 - val_loss: 0.4524 - val_sparse_categorical_accuracy: 0.8472\n",
      "Epoch 20/100\n",
      "3369/3369 [==============================] - 12s 3ms/step - loss: 0.2914 - sparse_categorical_accuracy: 0.8932 - val_loss: 0.4394 - val_sparse_categorical_accuracy: 0.8560\n",
      "Epoch 21/100\n",
      "3369/3369 [==============================] - 12s 4ms/step - loss: 0.2834 - sparse_categorical_accuracy: 0.8949 - val_loss: 0.4603 - val_sparse_categorical_accuracy: 0.8560\n",
      "Epoch 22/100\n",
      "3369/3369 [==============================] - 13s 4ms/step - loss: 0.2747 - sparse_categorical_accuracy: 0.8976 - val_loss: 0.4510 - val_sparse_categorical_accuracy: 0.84860s - loss: 0.2741 - sparse_categorical_acc\n",
      "Epoch 23/100\n",
      "3369/3369 [==============================] - 13s 4ms/step - loss: 0.2671 - sparse_categorical_accuracy: 0.9010 - val_loss: 0.4511 - val_sparse_categorical_accuracy: 0.8522\n",
      "Epoch 24/100\n",
      "3369/3369 [==============================] - 11s 3ms/step - loss: 0.2589 - sparse_categorical_accuracy: 0.9033 - val_loss: 0.4453 - val_sparse_categorical_accuracy: 0.8578\n",
      "Epoch 25/100\n",
      "3369/3369 [==============================] - 9s 3ms/step - loss: 0.2534 - sparse_categorical_accuracy: 0.9042 - val_loss: 0.4642 - val_sparse_categorical_accuracy: 0.8458\n",
      "Epoch 26/100\n",
      "3369/3369 [==============================] - 12s 4ms/step - loss: 0.2449 - sparse_categorical_accuracy: 0.9075 - val_loss: 0.4708 - val_sparse_categorical_accuracy: 0.8494\n",
      "Epoch 27/100\n",
      "3369/3369 [==============================] - 11s 3ms/step - loss: 0.2384 - sparse_categorical_accuracy: 0.9096 - val_loss: 0.4551 - val_sparse_categorical_accuracy: 0.8522\n",
      "Epoch 28/100\n",
      "3369/3369 [==============================] - 13s 4ms/step - loss: 0.2326 - sparse_categorical_accuracy: 0.9108 - val_loss: 0.4925 - val_sparse_categorical_accuracy: 0.8402\n",
      "Epoch 29/100\n",
      "3369/3369 [==============================] - 16s 5ms/step - loss: 0.2264 - sparse_categorical_accuracy: 0.9133 - val_loss: 0.4788 - val_sparse_categorical_accuracy: 0.8504\n",
      "Epoch 30/100\n",
      "3369/3369 [==============================] - 15s 4ms/step - loss: 0.2200 - sparse_categorical_accuracy: 0.9146 - val_loss: 0.4630 - val_sparse_categorical_accuracy: 0.8526\n"
     ]
    }
   ],
   "source": [
    "early_stopping_cb = callbacks.EarlyStopping(patience=10, restore_best_weights=True)\n",
    "history = model.fit(x_train, y_train, epochs=100, validation_data=(x_valid, y_valid), callbacks=[early_stopping_cb])"
   ]
  },
  {
   "cell_type": "code",
   "execution_count": 63,
   "metadata": {},
   "outputs": [
    {
     "data": {
      "image/png": "[encoded data removed]",
      "text/plain": [
       "<Figure size 576x360 with 1 Axes>"
      ]
     },
     "metadata": {
      "needs_background": "light"
     },
     "output_type": "display_data"
    }
   ],
   "source": [
    "pd.DataFrame(history.history).plot(figsize=(8, 5))\n",
    "plt.grid(True)\n",
    "plt.gca().set_ylim(0, 1) # set the vertical range to [0-1]\n",
    "plt.show()"
   ]
  }
 ],
 "metadata": {
  "interpreter": {
   "hash": "830bd4b94685321d0b550ba9a75ad9d58de144fde38c75487e899dd4e7e6ada5"
  },
  "kernelspec": {
   "display_name": "Python 3.9.8 64-bit",
   "language": "python",
   "name": "python3"
  },
  "language_info": {
   "codemirror_mode": {
    "name": "ipython",
    "version": 3
   },
   "file_extension": ".py",
   "mimetype": "text/x-python",
   "name": "python",
   "nbconvert_exporter": "python",
   "pygments_lexer": "ipython3",
   "version": "3.9.8"
  },
  "orig_nbformat": 4
 },
 "nbformat": 4,
 "nbformat_minor": 2
}
