{
 "cells": [
  {
   "cell_type": "code",
   "execution_count": 39,
   "metadata": {},
   "outputs": [],
   "source": [
    "import pandas as pd\n",
    "import numpy\n",
    "from tensorflow import keras\n",
    "from keras.layers import Dense"
   ]
  },
  {
   "cell_type": "code",
   "execution_count": 35,
   "metadata": {},
   "outputs": [
    {
     "data": {
      "text/plain": [
       "(112799, 785)"
      ]
     },
     "execution_count": 35,
     "metadata": {},
     "output_type": "execute_result"
    }
   ],
   "source": [
    "test = pd.read_csv(\"Datasets/emnist-balanced-test.csv\").to_numpy()\n",
    "train = pd.read_csv(\"Datasets/emnist-balanced-train.csv\").to_numpy()\n",
    "train.shape"
   ]
  },
  {
   "cell_type": "code",
   "execution_count": 36,
   "metadata": {},
   "outputs": [
    {
     "data": {
      "text/plain": [
       "((112799, 784), (112799,))"
      ]
     },
     "execution_count": 36,
     "metadata": {},
     "output_type": "execute_result"
    }
   ],
   "source": [
    "x_train = train[:, 1:]\n",
    "x_train = x_train / 255.0\n",
    "y_train = train[:, 0]\n",
    "\n",
    "x_train.shape, y_train.shape"
   ]
  },
  {
   "cell_type": "code",
   "execution_count": 43,
   "metadata": {},
   "outputs": [
    {
     "data": {
      "text/plain": [
       "47"
      ]
     },
     "execution_count": 43,
     "metadata": {},
     "output_type": "execute_result"
    }
   ],
   "source": [
    "y_train_unique = numpy.unique(y_train)\n",
    "y_train_unique.size"
   ]
  },
  {
   "cell_type": "code",
   "execution_count": null,
   "metadata": {},
   "outputs": [],
   "source": [
    "model = keras.models.Sequential([\n",
    "    Dense(300, activation=\"relu\"),\n",
    "    Dense(300, activation=\"relu\"),\n",
    "    Dense(300, activation=\"relu\"),\n",
    "    Dense(300, activation=\"relu\"),\n",
    "    Dense(y_train_unique.size, activation=\"softmax\")\n",
    "])"
   ]
  }
 ],
 "metadata": {
  "interpreter": {
   "hash": "830bd4b94685321d0b550ba9a75ad9d58de144fde38c75487e899dd4e7e6ada5"
  },
  "kernelspec": {
   "display_name": "Python 3.9.8 64-bit",
   "language": "python",
   "name": "python3"
  },
  "language_info": {
   "codemirror_mode": {
    "name": "ipython",
    "version": 3
   },
   "file_extension": ".py",
   "mimetype": "text/x-python",
   "name": "python",
   "nbconvert_exporter": "python",
   "pygments_lexer": "ipython3",
   "version": "3.9.8"
  },
  "orig_nbformat": 4
 },
 "nbformat": 4,
 "nbformat_minor": 2
}
