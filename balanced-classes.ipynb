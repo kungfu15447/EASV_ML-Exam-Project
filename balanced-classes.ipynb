{
 "cells": [
  {
   "cell_type": "code",
   "execution_count": 293,
   "metadata": {},
   "outputs": [],
   "source": [
    "import pandas as pd\n",
    "import matplotlib.pyplot as plt\n",
    "import numpy\n",
    "from tensorflow import keras\n",
    "from keras.layers import Dense, Flatten, AlphaDropout, Dropout\n",
    "import keras.callbacks as callbacks;\n",
    "import os\n",
    "import random"
   ]
  },
  {
   "cell_type": "code",
   "execution_count": 294,
   "metadata": {},
   "outputs": [],
   "source": [
    "root_logdir = os.path.join(os.curdir, \"my_logs\")\n",
    "\n",
    "def get_run_logdir():\n",
    " import time\n",
    " run_id = time.strftime(\"run_%Y_%m_%d-%H_%M_%S\")\n",
    " return os.path.join(root_logdir, run_id)\n",
    "\n",
    "run_logdir = get_run_logdir()"
   ]
  },
  {
   "cell_type": "code",
   "execution_count": 295,
   "metadata": {},
   "outputs": [],
   "source": [
    "test = pd.read_csv(\"Datasets/emnist-balanced-test.csv\").to_numpy()\n",
    "train = pd.read_csv(\"Datasets/emnist-balanced-train.csv\").to_numpy()"
   ]
  },
  {
   "cell_type": "code",
   "execution_count": 296,
   "metadata": {},
   "outputs": [
    {
     "data": {
      "text/plain": [
       "((112799, 784), (112799,))"
      ]
     },
     "execution_count": 296,
     "metadata": {},
     "output_type": "execute_result"
    }
   ],
   "source": [
    "x_train = train[:, 1:]\n",
    "x_train = x_train / 255.0\n",
    "\n",
    "y_train = train[:, 0]\n",
    "\n",
    "x_train.shape, y_train.shape"
   ]
  },
  {
   "cell_type": "code",
   "execution_count": 297,
   "metadata": {},
   "outputs": [
    {
     "data": {
      "text/plain": [
       "47"
      ]
     },
     "execution_count": 297,
     "metadata": {},
     "output_type": "execute_result"
    }
   ],
   "source": [
    "y_train_unique = numpy.unique(y_train)\n",
    "y_train_unique.size"
   ]
  },
  {
   "cell_type": "code",
   "execution_count": 298,
   "metadata": {},
   "outputs": [],
   "source": [
    "model = keras.models.Sequential([\n",
    "    Flatten(input_shape=[784]),\n",
    "    Dense(416, activation=\"relu\"),\n",
    "    Dropout(rate=0.2),\n",
    "    Dense(y_train_unique.size, activation=\"softmax\")\n",
    "])"
   ]
  },
  {
   "cell_type": "code",
   "execution_count": 299,
   "metadata": {},
   "outputs": [
    {
     "name": "stdout",
     "output_type": "stream",
     "text": [
      "Model: \"sequential_8\"\n",
      "_________________________________________________________________\n",
      " Layer (type)                Output Shape              Param #   \n",
      "=================================================================\n",
      " flatten_8 (Flatten)         (None, 784)               0         \n",
      "                                                                 \n",
      " dense_33 (Dense)            (None, 416)               326560    \n",
      "                                                                 \n",
      " dropout (Dropout)           (None, 416)               0         \n",
      "                                                                 \n",
      " dense_34 (Dense)            (None, 47)                19599     \n",
      "                                                                 \n",
      "=================================================================\n",
      "Total params: 346,159\n",
      "Trainable params: 346,159\n",
      "Non-trainable params: 0\n",
      "_________________________________________________________________\n"
     ]
    },
    {
     "data": {
      "text/plain": [
       "(None, (None, 784))"
      ]
     },
     "execution_count": 299,
     "metadata": {},
     "output_type": "execute_result"
    }
   ],
   "source": [
    "model.summary(), model.input_shape"
   ]
  },
  {
   "cell_type": "code",
   "execution_count": 300,
   "metadata": {},
   "outputs": [],
   "source": [
    "model.compile(loss=keras.losses.sparse_categorical_crossentropy, \n",
    "              optimizer=keras.optimizers.SGD(momentum=0.9), \n",
    "              metrics=[keras.metrics.sparse_categorical_accuracy])"
   ]
  },
  {
   "cell_type": "code",
   "execution_count": 301,
   "metadata": {},
   "outputs": [
    {
     "name": "stdout",
     "output_type": "stream",
     "text": [
      "Epoch 1/100\n",
      "3173/3173 [==============================] - 8s 2ms/step - loss: 1.1474 - sparse_categorical_accuracy: 0.6697 - val_loss: 0.7553 - val_sparse_categorical_accuracy: 0.7668 - lr: 0.0100\n",
      "Epoch 2/100\n",
      "3173/3173 [==============================] - 7s 2ms/step - loss: 0.7054 - sparse_categorical_accuracy: 0.7803 - val_loss: 0.5977 - val_sparse_categorical_accuracy: 0.8092 - lr: 0.0100\n",
      "Epoch 3/100\n",
      "3173/3173 [==============================] - 7s 2ms/step - loss: 0.6048 - sparse_categorical_accuracy: 0.8069 - val_loss: 0.5557 - val_sparse_categorical_accuracy: 0.8150 - lr: 0.0100\n",
      "Epoch 4/100\n",
      "3173/3173 [==============================] - 7s 2ms/step - loss: 0.5504 - sparse_categorical_accuracy: 0.8200 - val_loss: 0.5294 - val_sparse_categorical_accuracy: 0.8215 - lr: 0.0100\n",
      "Epoch 5/100\n",
      "3173/3173 [==============================] - 8s 2ms/step - loss: 0.5153 - sparse_categorical_accuracy: 0.8290 - val_loss: 0.5080 - val_sparse_categorical_accuracy: 0.8300 - lr: 0.0100\n",
      "Epoch 6/100\n",
      "3173/3173 [==============================] - 7s 2ms/step - loss: 0.4846 - sparse_categorical_accuracy: 0.8382 - val_loss: 0.4867 - val_sparse_categorical_accuracy: 0.8344 - lr: 0.0100\n",
      "Epoch 7/100\n",
      "3173/3173 [==============================] - 7s 2ms/step - loss: 0.4621 - sparse_categorical_accuracy: 0.8443 - val_loss: 0.4847 - val_sparse_categorical_accuracy: 0.8363 - lr: 0.0100\n",
      "Epoch 8/100\n",
      "3173/3173 [==============================] - 7s 2ms/step - loss: 0.4455 - sparse_categorical_accuracy: 0.8487 - val_loss: 0.4748 - val_sparse_categorical_accuracy: 0.8411 - lr: 0.0100\n",
      "Epoch 9/100\n",
      "3173/3173 [==============================] - 7s 2ms/step - loss: 0.4304 - sparse_categorical_accuracy: 0.8515 - val_loss: 0.4705 - val_sparse_categorical_accuracy: 0.8418 - lr: 0.0100\n",
      "Epoch 10/100\n",
      "3173/3173 [==============================] - 7s 2ms/step - loss: 0.4169 - sparse_categorical_accuracy: 0.8566 - val_loss: 0.4667 - val_sparse_categorical_accuracy: 0.8415 - lr: 0.0100\n",
      "Epoch 11/100\n",
      "3173/3173 [==============================] - 7s 2ms/step - loss: 0.4047 - sparse_categorical_accuracy: 0.8588 - val_loss: 0.4638 - val_sparse_categorical_accuracy: 0.8426 - lr: 0.0100\n",
      "Epoch 12/100\n",
      "3173/3173 [==============================] - 7s 2ms/step - loss: 0.3925 - sparse_categorical_accuracy: 0.8629 - val_loss: 0.4657 - val_sparse_categorical_accuracy: 0.8446 - lr: 0.0100\n",
      "Epoch 13/100\n",
      "3173/3173 [==============================] - 7s 2ms/step - loss: 0.3834 - sparse_categorical_accuracy: 0.8650 - val_loss: 0.4638 - val_sparse_categorical_accuracy: 0.8416 - lr: 0.0100\n",
      "Epoch 14/100\n",
      "3173/3173 [==============================] - 8s 2ms/step - loss: 0.3730 - sparse_categorical_accuracy: 0.8671 - val_loss: 0.4646 - val_sparse_categorical_accuracy: 0.8439 - lr: 0.0100\n",
      "Epoch 15/100\n",
      "3173/3173 [==============================] - 7s 2ms/step - loss: 0.3668 - sparse_categorical_accuracy: 0.8697 - val_loss: 0.4648 - val_sparse_categorical_accuracy: 0.8415 - lr: 0.0100\n",
      "Epoch 16/100\n",
      "3173/3173 [==============================] - 10s 3ms/step - loss: 0.3280 - sparse_categorical_accuracy: 0.8837 - val_loss: 0.4430 - val_sparse_categorical_accuracy: 0.8499 - lr: 0.0050\n",
      "Epoch 17/100\n",
      "3173/3173 [==============================] - 9s 3ms/step - loss: 0.3178 - sparse_categorical_accuracy: 0.8860 - val_loss: 0.4439 - val_sparse_categorical_accuracy: 0.8486 - lr: 0.0050\n",
      "Epoch 18/100\n",
      "3173/3173 [==============================] - 9s 3ms/step - loss: 0.3141 - sparse_categorical_accuracy: 0.8879 - val_loss: 0.4425 - val_sparse_categorical_accuracy: 0.8490 - lr: 0.0050\n",
      "Epoch 19/100\n",
      "3173/3173 [==============================] - 9s 3ms/step - loss: 0.3119 - sparse_categorical_accuracy: 0.8881 - val_loss: 0.4434 - val_sparse_categorical_accuracy: 0.8517 - lr: 0.0050\n",
      "Epoch 20/100\n",
      "3173/3173 [==============================] - 8s 3ms/step - loss: 0.3074 - sparse_categorical_accuracy: 0.8894 - val_loss: 0.4449 - val_sparse_categorical_accuracy: 0.8498 - lr: 0.0050\n",
      "Epoch 21/100\n",
      "3173/3173 [==============================] - 11s 3ms/step - loss: 0.3021 - sparse_categorical_accuracy: 0.8908 - val_loss: 0.4481 - val_sparse_categorical_accuracy: 0.8477 - lr: 0.0050\n",
      "Epoch 22/100\n",
      "3173/3173 [==============================] - 11s 3ms/step - loss: 0.2990 - sparse_categorical_accuracy: 0.8917 - val_loss: 0.4466 - val_sparse_categorical_accuracy: 0.8463 - lr: 0.0050\n",
      "Epoch 23/100\n",
      "3173/3173 [==============================] - 11s 3ms/step - loss: 0.2824 - sparse_categorical_accuracy: 0.8983 - val_loss: 0.4407 - val_sparse_categorical_accuracy: 0.8496 - lr: 0.0025\n",
      "Epoch 24/100\n",
      "3173/3173 [==============================] - 10s 3ms/step - loss: 0.2802 - sparse_categorical_accuracy: 0.8994 - val_loss: 0.4386 - val_sparse_categorical_accuracy: 0.8513 - lr: 0.0025\n",
      "Epoch 25/100\n",
      "3173/3173 [==============================] - 9s 3ms/step - loss: 0.2766 - sparse_categorical_accuracy: 0.8997 - val_loss: 0.4399 - val_sparse_categorical_accuracy: 0.8528 - lr: 0.0025\n",
      "Epoch 26/100\n",
      "3173/3173 [==============================] - 9s 3ms/step - loss: 0.2738 - sparse_categorical_accuracy: 0.9002 - val_loss: 0.4407 - val_sparse_categorical_accuracy: 0.8500 - lr: 0.0025\n",
      "Epoch 27/100\n",
      "3173/3173 [==============================] - 9s 3ms/step - loss: 0.2723 - sparse_categorical_accuracy: 0.9009 - val_loss: 0.4384 - val_sparse_categorical_accuracy: 0.8506 - lr: 0.0025c - ETA: 3s - loss: 0.2689 - sparse_ca - ETA: 1s - loss: 0.2699 - sparse_categorical_ - ETA: 1s - loss: 0.2714 - sparse_catego\n",
      "Epoch 28/100\n",
      "3173/3173 [==============================] - 10s 3ms/step - loss: 0.2710 - sparse_categorical_accuracy: 0.9026 - val_loss: 0.4394 - val_sparse_categorical_accuracy: 0.8520 - lr: 0.0025\n",
      "Epoch 29/100\n",
      "3173/3173 [==============================] - 9s 3ms/step - loss: 0.2680 - sparse_categorical_accuracy: 0.9024 - val_loss: 0.4411 - val_sparse_categorical_accuracy: 0.8519 - lr: 0.0025\n",
      "Epoch 30/100\n",
      "3173/3173 [==============================] - 9s 3ms/step - loss: 0.2682 - sparse_categorical_accuracy: 0.9019 - val_loss: 0.4425 - val_sparse_categorical_accuracy: 0.8508 - lr: 0.002559 - spars - ETA: 2s - loss: 0.2677 - sparse_categorica - ETA: 1s - loss: 0.2673 - sparse - ETA: 0s - loss: 0.2677 - sparse_categorical_accuracy:\n",
      "Epoch 31/100\n",
      "3173/3173 [==============================] - 9s 3ms/step - loss: 0.2650 - sparse_categorical_accuracy: 0.9050 - val_loss: 0.4417 - val_sparse_categorical_accuracy: 0.8528 - lr: 0.0025\n",
      "Epoch 32/100\n",
      "3173/3173 [==============================] - 10s 3ms/step - loss: 0.2580 - sparse_categorical_accuracy: 0.9070 - val_loss: 0.4399 - val_sparse_categorical_accuracy: 0.8534 - lr: 0.0012\n",
      "Epoch 33/100\n",
      "3173/3173 [==============================] - 11s 4ms/step - loss: 0.2564 - sparse_categorical_accuracy: 0.9079 - val_loss: 0.4404 - val_sparse_categorical_accuracy: 0.8547 - lr: 0.0012\n",
      "Epoch 34/100\n",
      "3173/3173 [==============================] - 7s 2ms/step - loss: 0.2551 - sparse_categorical_accuracy: 0.9076 - val_loss: 0.4411 - val_sparse_categorical_accuracy: 0.8528 - lr: 0.0012\n",
      "Epoch 35/100\n",
      "3173/3173 [==============================] - 7s 2ms/step - loss: 0.2522 - sparse_categorical_accuracy: 0.9087 - val_loss: 0.4403 - val_sparse_categorical_accuracy: 0.8527 - lr: 0.0012\n",
      "Epoch 36/100\n",
      "3173/3173 [==============================] - 8s 2ms/step - loss: 0.2496 - sparse_categorical_accuracy: 0.9102 - val_loss: 0.4396 - val_sparse_categorical_accuracy: 0.8533 - lr: 6.2500e-04\n",
      "Epoch 37/100\n",
      "3173/3173 [==============================] - 11s 3ms/step - loss: 0.2483 - sparse_categorical_accuracy: 0.9101 - val_loss: 0.4407 - val_sparse_categorical_accuracy: 0.8534 - lr: 6.2500e-04\n"
     ]
    }
   ],
   "source": [
    "tensorboard_cb = callbacks.TensorBoard(run_logdir)\n",
    "early_stopping_cb = callbacks.EarlyStopping(patience=10, restore_best_weights=True)\n",
    "lr_scheduler_cb = callbacks.ReduceLROnPlateau(factor=0.5, patience=4)\n",
    "history = model.fit(x_train, y_train, epochs=100, validation_split=0.1, callbacks=[early_stopping_cb, lr_scheduler_cb, tensorboard_cb])"
   ]
  },
  {
   "cell_type": "code",
   "execution_count": 302,
   "metadata": {},
   "outputs": [
    {
     "data": {
      "image/png": "[encoded data removed]",
      "text/plain": [
       "<Figure size 576x360 with 1 Axes>"
      ]
     },
     "metadata": {
      "needs_background": "light"
     },
     "output_type": "display_data"
    }
   ],
   "source": [
    "pd.DataFrame(history.history).plot(figsize=(8, 5))\n",
    "plt.grid(True)\n",
    "plt.gca().set_ylim(0, 1) # set the vertical range to [0-1]\n",
    "plt.show()"
   ]
  },
  {
   "cell_type": "code",
   "execution_count": 303,
   "metadata": {},
   "outputs": [],
   "source": [
    "label_map = pd.read_csv(\"Datasets/emnist-balanced-mapping.txt\", \n",
    "                        delimiter = ' ', \n",
    "                        index_col=0, \n",
    "                        header=None, \n",
    "                        squeeze=True)\n",
    "\n",
    "label_dictionary = {}\n",
    "for index, label in enumerate(label_map):\n",
    "    label_dictionary[index] = chr(label)"
   ]
  },
  {
   "cell_type": "code",
   "execution_count": 304,
   "metadata": {},
   "outputs": [],
   "source": [
    "def show_image(image):\n",
    "    image = image.reshape(28,28)\n",
    "    image = numpy.fliplr(image)\n",
    "    image = numpy.rot90(image)\n",
    "\n",
    "    plt.imshow(image, cmap=\"binary\")\n",
    "    plt.axis(\"off\")\n",
    "    plt.show()\n",
    "\n",
    "def get_random_image_with_label():\n",
    "    test_image = random.choice(test[:,:])\n",
    "    x, label = test_image[1:], test_image[0]\n",
    "    x = numpy.expand_dims(x, axis=0)\n",
    "    return x, label\n",
    "\n",
    "def predict_image(image):\n",
    "    image = image / 255.0\n",
    "    y_proba = model.predict(image)\n",
    "    print(y_proba.round(2))\n",
    "    return numpy.argmax(y_proba, axis=1)\n"
   ]
  },
  {
   "cell_type": "code",
   "execution_count": 319,
   "metadata": {},
   "outputs": [
    {
     "data": {
      "image/png": "[encoded data removed]",
      "text/plain": [
       "<Figure size 432x288 with 1 Axes>"
      ]
     },
     "metadata": {
      "needs_background": "light"
     },
     "output_type": "display_data"
    },
    {
     "name": "stdout",
     "output_type": "stream",
     "text": [
      "[[0. 0. 0. 0. 0. 0. 0. 0. 0. 0. 0. 0. 0. 0. 0. 0. 0. 0. 0. 0. 0. 0. 0. 0.\n",
      "  0. 0. 0. 0. 0. 0. 0. 0. 0. 0. 0. 0. 0. 1. 0. 0. 0. 0. 0. 0. 0. 0. 0.]]\n",
      "Acutal label index: 37\n",
      "Actual character: b\n",
      "Predicted label index: 37\n",
      "Predicted character: b\n"
     ]
    }
   ],
   "source": [
    "image, label = get_random_image_with_label()\n",
    "show_image(image)\n",
    "image_class = predict_image(image)\n",
    "print(\"Acutal label index:\", label)\n",
    "print(\"Actual character:\", label_dictionary[label])\n",
    "print(\"Predicted label index:\", image_class[0])\n",
    "print(\"Predicted character:\", label_dictionary[image_class[0]])"
   ]
  },
  {
   "cell_type": "code",
   "execution_count": 306,
   "metadata": {},
   "outputs": [
    {
     "name": "stdout",
     "output_type": "stream",
     "text": [
      "The tensorboard extension is already loaded. To reload it, use:\n",
      "  %reload_ext tensorboard\n"
     ]
    },
    {
     "data": {
      "text/plain": [
       "Reusing TensorBoard on port 6006 (pid 30988), started 14:34:34 ago. (Use '!kill 30988' to kill it.)"
      ]
     },
     "metadata": {},
     "output_type": "display_data"
    },
    {
     "data": {
      "text/html": [
       "\n",
       "      <iframe id=\"tensorboard-frame-b1b8acc9bb309cba\" width=\"100%\" height=\"800\" frameborder=\"0\">\n",
       "      </iframe>\n",
       "      <script>\n",
       "        (function() {\n",
       "          const frame = document.getElementById(\"tensorboard-frame-b1b8acc9bb309cba\");\n",
       "          const url = new URL(\"http://localhost\");\n",
       "          const port = 6006;\n",
       "          if (port) {\n",
       "            url.port = port;\n",
       "          }\n",
       "          frame.src = url;\n",
       "        })();\n",
       "      </script>\n",
       "    "
      ],
      "text/plain": [
       "<IPython.core.display.HTML object>"
      ]
     },
     "metadata": {},
     "output_type": "display_data"
    }
   ],
   "source": [
    "%load_ext tensorboard\n",
    "%tensorboard --logdir=./my_logs --port=6006\n"
   ]
  }
 ],
 "metadata": {
  "interpreter": {
   "hash": "830bd4b94685321d0b550ba9a75ad9d58de144fde38c75487e899dd4e7e6ada5"
  },
  "kernelspec": {
   "display_name": "Python 3.9.8 64-bit",
   "language": "python",
   "name": "python3"
  },
  "language_info": {
   "codemirror_mode": {
    "name": "ipython",
    "version": 3
   },
   "file_extension": ".py",
   "mimetype": "text/x-python",
   "name": "python",
   "nbconvert_exporter": "python",
   "pygments_lexer": "ipython3",
   "version": "3.9.9"
  },
  "orig_nbformat": 4
 },
 "nbformat": 4,
 "nbformat_minor": 2
}
