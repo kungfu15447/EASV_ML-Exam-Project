{
 "cells": [
  {
   "cell_type": "code",
   "execution_count": 74,
   "metadata": {},
   "outputs": [],
   "source": [
    "import pandas as pd\n",
    "import matplotlib.pyplot as plt\n",
    "import numpy\n",
    "from tensorflow import keras\n",
    "from keras.layers import Dense, Flatten, AlphaDropout\n",
    "import keras.callbacks as callbacks;\n",
    "import os"
   ]
  },
  {
   "cell_type": "code",
   "execution_count": 75,
   "metadata": {},
   "outputs": [],
   "source": [
    "root_logdir = os.path.join(os.curdir, \"my_logs\")\n",
    "\n",
    "def get_run_logdir():\n",
    " import time\n",
    " run_id = time.strftime(\"run_%Y_%m_%d-%H_%M_%S\")\n",
    " return os.path.join(root_logdir, run_id)\n",
    "\n",
    "run_logdir = get_run_logdir()"
   ]
  },
  {
   "cell_type": "code",
   "execution_count": 76,
   "metadata": {},
   "outputs": [
    {
     "data": {
      "text/plain": [
       "(112799, 785)"
      ]
     },
     "execution_count": 76,
     "metadata": {},
     "output_type": "execute_result"
    }
   ],
   "source": [
    "test = pd.read_csv(\"Datasets/emnist-balanced-test.csv\").to_numpy()\n",
    "train = pd.read_csv(\"Datasets/emnist-balanced-train.csv\").to_numpy()\n",
    "train.shape"
   ]
  },
  {
   "cell_type": "code",
   "execution_count": 77,
   "metadata": {},
   "outputs": [
    {
     "data": {
      "text/plain": [
       "((107799, 784), (107799,))"
      ]
     },
     "execution_count": 77,
     "metadata": {},
     "output_type": "execute_result"
    }
   ],
   "source": [
    "x_train, x_valid = train[5000:, 1:], train[:5000, 1:]\n",
    "x_train, x_valid = x_train / 255.0, x_valid/ 255.0\n",
    "y_train, y_valid = train[5000:, 0], train[:5000, 0]\n",
    "\n",
    "x_train.shape, y_train.shape"
   ]
  },
  {
   "cell_type": "code",
   "execution_count": 78,
   "metadata": {},
   "outputs": [
    {
     "data": {
      "text/plain": [
       "47"
      ]
     },
     "execution_count": 78,
     "metadata": {},
     "output_type": "execute_result"
    }
   ],
   "source": [
    "y_train_unique = numpy.unique(y_train)\n",
    "y_train_unique.size"
   ]
  },
  {
   "cell_type": "code",
   "execution_count": 79,
   "metadata": {},
   "outputs": [],
   "source": [
    "model = keras.models.Sequential([\n",
    "    Flatten(input_shape=[784]),\n",
    "    Dense(416, activation=\"relu\"),\n",
    "    AlphaDropout(rate=0.2),\n",
    "    Dense(y_train_unique.size, activation=\"softmax\")\n",
    "])"
   ]
  },
  {
   "cell_type": "code",
   "execution_count": 80,
   "metadata": {},
   "outputs": [
    {
     "name": "stdout",
     "output_type": "stream",
     "text": [
      "Model: \"sequential_6\"\n",
      "_________________________________________________________________\n",
      " Layer (type)                Output Shape              Param #   \n",
      "=================================================================\n",
      " flatten_6 (Flatten)         (None, 784)               0         \n",
      "                                                                 \n",
      " dense_23 (Dense)            (None, 416)               326560    \n",
      "                                                                 \n",
      " alpha_dropout_2 (AlphaDropo  (None, 416)              0         \n",
      " ut)                                                             \n",
      "                                                                 \n",
      " dense_24 (Dense)            (None, 47)                19599     \n",
      "                                                                 \n",
      "=================================================================\n",
      "Total params: 346,159\n",
      "Trainable params: 346,159\n",
      "Non-trainable params: 0\n",
      "_________________________________________________________________\n"
     ]
    },
    {
     "data": {
      "text/plain": [
       "(None, (None, 784))"
      ]
     },
     "execution_count": 80,
     "metadata": {},
     "output_type": "execute_result"
    }
   ],
   "source": [
    "model.summary(), model.input_shape"
   ]
  },
  {
   "cell_type": "code",
   "execution_count": 81,
   "metadata": {},
   "outputs": [],
   "source": [
    "model.compile(loss=keras.losses.sparse_categorical_crossentropy, \n",
    "              optimizer=keras.optimizers.SGD(momentum=0.9), \n",
    "              metrics=[keras.metrics.sparse_categorical_accuracy])"
   ]
  },
  {
   "cell_type": "code",
   "execution_count": 82,
   "metadata": {},
   "outputs": [
    {
     "name": "stdout",
     "output_type": "stream",
     "text": [
      "Epoch 1/100\n",
      "3369/3369 [==============================] - 7s 2ms/step - loss: 1.7051 - sparse_categorical_accuracy: 0.5170 - val_loss: 0.9675 - val_sparse_categorical_accuracy: 0.7268 - lr: 0.0100\n",
      "Epoch 2/100\n",
      "3369/3369 [==============================] - 7s 2ms/step - loss: 1.2125 - sparse_categorical_accuracy: 0.6413 - val_loss: 0.8414 - val_sparse_categorical_accuracy: 0.7548 - lr: 0.0100\n",
      "Epoch 3/100\n",
      "3369/3369 [==============================] - 7s 2ms/step - loss: 1.0851 - sparse_categorical_accuracy: 0.6748 - val_loss: 0.7754 - val_sparse_categorical_accuracy: 0.7772 - lr: 0.0100\n",
      "Epoch 4/100\n",
      "3369/3369 [==============================] - 6s 2ms/step - loss: 1.0144 - sparse_categorical_accuracy: 0.6935 - val_loss: 0.7369 - val_sparse_categorical_accuracy: 0.7856 - lr: 0.0100\n",
      "Epoch 5/100\n",
      "3369/3369 [==============================] - 7s 2ms/step - loss: 0.9694 - sparse_categorical_accuracy: 0.7064 - val_loss: 0.7229 - val_sparse_categorical_accuracy: 0.7962 - lr: 0.0100\n",
      "Epoch 6/100\n",
      "3369/3369 [==============================] - 6s 2ms/step - loss: 0.9362 - sparse_categorical_accuracy: 0.7168 - val_loss: 0.7265 - val_sparse_categorical_accuracy: 0.7924 - lr: 0.0100\n",
      "Epoch 7/100\n",
      "3369/3369 [==============================] - 6s 2ms/step - loss: 0.9079 - sparse_categorical_accuracy: 0.7265 - val_loss: 0.6964 - val_sparse_categorical_accuracy: 0.8030 - lr: 0.0100\n",
      "Epoch 8/100\n",
      "3369/3369 [==============================] - 7s 2ms/step - loss: 0.8851 - sparse_categorical_accuracy: 0.7307 - val_loss: 0.6960 - val_sparse_categorical_accuracy: 0.8120 - lr: 0.0100\n",
      "Epoch 9/100\n",
      "3369/3369 [==============================] - 6s 2ms/step - loss: 0.8654 - sparse_categorical_accuracy: 0.7363 - val_loss: 0.6390 - val_sparse_categorical_accuracy: 0.8172 - lr: 0.0100\n",
      "Epoch 10/100\n",
      "3369/3369 [==============================] - 7s 2ms/step - loss: 0.8485 - sparse_categorical_accuracy: 0.7415 - val_loss: 0.6904 - val_sparse_categorical_accuracy: 0.8006 - lr: 0.0100\n",
      "Epoch 11/100\n",
      "3369/3369 [==============================] - 7s 2ms/step - loss: 0.8378 - sparse_categorical_accuracy: 0.7446 - val_loss: 0.6805 - val_sparse_categorical_accuracy: 0.8094 - lr: 0.0100\n",
      "Epoch 12/100\n",
      "3369/3369 [==============================] - 7s 2ms/step - loss: 0.8280 - sparse_categorical_accuracy: 0.7482 - val_loss: 0.6541 - val_sparse_categorical_accuracy: 0.8200 - lr: 0.0100\n",
      "Epoch 13/100\n",
      "3369/3369 [==============================] - 7s 2ms/step - loss: 0.8182 - sparse_categorical_accuracy: 0.7498 - val_loss: 0.6724 - val_sparse_categorical_accuracy: 0.8180 - lr: 0.0100\n",
      "Epoch 14/100\n",
      "3369/3369 [==============================] - 7s 2ms/step - loss: 0.7332 - sparse_categorical_accuracy: 0.7686 - val_loss: 0.5987 - val_sparse_categorical_accuracy: 0.8350 - lr: 0.0050\n",
      "Epoch 15/100\n",
      "3369/3369 [==============================] - 7s 2ms/step - loss: 0.7043 - sparse_categorical_accuracy: 0.7755 - val_loss: 0.5892 - val_sparse_categorical_accuracy: 0.8290 - lr: 0.0050\n",
      "Epoch 16/100\n",
      "3369/3369 [==============================] - 7s 2ms/step - loss: 0.6933 - sparse_categorical_accuracy: 0.7760 - val_loss: 0.5828 - val_sparse_categorical_accuracy: 0.8320 - lr: 0.0050\n",
      "Epoch 17/100\n",
      "3369/3369 [==============================] - 7s 2ms/step - loss: 0.6904 - sparse_categorical_accuracy: 0.7775 - val_loss: 0.5757 - val_sparse_categorical_accuracy: 0.8306 - lr: 0.0050\n",
      "Epoch 18/100\n",
      "3369/3369 [==============================] - 7s 2ms/step - loss: 0.6792 - sparse_categorical_accuracy: 0.7802 - val_loss: 0.5757 - val_sparse_categorical_accuracy: 0.8332 - lr: 0.0050\n",
      "Epoch 19/100\n",
      "3369/3369 [==============================] - 7s 2ms/step - loss: 0.6798 - sparse_categorical_accuracy: 0.7796 - val_loss: 0.6005 - val_sparse_categorical_accuracy: 0.8288 - lr: 0.0050\n",
      "Epoch 20/100\n",
      "3369/3369 [==============================] - 7s 2ms/step - loss: 0.6697 - sparse_categorical_accuracy: 0.7826 - val_loss: 0.5676 - val_sparse_categorical_accuracy: 0.8338 - lr: 0.0050\n",
      "Epoch 21/100\n",
      "3369/3369 [==============================] - 7s 2ms/step - loss: 0.6690 - sparse_categorical_accuracy: 0.7835 - val_loss: 0.5625 - val_sparse_categorical_accuracy: 0.8334 - lr: 0.0050\n",
      "Epoch 22/100\n",
      "3369/3369 [==============================] - 7s 2ms/step - loss: 0.6654 - sparse_categorical_accuracy: 0.7839 - val_loss: 0.5549 - val_sparse_categorical_accuracy: 0.8364 - lr: 0.0050\n",
      "Epoch 23/100\n",
      "3369/3369 [==============================] - 7s 2ms/step - loss: 0.6667 - sparse_categorical_accuracy: 0.7846 - val_loss: 0.5581 - val_sparse_categorical_accuracy: 0.8398 - lr: 0.0050\n",
      "Epoch 24/100\n",
      "3369/3369 [==============================] - 7s 2ms/step - loss: 0.6567 - sparse_categorical_accuracy: 0.7861 - val_loss: 0.5691 - val_sparse_categorical_accuracy: 0.8342 - lr: 0.0050\n",
      "Epoch 25/100\n",
      "3369/3369 [==============================] - 7s 2ms/step - loss: 0.6558 - sparse_categorical_accuracy: 0.7868 - val_loss: 0.5495 - val_sparse_categorical_accuracy: 0.8390 - lr: 0.0050\n",
      "Epoch 26/100\n",
      "3369/3369 [==============================] - 7s 2ms/step - loss: 0.6579 - sparse_categorical_accuracy: 0.7861 - val_loss: 0.5689 - val_sparse_categorical_accuracy: 0.8370 - lr: 0.0050\n",
      "Epoch 27/100\n",
      "3369/3369 [==============================] - 7s 2ms/step - loss: 0.6500 - sparse_categorical_accuracy: 0.7874 - val_loss: 0.5618 - val_sparse_categorical_accuracy: 0.8398 - lr: 0.0050\n",
      "Epoch 28/100\n",
      "3369/3369 [==============================] - 7s 2ms/step - loss: 0.6516 - sparse_categorical_accuracy: 0.7880 - val_loss: 0.5558 - val_sparse_categorical_accuracy: 0.8342 - lr: 0.0050\n",
      "Epoch 29/100\n",
      "3369/3369 [==============================] - 7s 2ms/step - loss: 0.6440 - sparse_categorical_accuracy: 0.7899 - val_loss: 0.5546 - val_sparse_categorical_accuracy: 0.8376 - lr: 0.0050\n",
      "Epoch 30/100\n",
      "3369/3369 [==============================] - 7s 2ms/step - loss: 0.6095 - sparse_categorical_accuracy: 0.7987 - val_loss: 0.5292 - val_sparse_categorical_accuracy: 0.8438 - lr: 0.0025\n",
      "Epoch 31/100\n",
      "3369/3369 [==============================] - 7s 2ms/step - loss: 0.5996 - sparse_categorical_accuracy: 0.8010 - val_loss: 0.5285 - val_sparse_categorical_accuracy: 0.8452 - lr: 0.0025\n",
      "Epoch 32/100\n",
      "3369/3369 [==============================] - 7s 2ms/step - loss: 0.5946 - sparse_categorical_accuracy: 0.8026 - val_loss: 0.5272 - val_sparse_categorical_accuracy: 0.8432 - lr: 0.0025\n",
      "Epoch 33/100\n",
      "3369/3369 [==============================] - 7s 2ms/step - loss: 0.5914 - sparse_categorical_accuracy: 0.8038 - val_loss: 0.5290 - val_sparse_categorical_accuracy: 0.8376 - lr: 0.0025\n",
      "Epoch 34/100\n",
      "3369/3369 [==============================] - 7s 2ms/step - loss: 0.5907 - sparse_categorical_accuracy: 0.8043 - val_loss: 0.5181 - val_sparse_categorical_accuracy: 0.8412 - lr: 0.0025\n",
      "Epoch 35/100\n",
      "3369/3369 [==============================] - 7s 2ms/step - loss: 0.5866 - sparse_categorical_accuracy: 0.8053 - val_loss: 0.5187 - val_sparse_categorical_accuracy: 0.8436 - lr: 0.0025\n",
      "Epoch 36/100\n",
      "3369/3369 [==============================] - 7s 2ms/step - loss: 0.5863 - sparse_categorical_accuracy: 0.8045 - val_loss: 0.5261 - val_sparse_categorical_accuracy: 0.8418 - lr: 0.0025\n",
      "Epoch 37/100\n",
      "3369/3369 [==============================] - 8s 2ms/step - loss: 0.5848 - sparse_categorical_accuracy: 0.8048 - val_loss: 0.5203 - val_sparse_categorical_accuracy: 0.8420 - lr: 0.0025\n",
      "Epoch 38/100\n",
      "3369/3369 [==============================] - 8s 2ms/step - loss: 0.5840 - sparse_categorical_accuracy: 0.8050 - val_loss: 0.5274 - val_sparse_categorical_accuracy: 0.8414 - lr: 0.0025\n",
      "Epoch 39/100\n",
      "3369/3369 [==============================] - 8s 2ms/step - loss: 0.5652 - sparse_categorical_accuracy: 0.8111 - val_loss: 0.5126 - val_sparse_categorical_accuracy: 0.8426 - lr: 0.0012\n",
      "Epoch 40/100\n",
      "3369/3369 [==============================] - 8s 2ms/step - loss: 0.5624 - sparse_categorical_accuracy: 0.8118 - val_loss: 0.5012 - val_sparse_categorical_accuracy: 0.8472 - lr: 0.0012\n",
      "Epoch 41/100\n",
      "3369/3369 [==============================] - 8s 2ms/step - loss: 0.5607 - sparse_categorical_accuracy: 0.8127 - val_loss: 0.5038 - val_sparse_categorical_accuracy: 0.8492 - lr: 0.0012\n",
      "Epoch 42/100\n",
      "3369/3369 [==============================] - 8s 2ms/step - loss: 0.5591 - sparse_categorical_accuracy: 0.8122 - val_loss: 0.4985 - val_sparse_categorical_accuracy: 0.8484 - lr: 0.0012\n",
      "Epoch 43/100\n",
      "3369/3369 [==============================] - 7s 2ms/step - loss: 0.5559 - sparse_categorical_accuracy: 0.8133 - val_loss: 0.5008 - val_sparse_categorical_accuracy: 0.8484 - lr: 0.0012\n",
      "Epoch 44/100\n",
      "3369/3369 [==============================] - 7s 2ms/step - loss: 0.5538 - sparse_categorical_accuracy: 0.8137 - val_loss: 0.5042 - val_sparse_categorical_accuracy: 0.8416 - lr: 0.0012\n",
      "Epoch 45/100\n",
      "3369/3369 [==============================] - 7s 2ms/step - loss: 0.5528 - sparse_categorical_accuracy: 0.8140 - val_loss: 0.4962 - val_sparse_categorical_accuracy: 0.8480 - lr: 0.0012\n",
      "Epoch 46/100\n",
      "3369/3369 [==============================] - 8s 2ms/step - loss: 0.5559 - sparse_categorical_accuracy: 0.8125 - val_loss: 0.4973 - val_sparse_categorical_accuracy: 0.8492 - lr: 0.0012\n",
      "Epoch 47/100\n",
      "3369/3369 [==============================] - 8s 2ms/step - loss: 0.5554 - sparse_categorical_accuracy: 0.8137 - val_loss: 0.4951 - val_sparse_categorical_accuracy: 0.8500 - lr: 0.0012\n",
      "Epoch 48/100\n",
      "3369/3369 [==============================] - 8s 2ms/step - loss: 0.5531 - sparse_categorical_accuracy: 0.8130 - val_loss: 0.4958 - val_sparse_categorical_accuracy: 0.8492 - lr: 0.0012\n",
      "Epoch 49/100\n",
      "3369/3369 [==============================] - 8s 2ms/step - loss: 0.5505 - sparse_categorical_accuracy: 0.8146 - val_loss: 0.5043 - val_sparse_categorical_accuracy: 0.8440 - lr: 0.0012\n",
      "Epoch 50/100\n",
      "3369/3369 [==============================] - 8s 2ms/step - loss: 0.5517 - sparse_categorical_accuracy: 0.8141 - val_loss: 0.5034 - val_sparse_categorical_accuracy: 0.8460 - lr: 0.0012\n",
      "Epoch 51/100\n",
      "3369/3369 [==============================] - 8s 2ms/step - loss: 0.5540 - sparse_categorical_accuracy: 0.8130 - val_loss: 0.4899 - val_sparse_categorical_accuracy: 0.8502 - lr: 0.0012\n",
      "Epoch 52/100\n",
      "3369/3369 [==============================] - 8s 2ms/step - loss: 0.5482 - sparse_categorical_accuracy: 0.8140 - val_loss: 0.5009 - val_sparse_categorical_accuracy: 0.8470 - lr: 0.0012\n",
      "Epoch 53/100\n",
      "3369/3369 [==============================] - 7s 2ms/step - loss: 0.5479 - sparse_categorical_accuracy: 0.8163 - val_loss: 0.4993 - val_sparse_categorical_accuracy: 0.8482 - lr: 0.0012\n",
      "Epoch 54/100\n",
      "3369/3369 [==============================] - 8s 2ms/step - loss: 0.5502 - sparse_categorical_accuracy: 0.8138 - val_loss: 0.4988 - val_sparse_categorical_accuracy: 0.8476 - lr: 0.0012\n",
      "Epoch 55/100\n",
      "3369/3369 [==============================] - 8s 2ms/step - loss: 0.5471 - sparse_categorical_accuracy: 0.8151 - val_loss: 0.4994 - val_sparse_categorical_accuracy: 0.8478 - lr: 0.0012\n",
      "Epoch 56/100\n",
      "3369/3369 [==============================] - 8s 2ms/step - loss: 0.5353 - sparse_categorical_accuracy: 0.8197 - val_loss: 0.4940 - val_sparse_categorical_accuracy: 0.8498 - lr: 6.2500e-04\n",
      "Epoch 57/100\n",
      "3369/3369 [==============================] - 8s 2ms/step - loss: 0.5395 - sparse_categorical_accuracy: 0.8177 - val_loss: 0.4948 - val_sparse_categorical_accuracy: 0.8486 - lr: 6.2500e-04\n",
      "Epoch 58/100\n",
      "3369/3369 [==============================] - 8s 2ms/step - loss: 0.5362 - sparse_categorical_accuracy: 0.8199 - val_loss: 0.4885 - val_sparse_categorical_accuracy: 0.8528 - lr: 6.2500e-04\n",
      "Epoch 59/100\n",
      "3369/3369 [==============================] - 7s 2ms/step - loss: 0.5321 - sparse_categorical_accuracy: 0.8217 - val_loss: 0.4963 - val_sparse_categorical_accuracy: 0.8490 - lr: 6.2500e-04\n",
      "Epoch 60/100\n",
      "3369/3369 [==============================] - 7s 2ms/step - loss: 0.5370 - sparse_categorical_accuracy: 0.8201 - val_loss: 0.4933 - val_sparse_categorical_accuracy: 0.8476 - lr: 6.2500e-04\n",
      "Epoch 61/100\n",
      "3369/3369 [==============================] - 7s 2ms/step - loss: 0.5344 - sparse_categorical_accuracy: 0.8209 - val_loss: 0.4924 - val_sparse_categorical_accuracy: 0.8482 - lr: 6.2500e-04\n",
      "Epoch 62/100\n",
      "3369/3369 [==============================] - 7s 2ms/step - loss: 0.5326 - sparse_categorical_accuracy: 0.8207 - val_loss: 0.4891 - val_sparse_categorical_accuracy: 0.8500 - lr: 6.2500e-04\n",
      "Epoch 63/100\n",
      "3369/3369 [==============================] - 7s 2ms/step - loss: 0.5252 - sparse_categorical_accuracy: 0.8232 - val_loss: 0.4893 - val_sparse_categorical_accuracy: 0.8506 - lr: 3.1250e-04\n",
      "Epoch 64/100\n",
      "3369/3369 [==============================] - 7s 2ms/step - loss: 0.5263 - sparse_categorical_accuracy: 0.8227 - val_loss: 0.4876 - val_sparse_categorical_accuracy: 0.8520 - lr: 3.1250e-04\n",
      "Epoch 65/100\n",
      "3369/3369 [==============================] - 7s 2ms/step - loss: 0.5273 - sparse_categorical_accuracy: 0.8228 - val_loss: 0.4878 - val_sparse_categorical_accuracy: 0.8496 - lr: 3.1250e-04\n",
      "Epoch 66/100\n",
      "3369/3369 [==============================] - 8s 2ms/step - loss: 0.5258 - sparse_categorical_accuracy: 0.8229 - val_loss: 0.4853 - val_sparse_categorical_accuracy: 0.8550 - lr: 3.1250e-04\n",
      "Epoch 67/100\n",
      "3369/3369 [==============================] - 7s 2ms/step - loss: 0.5284 - sparse_categorical_accuracy: 0.8226 - val_loss: 0.4875 - val_sparse_categorical_accuracy: 0.8526 - lr: 3.1250e-04\n",
      "Epoch 68/100\n",
      "3369/3369 [==============================] - 7s 2ms/step - loss: 0.5284 - sparse_categorical_accuracy: 0.8223 - val_loss: 0.4847 - val_sparse_categorical_accuracy: 0.8484 - lr: 3.1250e-04\n",
      "Epoch 69/100\n",
      "3369/3369 [==============================] - 7s 2ms/step - loss: 0.5253 - sparse_categorical_accuracy: 0.8227 - val_loss: 0.4817 - val_sparse_categorical_accuracy: 0.8526 - lr: 3.1250e-04\n",
      "Epoch 70/100\n",
      "3369/3369 [==============================] - 8s 2ms/step - loss: 0.5255 - sparse_categorical_accuracy: 0.8236 - val_loss: 0.4839 - val_sparse_categorical_accuracy: 0.8494 - lr: 3.1250e-04\n",
      "Epoch 71/100\n",
      "3369/3369 [==============================] - 8s 2ms/step - loss: 0.5236 - sparse_categorical_accuracy: 0.8230 - val_loss: 0.4844 - val_sparse_categorical_accuracy: 0.8508 - lr: 3.1250e-04\n",
      "Epoch 72/100\n",
      "3369/3369 [==============================] - 7s 2ms/step - loss: 0.5254 - sparse_categorical_accuracy: 0.8221 - val_loss: 0.4822 - val_sparse_categorical_accuracy: 0.8542 - lr: 3.1250e-04\n",
      "Epoch 73/100\n",
      "3369/3369 [==============================] - 7s 2ms/step - loss: 0.5245 - sparse_categorical_accuracy: 0.8236 - val_loss: 0.4859 - val_sparse_categorical_accuracy: 0.8520 - lr: 3.1250e-04\n",
      "Epoch 74/100\n",
      "3369/3369 [==============================] - 8s 2ms/step - loss: 0.5244 - sparse_categorical_accuracy: 0.8243 - val_loss: 0.4837 - val_sparse_categorical_accuracy: 0.8508 - lr: 1.5625e-04\n",
      "Epoch 75/100\n",
      "3369/3369 [==============================] - 8s 2ms/step - loss: 0.5229 - sparse_categorical_accuracy: 0.8239 - val_loss: 0.4849 - val_sparse_categorical_accuracy: 0.8484 - lr: 1.5625e-04\n",
      "Epoch 76/100\n",
      "3369/3369 [==============================] - 7s 2ms/step - loss: 0.5203 - sparse_categorical_accuracy: 0.8236 - val_loss: 0.4829 - val_sparse_categorical_accuracy: 0.8516 - lr: 1.5625e-04\n",
      "Epoch 77/100\n",
      "3369/3369 [==============================] - 7s 2ms/step - loss: 0.5264 - sparse_categorical_accuracy: 0.8234 - val_loss: 0.4825 - val_sparse_categorical_accuracy: 0.8528 - lr: 1.5625e-04\n",
      "Epoch 78/100\n",
      "3369/3369 [==============================] - 7s 2ms/step - loss: 0.5193 - sparse_categorical_accuracy: 0.8253 - val_loss: 0.4829 - val_sparse_categorical_accuracy: 0.8500 - lr: 7.8125e-05\n",
      "Epoch 79/100\n",
      "3369/3369 [==============================] - 7s 2ms/step - loss: 0.5212 - sparse_categorical_accuracy: 0.8260 - val_loss: 0.4822 - val_sparse_categorical_accuracy: 0.8522 - lr: 7.8125e-05\n"
     ]
    }
   ],
   "source": [
    "tensorboard_cb = callbacks.TensorBoard(run_logdir)\n",
    "early_stopping_cb = callbacks.EarlyStopping(patience=10, restore_best_weights=True)\n",
    "lr_scheduler_cb = callbacks.ReduceLROnPlateau(factor=0.5, patience=4)\n",
    "history = model.fit(x_train, y_train, epochs=100, validation_data=(x_valid, y_valid), callbacks=[early_stopping_cb, lr_scheduler_cb, tensorboard_cb])"
   ]
  },
  {
   "cell_type": "code",
   "execution_count": 83,
   "metadata": {},
   "outputs": [
    {
     "data": {
      "image/png": "[encoded data removed]",
      "text/plain": [
       "<Figure size 576x360 with 1 Axes>"
      ]
     },
     "metadata": {
      "needs_background": "light"
     },
     "output_type": "display_data"
    }
   ],
   "source": [
    "pd.DataFrame(history.history).plot(figsize=(8, 5))\n",
    "plt.grid(True)\n",
    "plt.gca().set_ylim(0, 1) # set the vertical range to [0-1]\n",
    "plt.show()"
   ]
  },
  {
   "cell_type": "code",
   "execution_count": 84,
   "metadata": {},
   "outputs": [
    {
     "data": {
      "text/plain": [
       "((3, 784), (3,))"
      ]
     },
     "execution_count": 84,
     "metadata": {},
     "output_type": "execute_result"
    }
   ],
   "source": [
    "x_test = test[:3,1:]\n",
    "x_test = x_test / 255.0\n",
    "y_test = test[:3, 0]\n",
    "x_test.shape, y_test.shape"
   ]
  },
  {
   "cell_type": "code",
   "execution_count": 85,
   "metadata": {},
   "outputs": [
    {
     "data": {
      "text/plain": [
       "array([[0.  , 0.  , 0.  , 0.  , 0.  , 0.  , 0.  , 0.  , 0.  , 0.  , 0.  ,\n",
       "        0.  , 0.  , 0.  , 0.  , 0.  , 0.  , 0.  , 0.  , 0.  , 0.  , 0.  ,\n",
       "        0.  , 0.  , 0.  , 0.  , 0.  , 0.  , 0.  , 0.  , 0.  , 0.  , 0.  ,\n",
       "        0.  , 0.  , 0.  , 0.  , 0.  , 0.  , 1.  , 0.  , 0.  , 0.  , 0.  ,\n",
       "        0.  , 0.  , 0.  ],\n",
       "       [0.  , 0.  , 0.  , 0.  , 0.  , 0.  , 0.  , 0.  , 0.  , 0.87, 0.  ,\n",
       "        0.  , 0.  , 0.  , 0.  , 0.  , 0.  , 0.  , 0.  , 0.  , 0.  , 0.  ,\n",
       "        0.  , 0.  , 0.  , 0.  , 0.  , 0.  , 0.  , 0.  , 0.  , 0.  , 0.  ,\n",
       "        0.  , 0.  , 0.  , 0.  , 0.  , 0.  , 0.  , 0.  , 0.02, 0.  , 0.  ,\n",
       "        0.11, 0.  , 0.  ],\n",
       "       [0.  , 0.  , 0.  , 0.  , 0.  , 0.  , 0.  , 0.  , 0.  , 0.  , 0.  ,\n",
       "        0.  , 0.  , 0.  , 0.  , 0.  , 0.  , 0.  , 0.  , 0.  , 0.  , 0.  ,\n",
       "        0.  , 0.  , 0.  , 0.01, 0.99, 0.  , 0.  , 0.  , 0.  , 0.  , 0.  ,\n",
       "        0.  , 0.  , 0.  , 0.  , 0.  , 0.  , 0.  , 0.  , 0.  , 0.  , 0.  ,\n",
       "        0.  , 0.  , 0.  ]], dtype=float32)"
      ]
     },
     "execution_count": 85,
     "metadata": {},
     "output_type": "execute_result"
    }
   ],
   "source": [
    "y_proba = model.predict(x_test)\n",
    "y_proba.round(2)"
   ]
  },
  {
   "cell_type": "code",
   "execution_count": 86,
   "metadata": {},
   "outputs": [
    {
     "data": {
      "text/plain": [
       "array([39,  9, 26], dtype=int64)"
      ]
     },
     "execution_count": 86,
     "metadata": {},
     "output_type": "execute_result"
    }
   ],
   "source": [
    "classes = numpy.argmax(y_proba, axis=1)\n",
    "classes"
   ]
  },
  {
   "cell_type": "code",
   "execution_count": 87,
   "metadata": {},
   "outputs": [
    {
     "data": {
      "text/html": [
       "\n",
       "      <iframe id=\"tensorboard-frame-dcfa15546f6958dc\" width=\"100%\" height=\"800\" frameborder=\"0\">\n",
       "      </iframe>\n",
       "      <script>\n",
       "        (function() {\n",
       "          const frame = document.getElementById(\"tensorboard-frame-dcfa15546f6958dc\");\n",
       "          const url = new URL(\"/\", window.location);\n",
       "          const port = 6006;\n",
       "          if (port) {\n",
       "            url.port = port;\n",
       "          }\n",
       "          frame.src = url;\n",
       "        })();\n",
       "      </script>\n",
       "    "
      ],
      "text/plain": [
       "<IPython.core.display.HTML object>"
      ]
     },
     "metadata": {},
     "output_type": "display_data"
    }
   ],
   "source": [
    "%load_ext tensorboard\n",
    "%tensorboard --logdir=./my_logs --port=6006\n"
   ]
  }
 ],
 "metadata": {
  "interpreter": {
   "hash": "830bd4b94685321d0b550ba9a75ad9d58de144fde38c75487e899dd4e7e6ada5"
  },
  "kernelspec": {
   "display_name": "Python 3.9.8 64-bit",
   "language": "python",
   "name": "python3"
  },
  "language_info": {
   "codemirror_mode": {
    "name": "ipython",
    "version": 3
   },
   "file_extension": ".py",
   "mimetype": "text/x-python",
   "name": "python",
   "nbconvert_exporter": "python",
   "pygments_lexer": "ipython3",
   "version": "3.9.9"
  },
  "orig_nbformat": 4
 },
 "nbformat": 4,
 "nbformat_minor": 2
}
