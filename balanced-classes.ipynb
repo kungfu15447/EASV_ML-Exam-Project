{
 "cells": [
  {
   "cell_type": "code",
   "execution_count": 13,
   "metadata": {},
   "outputs": [],
   "source": [
    "import pandas as pd\n",
    "import matplotlib.pyplot as plt\n",
    "import numpy\n",
    "from tensorflow import keras\n",
    "from keras.layers import Dense, Flatten\n",
    "import keras.callbacks as callbacks;"
   ]
  },
  {
   "cell_type": "code",
   "execution_count": 3,
   "metadata": {},
   "outputs": [
    {
     "data": {
      "text/plain": [
       "(112799, 785)"
      ]
     },
     "execution_count": 3,
     "metadata": {},
     "output_type": "execute_result"
    }
   ],
   "source": [
    "test = pd.read_csv(\"Datasets/emnist-balanced-test.csv\").to_numpy()\n",
    "train = pd.read_csv(\"Datasets/emnist-balanced-train.csv\").to_numpy()\n",
    "train.shape"
   ]
  },
  {
   "cell_type": "code",
   "execution_count": 4,
   "metadata": {},
   "outputs": [
    {
     "data": {
      "text/plain": [
       "((107799, 784), (107799,))"
      ]
     },
     "execution_count": 4,
     "metadata": {},
     "output_type": "execute_result"
    }
   ],
   "source": [
    "x_train, x_valid = train[5000:, 1:], train[:5000, 1:]\n",
    "x_train, x_valid = x_train / 255.0, x_valid/ 255.0\n",
    "y_train, y_valid = train[5000:, 0], train[:5000, 0]\n",
    "\n",
    "x_train.shape, y_train.shape"
   ]
  },
  {
   "cell_type": "code",
   "execution_count": 5,
   "metadata": {},
   "outputs": [
    {
     "data": {
      "text/plain": [
       "47"
      ]
     },
     "execution_count": 5,
     "metadata": {},
     "output_type": "execute_result"
    }
   ],
   "source": [
    "y_train_unique = numpy.unique(y_train)\n",
    "y_train_unique.size"
   ]
  },
  {
   "cell_type": "code",
   "execution_count": 6,
   "metadata": {},
   "outputs": [],
   "source": [
    "model = keras.models.Sequential([\n",
    "    Flatten(input_shape=[784]),\n",
    "    Dense(300, activation=\"relu\"),\n",
    "    Dense(300, activation=\"relu\"),\n",
    "    Dense(300, activation=\"relu\"),\n",
    "    Dense(300, activation=\"relu\"),\n",
    "    Dense(y_train_unique.size, activation=\"softmax\")\n",
    "])"
   ]
  },
  {
   "cell_type": "code",
   "execution_count": 7,
   "metadata": {},
   "outputs": [
    {
     "name": "stdout",
     "output_type": "stream",
     "text": [
      "Model: \"sequential\"\n",
      "_________________________________________________________________\n",
      " Layer (type)                Output Shape              Param #   \n",
      "=================================================================\n",
      " flatten (Flatten)           (None, 784)               0         \n",
      "                                                                 \n",
      " dense (Dense)               (None, 300)               235500    \n",
      "                                                                 \n",
      " dense_1 (Dense)             (None, 300)               90300     \n",
      "                                                                 \n",
      " dense_2 (Dense)             (None, 300)               90300     \n",
      "                                                                 \n",
      " dense_3 (Dense)             (None, 300)               90300     \n",
      "                                                                 \n",
      " dense_4 (Dense)             (None, 47)                14147     \n",
      "                                                                 \n",
      "=================================================================\n",
      "Total params: 520,547\n",
      "Trainable params: 520,547\n",
      "Non-trainable params: 0\n",
      "_________________________________________________________________\n"
     ]
    },
    {
     "data": {
      "text/plain": [
       "(None, (None, 784))"
      ]
     },
     "execution_count": 7,
     "metadata": {},
     "output_type": "execute_result"
    }
   ],
   "source": [
    "model.summary(), model.input_shape"
   ]
  },
  {
   "cell_type": "code",
   "execution_count": 8,
   "metadata": {},
   "outputs": [],
   "source": [
    "model.compile(loss=keras.losses.sparse_categorical_crossentropy, \n",
    "              optimizer=keras.optimizers.SGD(learning_rate=0.01), \n",
    "              metrics=[keras.metrics.sparse_categorical_accuracy])"
   ]
  },
  {
   "cell_type": "code",
   "execution_count": 9,
   "metadata": {},
   "outputs": [
    {
     "name": "stdout",
     "output_type": "stream",
     "text": [
      "Epoch 1/100\n",
      "3369/3369 [==============================] - 6s 2ms/step - loss: 1.8733 - sparse_categorical_accuracy: 0.5011 - val_loss: 1.0957 - val_sparse_categorical_accuracy: 0.6804\n",
      "Epoch 2/100\n",
      "3369/3369 [==============================] - 6s 2ms/step - loss: 0.9282 - sparse_categorical_accuracy: 0.7214 - val_loss: 0.8022 - val_sparse_categorical_accuracy: 0.7600\n",
      "Epoch 3/100\n",
      "3369/3369 [==============================] - 5s 2ms/step - loss: 0.7331 - sparse_categorical_accuracy: 0.7715 - val_loss: 0.7007 - val_sparse_categorical_accuracy: 0.7784\n",
      "Epoch 4/100\n",
      "3369/3369 [==============================] - 5s 2ms/step - loss: 0.6320 - sparse_categorical_accuracy: 0.7983 - val_loss: 0.6264 - val_sparse_categorical_accuracy: 0.7978\n",
      "Epoch 5/100\n",
      "3369/3369 [==============================] - 5s 2ms/step - loss: 0.5685 - sparse_categorical_accuracy: 0.8156 - val_loss: 0.5674 - val_sparse_categorical_accuracy: 0.8202\n",
      "Epoch 6/100\n",
      "3369/3369 [==============================] - 5s 2ms/step - loss: 0.5224 - sparse_categorical_accuracy: 0.8281 - val_loss: 0.5515 - val_sparse_categorical_accuracy: 0.8150\n",
      "Epoch 7/100\n",
      "3369/3369 [==============================] - 5s 2ms/step - loss: 0.4874 - sparse_categorical_accuracy: 0.8380 - val_loss: 0.5190 - val_sparse_categorical_accuracy: 0.8282\n",
      "Epoch 8/100\n",
      "3369/3369 [==============================] - 6s 2ms/step - loss: 0.4590 - sparse_categorical_accuracy: 0.8454 - val_loss: 0.5101 - val_sparse_categorical_accuracy: 0.8260\n",
      "Epoch 9/100\n",
      "3369/3369 [==============================] - 6s 2ms/step - loss: 0.4362 - sparse_categorical_accuracy: 0.8512 - val_loss: 0.4869 - val_sparse_categorical_accuracy: 0.8456\n",
      "Epoch 10/100\n",
      "3369/3369 [==============================] - 5s 2ms/step - loss: 0.4157 - sparse_categorical_accuracy: 0.8568 - val_loss: 0.4714 - val_sparse_categorical_accuracy: 0.8432\n",
      "Epoch 11/100\n",
      "3369/3369 [==============================] - 6s 2ms/step - loss: 0.3977 - sparse_categorical_accuracy: 0.8627 - val_loss: 0.4699 - val_sparse_categorical_accuracy: 0.8488\n",
      "Epoch 12/100\n",
      "3369/3369 [==============================] - 6s 2ms/step - loss: 0.3818 - sparse_categorical_accuracy: 0.8677 - val_loss: 0.4849 - val_sparse_categorical_accuracy: 0.8410\n",
      "Epoch 13/100\n",
      "3369/3369 [==============================] - 6s 2ms/step - loss: 0.3678 - sparse_categorical_accuracy: 0.8706 - val_loss: 0.4580 - val_sparse_categorical_accuracy: 0.8464\n",
      "Epoch 14/100\n",
      "3369/3369 [==============================] - 6s 2ms/step - loss: 0.3547 - sparse_categorical_accuracy: 0.8742 - val_loss: 0.4592 - val_sparse_categorical_accuracy: 0.8452\n",
      "Epoch 15/100\n",
      "3369/3369 [==============================] - 5s 2ms/step - loss: 0.3429 - sparse_categorical_accuracy: 0.8773 - val_loss: 0.4644 - val_sparse_categorical_accuracy: 0.8458\n",
      "Epoch 16/100\n",
      "3369/3369 [==============================] - 5s 2ms/step - loss: 0.3313 - sparse_categorical_accuracy: 0.8806 - val_loss: 0.4564 - val_sparse_categorical_accuracy: 0.8468\n",
      "Epoch 17/100\n",
      "3369/3369 [==============================] - 6s 2ms/step - loss: 0.3208 - sparse_categorical_accuracy: 0.8847 - val_loss: 0.4552 - val_sparse_categorical_accuracy: 0.8496\n",
      "Epoch 18/100\n",
      "3369/3369 [==============================] - 6s 2ms/step - loss: 0.3101 - sparse_categorical_accuracy: 0.8871 - val_loss: 0.4485 - val_sparse_categorical_accuracy: 0.8496\n",
      "Epoch 19/100\n",
      "3369/3369 [==============================] - 6s 2ms/step - loss: 0.3009 - sparse_categorical_accuracy: 0.8896 - val_loss: 0.4364 - val_sparse_categorical_accuracy: 0.8620\n",
      "Epoch 20/100\n",
      "3369/3369 [==============================] - 6s 2ms/step - loss: 0.2921 - sparse_categorical_accuracy: 0.8925 - val_loss: 0.4552 - val_sparse_categorical_accuracy: 0.8508\n",
      "Epoch 21/100\n",
      "3369/3369 [==============================] - 6s 2ms/step - loss: 0.2837 - sparse_categorical_accuracy: 0.8958 - val_loss: 0.4377 - val_sparse_categorical_accuracy: 0.8550\n",
      "Epoch 22/100\n",
      "3369/3369 [==============================] - 6s 2ms/step - loss: 0.2749 - sparse_categorical_accuracy: 0.8982 - val_loss: 0.4589 - val_sparse_categorical_accuracy: 0.8498\n",
      "Epoch 23/100\n",
      "3369/3369 [==============================] - 6s 2ms/step - loss: 0.2678 - sparse_categorical_accuracy: 0.9002 - val_loss: 0.4671 - val_sparse_categorical_accuracy: 0.8438\n",
      "Epoch 24/100\n",
      "3369/3369 [==============================] - 6s 2ms/step - loss: 0.2597 - sparse_categorical_accuracy: 0.9025 - val_loss: 0.4569 - val_sparse_categorical_accuracy: 0.8488\n",
      "Epoch 25/100\n",
      "3369/3369 [==============================] - 6s 2ms/step - loss: 0.2530 - sparse_categorical_accuracy: 0.9051 - val_loss: 0.4441 - val_sparse_categorical_accuracy: 0.8540\n",
      "Epoch 26/100\n",
      "3369/3369 [==============================] - 6s 2ms/step - loss: 0.2461 - sparse_categorical_accuracy: 0.9064 - val_loss: 0.4494 - val_sparse_categorical_accuracy: 0.8510\n",
      "Epoch 27/100\n",
      "3369/3369 [==============================] - 6s 2ms/step - loss: 0.2396 - sparse_categorical_accuracy: 0.9092 - val_loss: 0.4622 - val_sparse_categorical_accuracy: 0.8538\n",
      "Epoch 28/100\n",
      "3369/3369 [==============================] - 6s 2ms/step - loss: 0.2334 - sparse_categorical_accuracy: 0.9111 - val_loss: 0.4750 - val_sparse_categorical_accuracy: 0.8434\n",
      "Epoch 29/100\n",
      "3369/3369 [==============================] - 6s 2ms/step - loss: 0.2267 - sparse_categorical_accuracy: 0.9135 - val_loss: 0.4607 - val_sparse_categorical_accuracy: 0.8546\n"
     ]
    }
   ],
   "source": [
    "early_stopping_cb = callbacks.EarlyStopping(patience=10, restore_best_weights=True)\n",
    "history = model.fit(x_train, y_train, epochs=100, validation_data=(x_valid, y_valid), callbacks=[early_stopping_cb])"
   ]
  },
  {
   "cell_type": "code",
   "execution_count": 14,
   "metadata": {},
   "outputs": [
    {
     "data": {
      "image/png": "[encoded data removed]",
      "text/plain": [
       "<Figure size 576x360 with 1 Axes>"
      ]
     },
     "metadata": {
      "needs_background": "light"
     },
     "output_type": "display_data"
    }
   ],
   "source": [
    "pd.DataFrame(history.history).plot(figsize=(8, 5))\n",
    "plt.grid(True)\n",
    "plt.gca().set_ylim(0, 1) # set the vertical range to [0-1]\n",
    "plt.show()"
   ]
  },
  {
   "cell_type": "code",
   "execution_count": 27,
   "metadata": {},
   "outputs": [
    {
     "data": {
      "text/plain": [
       "((3, 784), (3,))"
      ]
     },
     "execution_count": 27,
     "metadata": {},
     "output_type": "execute_result"
    }
   ],
   "source": [
    "x_test = test[:3,1:]\n",
    "x_test = x_test / 255.0\n",
    "y_test = test[:3, 0]\n",
    "x_test.shape, y_test.shape"
   ]
  },
  {
   "cell_type": "code",
   "execution_count": 28,
   "metadata": {},
   "outputs": [
    {
     "data": {
      "text/plain": [
       "array([[0.  , 0.  , 0.  , 0.  , 0.  , 0.  , 0.  , 0.  , 0.  , 0.  , 0.  ,\n",
       "        0.  , 0.  , 0.  , 0.  , 0.  , 0.  , 0.  , 0.  , 0.  , 0.  , 0.  ,\n",
       "        0.  , 0.  , 0.  , 0.  , 0.  , 0.  , 0.  , 0.  , 0.  , 0.  , 0.  ,\n",
       "        0.  , 0.  , 0.  , 0.  , 0.  , 0.  , 0.99, 0.  , 0.  , 0.  , 0.  ,\n",
       "        0.  , 0.  , 0.01],\n",
       "       [0.  , 0.  , 0.  , 0.  , 0.  , 0.  , 0.  , 0.  , 0.  , 0.58, 0.  ,\n",
       "        0.  , 0.  , 0.  , 0.  , 0.  , 0.  , 0.  , 0.  , 0.  , 0.  , 0.  ,\n",
       "        0.  , 0.  , 0.  , 0.  , 0.  , 0.  , 0.  , 0.  , 0.  , 0.  , 0.  ,\n",
       "        0.  , 0.  , 0.  , 0.  , 0.  , 0.  , 0.  , 0.  , 0.04, 0.  , 0.  ,\n",
       "        0.38, 0.  , 0.  ],\n",
       "       [0.  , 0.  , 0.  , 0.  , 0.  , 0.  , 0.  , 0.  , 0.  , 0.  , 0.  ,\n",
       "        0.  , 0.  , 0.  , 0.  , 0.  , 0.  , 0.  , 0.  , 0.  , 0.  , 0.  ,\n",
       "        0.  , 0.  , 0.  , 0.01, 0.93, 0.01, 0.  , 0.  , 0.  , 0.  , 0.  ,\n",
       "        0.  , 0.  , 0.  , 0.  , 0.  , 0.  , 0.  , 0.  , 0.01, 0.  , 0.  ,\n",
       "        0.04, 0.  , 0.  ]], dtype=float32)"
      ]
     },
     "execution_count": 28,
     "metadata": {},
     "output_type": "execute_result"
    }
   ],
   "source": [
    "y_proba = model.predict(x_test)\n",
    "y_proba.round(2)"
   ]
  },
  {
   "cell_type": "code",
   "execution_count": 29,
   "metadata": {},
   "outputs": [
    {
     "data": {
      "text/plain": [
       "array([39,  9, 26], dtype=int64)"
      ]
     },
     "execution_count": 29,
     "metadata": {},
     "output_type": "execute_result"
    }
   ],
   "source": [
    "classes = numpy.argmax(y_proba, axis=1)\n",
    "classes"
   ]
  }
 ],
 "metadata": {
  "interpreter": {
   "hash": "830bd4b94685321d0b550ba9a75ad9d58de144fde38c75487e899dd4e7e6ada5"
  },
  "kernelspec": {
   "display_name": "Python 3.9.8 64-bit",
   "language": "python",
   "name": "python3"
  },
  "language_info": {
   "codemirror_mode": {
    "name": "ipython",
    "version": 3
   },
   "file_extension": ".py",
   "mimetype": "text/x-python",
   "name": "python",
   "nbconvert_exporter": "python",
   "pygments_lexer": "ipython3",
   "version": "3.9.9"
  },
  "orig_nbformat": 4
 },
 "nbformat": 4,
 "nbformat_minor": 2
}
