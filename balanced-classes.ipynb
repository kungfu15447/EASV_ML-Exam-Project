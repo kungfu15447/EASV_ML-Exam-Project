{
 "cells": [
  {
   "cell_type": "code",
   "execution_count": 10,
   "metadata": {},
   "outputs": [],
   "source": [
    "import pandas as pd\n",
    "import matplotlib.pyplot as plt\n",
    "import numpy\n",
    "from tensorflow import keras\n",
    "from keras.layers import Dense, Flatten, AlphaDropout\n",
    "import keras.callbacks as callbacks;\n",
    "import os\n",
    "import random"
   ]
  },
  {
   "cell_type": "code",
   "execution_count": 11,
   "metadata": {},
   "outputs": [],
   "source": [
    "root_logdir = os.path.join(os.curdir, \"my_logs\")\n",
    "\n",
    "def get_run_logdir():\n",
    " import time\n",
    " run_id = time.strftime(\"run_%Y_%m_%d-%H_%M_%S\")\n",
    " return os.path.join(root_logdir, run_id)\n",
    "\n",
    "run_logdir = get_run_logdir()"
   ]
  },
  {
   "cell_type": "code",
   "execution_count": 12,
   "metadata": {},
   "outputs": [],
   "source": [
    "test = pd.read_csv(\"Datasets/emnist-balanced-test.csv\").to_numpy()\n",
    "train = pd.read_csv(\"Datasets/emnist-balanced-train.csv\").to_numpy()"
   ]
  },
  {
   "cell_type": "code",
   "execution_count": 13,
   "metadata": {},
   "outputs": [
    {
     "data": {
      "text/plain": [
       "((107799, 784), (107799,))"
      ]
     },
     "execution_count": 13,
     "metadata": {},
     "output_type": "execute_result"
    }
   ],
   "source": [
    "x_train, x_valid = train[5000:, 1:], train[:5000, 1:]\n",
    "x_train, x_valid = x_train / 255.0, x_valid/ 255.0\n",
    "y_train, y_valid = train[5000:, 0], train[:5000, 0]\n",
    "\n",
    "x_train.shape, y_train.shape"
   ]
  },
  {
   "cell_type": "code",
   "execution_count": 14,
   "metadata": {},
   "outputs": [
    {
     "data": {
      "text/plain": [
       "47"
      ]
     },
     "execution_count": 14,
     "metadata": {},
     "output_type": "execute_result"
    }
   ],
   "source": [
    "y_train_unique = numpy.unique(y_train)\n",
    "y_train_unique.size"
   ]
  },
  {
   "cell_type": "code",
   "execution_count": 15,
   "metadata": {},
   "outputs": [],
   "source": [
    "model = keras.models.Sequential([\n",
    "    Flatten(input_shape=[784]),\n",
    "    Dense(416, activation=\"relu\"),\n",
    "    AlphaDropout(rate=0.2),\n",
    "    Dense(y_train_unique.size, activation=\"softmax\")\n",
    "])"
   ]
  },
  {
   "cell_type": "code",
   "execution_count": 16,
   "metadata": {},
   "outputs": [
    {
     "name": "stdout",
     "output_type": "stream",
     "text": [
      "Model: \"sequential\"\n",
      "_________________________________________________________________\n",
      " Layer (type)                Output Shape              Param #   \n",
      "=================================================================\n",
      " flatten (Flatten)           (None, 784)               0         \n",
      "                                                                 \n",
      " dense (Dense)               (None, 416)               326560    \n",
      "                                                                 \n",
      " alpha_dropout (AlphaDropout  (None, 416)              0         \n",
      " )                                                               \n",
      "                                                                 \n",
      " dense_1 (Dense)             (None, 47)                19599     \n",
      "                                                                 \n",
      "=================================================================\n",
      "Total params: 346,159\n",
      "Trainable params: 346,159\n",
      "Non-trainable params: 0\n",
      "_________________________________________________________________\n"
     ]
    },
    {
     "data": {
      "text/plain": [
       "(None, (None, 784))"
      ]
     },
     "execution_count": 16,
     "metadata": {},
     "output_type": "execute_result"
    }
   ],
   "source": [
    "model.summary(), model.input_shape"
   ]
  },
  {
   "cell_type": "code",
   "execution_count": 17,
   "metadata": {},
   "outputs": [],
   "source": [
    "model.compile(loss=keras.losses.sparse_categorical_crossentropy, \n",
    "              optimizer=keras.optimizers.SGD(momentum=0.9), \n",
    "              metrics=[keras.metrics.sparse_categorical_accuracy])"
   ]
  },
  {
   "cell_type": "code",
   "execution_count": 18,
   "metadata": {},
   "outputs": [
    {
     "name": "stdout",
     "output_type": "stream",
     "text": [
      "Epoch 1/100\n",
      "3369/3369 [==============================] - 8s 2ms/step - loss: 1.6865 - sparse_categorical_accuracy: 0.5215 - val_loss: 0.9905 - val_sparse_categorical_accuracy: 0.7138 - lr: 0.0100\n",
      "Epoch 2/100\n",
      "3369/3369 [==============================] - 7s 2ms/step - loss: 1.2076 - sparse_categorical_accuracy: 0.6425 - val_loss: 0.8243 - val_sparse_categorical_accuracy: 0.7664 - lr: 0.0100\n",
      "Epoch 3/100\n",
      "3369/3369 [==============================] - 6s 2ms/step - loss: 1.0834 - sparse_categorical_accuracy: 0.6761 - val_loss: 0.7724 - val_sparse_categorical_accuracy: 0.7866 - lr: 0.0100\n",
      "Epoch 4/100\n",
      "3369/3369 [==============================] - 6s 2ms/step - loss: 1.0158 - sparse_categorical_accuracy: 0.6935 - val_loss: 0.7566 - val_sparse_categorical_accuracy: 0.7860 - lr: 0.0100\n",
      "Epoch 5/100\n",
      "3369/3369 [==============================] - 6s 2ms/step - loss: 0.9613 - sparse_categorical_accuracy: 0.7086 - val_loss: 0.6943 - val_sparse_categorical_accuracy: 0.8030 - lr: 0.0100\n",
      "Epoch 6/100\n",
      "3369/3369 [==============================] - 7s 2ms/step - loss: 0.9290 - sparse_categorical_accuracy: 0.7203 - val_loss: 0.6871 - val_sparse_categorical_accuracy: 0.8062 - lr: 0.0100\n",
      "Epoch 7/100\n",
      "3369/3369 [==============================] - 7s 2ms/step - loss: 0.9081 - sparse_categorical_accuracy: 0.7244 - val_loss: 0.6617 - val_sparse_categorical_accuracy: 0.8090 - lr: 0.0100\n",
      "Epoch 8/100\n",
      "3369/3369 [==============================] - 7s 2ms/step - loss: 0.8863 - sparse_categorical_accuracy: 0.7319 - val_loss: 0.6605 - val_sparse_categorical_accuracy: 0.8102 - lr: 0.0100\n",
      "Epoch 9/100\n",
      "3369/3369 [==============================] - 7s 2ms/step - loss: 0.8657 - sparse_categorical_accuracy: 0.7367 - val_loss: 0.6743 - val_sparse_categorical_accuracy: 0.8110 - lr: 0.0100\n",
      "Epoch 10/100\n",
      "3369/3369 [==============================] - 7s 2ms/step - loss: 0.8493 - sparse_categorical_accuracy: 0.7417 - val_loss: 0.6666 - val_sparse_categorical_accuracy: 0.8146 - lr: 0.0100\n",
      "Epoch 11/100\n",
      "3369/3369 [==============================] - 8s 2ms/step - loss: 0.8343 - sparse_categorical_accuracy: 0.7462 - val_loss: 0.6764 - val_sparse_categorical_accuracy: 0.8072 - lr: 0.0100\n",
      "Epoch 12/100\n",
      "3369/3369 [==============================] - 7s 2ms/step - loss: 0.8268 - sparse_categorical_accuracy: 0.7469 - val_loss: 0.6530 - val_sparse_categorical_accuracy: 0.8144 - lr: 0.0100\n",
      "Epoch 13/100\n",
      "3369/3369 [==============================] - 7s 2ms/step - loss: 0.8129 - sparse_categorical_accuracy: 0.7506 - val_loss: 0.6364 - val_sparse_categorical_accuracy: 0.8160 - lr: 0.0100\n",
      "Epoch 14/100\n",
      "3369/3369 [==============================] - 8s 2ms/step - loss: 0.8016 - sparse_categorical_accuracy: 0.7547 - val_loss: 0.6593 - val_sparse_categorical_accuracy: 0.8176 - lr: 0.0100\n",
      "Epoch 15/100\n",
      "3369/3369 [==============================] - 9s 3ms/step - loss: 0.7914 - sparse_categorical_accuracy: 0.7573 - val_loss: 0.6499 - val_sparse_categorical_accuracy: 0.8196 - lr: 0.0100\n",
      "Epoch 16/100\n",
      "3369/3369 [==============================] - 9s 3ms/step - loss: 0.7917 - sparse_categorical_accuracy: 0.7596 - val_loss: 0.6509 - val_sparse_categorical_accuracy: 0.8212 - lr: 0.0100\n",
      "Epoch 17/100\n",
      "3369/3369 [==============================] - 13s 4ms/step - loss: 0.7742 - sparse_categorical_accuracy: 0.7623 - val_loss: 0.6081 - val_sparse_categorical_accuracy: 0.8274 - lr: 0.0100\n",
      "Epoch 18/100\n",
      "3369/3369 [==============================] - 12s 3ms/step - loss: 0.7776 - sparse_categorical_accuracy: 0.7616 - val_loss: 0.6224 - val_sparse_categorical_accuracy: 0.8208 - lr: 0.0100\n",
      "Epoch 19/100\n",
      "3369/3369 [==============================] - 10s 3ms/step - loss: 0.7705 - sparse_categorical_accuracy: 0.7644 - val_loss: 0.6142 - val_sparse_categorical_accuracy: 0.8290 - lr: 0.0100\n",
      "Epoch 20/100\n",
      "3369/3369 [==============================] - 9s 3ms/step - loss: 0.7698 - sparse_categorical_accuracy: 0.7643 - val_loss: 0.6006 - val_sparse_categorical_accuracy: 0.8314 - lr: 0.0100\n",
      "Epoch 21/100\n",
      "3369/3369 [==============================] - 9s 3ms/step - loss: 0.7599 - sparse_categorical_accuracy: 0.7664 - val_loss: 0.6222 - val_sparse_categorical_accuracy: 0.8266 - lr: 0.0100\n",
      "Epoch 22/100\n",
      "3369/3369 [==============================] - 10s 3ms/step - loss: 0.7511 - sparse_categorical_accuracy: 0.7697 - val_loss: 0.6205 - val_sparse_categorical_accuracy: 0.8358 - lr: 0.0100\n",
      "Epoch 23/100\n",
      "3369/3369 [==============================] - 10s 3ms/step - loss: 0.7444 - sparse_categorical_accuracy: 0.7719 - val_loss: 0.6258 - val_sparse_categorical_accuracy: 0.8346 - lr: 0.0100\n",
      "Epoch 24/100\n",
      "3369/3369 [==============================] - 10s 3ms/step - loss: 0.7406 - sparse_categorical_accuracy: 0.7725 - val_loss: 0.6375 - val_sparse_categorical_accuracy: 0.8238 - lr: 0.0100\n",
      "Epoch 25/100\n",
      "3369/3369 [==============================] - 7s 2ms/step - loss: 0.6648 - sparse_categorical_accuracy: 0.7872 - val_loss: 0.5630 - val_sparse_categorical_accuracy: 0.8384 - lr: 0.0050\n",
      "Epoch 26/100\n",
      "3369/3369 [==============================] - 7s 2ms/step - loss: 0.6390 - sparse_categorical_accuracy: 0.7915 - val_loss: 0.5457 - val_sparse_categorical_accuracy: 0.8432 - lr: 0.0050\n",
      "Epoch 27/100\n",
      "3369/3369 [==============================] - 7s 2ms/step - loss: 0.6291 - sparse_categorical_accuracy: 0.7952 - val_loss: 0.5383 - val_sparse_categorical_accuracy: 0.8396 - lr: 0.0050\n",
      "Epoch 28/100\n",
      "3369/3369 [==============================] - 8s 2ms/step - loss: 0.6294 - sparse_categorical_accuracy: 0.7936 - val_loss: 0.5375 - val_sparse_categorical_accuracy: 0.8426 - lr: 0.0050\n",
      "Epoch 29/100\n",
      "3369/3369 [==============================] - 11s 3ms/step - loss: 0.6204 - sparse_categorical_accuracy: 0.7977 - val_loss: 0.5406 - val_sparse_categorical_accuracy: 0.8426 - lr: 0.0050\n",
      "Epoch 30/100\n",
      "3369/3369 [==============================] - 11s 3ms/step - loss: 0.6200 - sparse_categorical_accuracy: 0.7963 - val_loss: 0.5465 - val_sparse_categorical_accuracy: 0.8426 - lr: 0.0050\n",
      "Epoch 31/100\n",
      "3369/3369 [==============================] - 11s 3ms/step - loss: 0.6173 - sparse_categorical_accuracy: 0.7978 - val_loss: 0.5329 - val_sparse_categorical_accuracy: 0.8392 - lr: 0.0050parse_categorical_accuracy:\n",
      "Epoch 32/100\n",
      "3369/3369 [==============================] - 10s 3ms/step - loss: 0.6177 - sparse_categorical_accuracy: 0.7972 - val_loss: 0.5369 - val_sparse_categorical_accuracy: 0.8424 - lr: 0.0050\n",
      "Epoch 33/100\n",
      "3369/3369 [==============================] - 10s 3ms/step - loss: 0.6130 - sparse_categorical_accuracy: 0.7985 - val_loss: 0.5398 - val_sparse_categorical_accuracy: 0.8394 - lr: 0.0050\n",
      "Epoch 34/100\n",
      "3369/3369 [==============================] - 10s 3ms/step - loss: 0.6102 - sparse_categorical_accuracy: 0.7997 - val_loss: 0.5421 - val_sparse_categorical_accuracy: 0.8350 - lr: 0.0050\n",
      "Epoch 35/100\n",
      "3369/3369 [==============================] - 10s 3ms/step - loss: 0.6063 - sparse_categorical_accuracy: 0.8000 - val_loss: 0.5445 - val_sparse_categorical_accuracy: 0.8326 - lr: 0.0050\n",
      "Epoch 36/100\n",
      "3369/3369 [==============================] - 9s 3ms/step - loss: 0.5801 - sparse_categorical_accuracy: 0.8063 - val_loss: 0.5169 - val_sparse_categorical_accuracy: 0.8432 - lr: 0.0025\n",
      "Epoch 37/100\n",
      "3369/3369 [==============================] - 9s 3ms/step - loss: 0.5653 - sparse_categorical_accuracy: 0.8100 - val_loss: 0.5092 - val_sparse_categorical_accuracy: 0.8452 - lr: 0.0025\n",
      "Epoch 38/100\n",
      "3369/3369 [==============================] - 9s 3ms/step - loss: 0.5614 - sparse_categorical_accuracy: 0.8115 - val_loss: 0.5107 - val_sparse_categorical_accuracy: 0.8462 - lr: 0.0025\n",
      "Epoch 39/100\n",
      "3369/3369 [==============================] - 9s 3ms/step - loss: 0.5612 - sparse_categorical_accuracy: 0.8111 - val_loss: 0.5149 - val_sparse_categorical_accuracy: 0.8454 - lr: 0.0025\n",
      "Epoch 40/100\n",
      "3369/3369 [==============================] - 9s 3ms/step - loss: 0.5534 - sparse_categorical_accuracy: 0.8140 - val_loss: 0.5198 - val_sparse_categorical_accuracy: 0.8436 - lr: 0.0025\n",
      "Epoch 41/100\n",
      "3369/3369 [==============================] - 9s 3ms/step - loss: 0.5558 - sparse_categorical_accuracy: 0.8122 - val_loss: 0.5130 - val_sparse_categorical_accuracy: 0.8438 - lr: 0.0025\n",
      "Epoch 42/100\n",
      "3369/3369 [==============================] - 9s 3ms/step - loss: 0.5401 - sparse_categorical_accuracy: 0.8187 - val_loss: 0.4974 - val_sparse_categorical_accuracy: 0.8486 - lr: 0.0012\n",
      "Epoch 43/100\n",
      "3369/3369 [==============================] - 7s 2ms/step - loss: 0.5341 - sparse_categorical_accuracy: 0.8192 - val_loss: 0.4894 - val_sparse_categorical_accuracy: 0.8506 - lr: 0.0012\n",
      "Epoch 44/100\n",
      "3369/3369 [==============================] - 7s 2ms/step - loss: 0.5314 - sparse_categorical_accuracy: 0.8199 - val_loss: 0.4872 - val_sparse_categorical_accuracy: 0.8478 - lr: 0.0012\n",
      "Epoch 45/100\n",
      "3369/3369 [==============================] - 7s 2ms/step - loss: 0.5299 - sparse_categorical_accuracy: 0.8201 - val_loss: 0.4917 - val_sparse_categorical_accuracy: 0.8508 - lr: 0.0012\n",
      "Epoch 46/100\n",
      "3369/3369 [==============================] - 8s 2ms/step - loss: 0.5297 - sparse_categorical_accuracy: 0.8205 - val_loss: 0.4847 - val_sparse_categorical_accuracy: 0.8514 - lr: 0.0012\n",
      "Epoch 47/100\n",
      "3369/3369 [==============================] - 9s 3ms/step - loss: 0.5256 - sparse_categorical_accuracy: 0.8208 - val_loss: 0.4914 - val_sparse_categorical_accuracy: 0.8482 - lr: 0.0012\n",
      "Epoch 48/100\n",
      "3369/3369 [==============================] - 9s 3ms/step - loss: 0.5282 - sparse_categorical_accuracy: 0.8209 - val_loss: 0.4913 - val_sparse_categorical_accuracy: 0.8502 - lr: 0.0012\n",
      "Epoch 49/100\n",
      "3369/3369 [==============================] - 10s 3ms/step - loss: 0.5258 - sparse_categorical_accuracy: 0.8208 - val_loss: 0.4919 - val_sparse_categorical_accuracy: 0.8476 - lr: 0.0012\n",
      "Epoch 50/100\n",
      "3369/3369 [==============================] - 10s 3ms/step - loss: 0.5256 - sparse_categorical_accuracy: 0.8208 - val_loss: 0.4823 - val_sparse_categorical_accuracy: 0.8510 - lr: 0.0012\n",
      "Epoch 51/100\n",
      "3369/3369 [==============================] - 11s 3ms/step - loss: 0.5239 - sparse_categorical_accuracy: 0.8224 - val_loss: 0.4928 - val_sparse_categorical_accuracy: 0.8488 - lr: 0.0012\n",
      "Epoch 52/100\n",
      "3369/3369 [==============================] - 10s 3ms/step - loss: 0.5261 - sparse_categorical_accuracy: 0.8213 - val_loss: 0.4921 - val_sparse_categorical_accuracy: 0.8476 - lr: 0.0012\n",
      "Epoch 53/100\n",
      "3369/3369 [==============================] - 8s 2ms/step - loss: 0.5223 - sparse_categorical_accuracy: 0.8218 - val_loss: 0.4944 - val_sparse_categorical_accuracy: 0.8496 - lr: 0.0012\n",
      "Epoch 54/100\n",
      "3369/3369 [==============================] - 9s 3ms/step - loss: 0.5255 - sparse_categorical_accuracy: 0.8213 - val_loss: 0.4869 - val_sparse_categorical_accuracy: 0.8484 - lr: 0.0012\n",
      "Epoch 55/100\n",
      "3369/3369 [==============================] - 8s 3ms/step - loss: 0.5149 - sparse_categorical_accuracy: 0.8241 - val_loss: 0.4805 - val_sparse_categorical_accuracy: 0.8536 - lr: 6.2500e-04\n",
      "Epoch 56/100\n",
      "3369/3369 [==============================] - 8s 2ms/step - loss: 0.5147 - sparse_categorical_accuracy: 0.8248 - val_loss: 0.4813 - val_sparse_categorical_accuracy: 0.8504 - lr: 6.2500e-04\n",
      "Epoch 57/100\n",
      "3369/3369 [==============================] - 9s 3ms/step - loss: 0.5152 - sparse_categorical_accuracy: 0.8240 - val_loss: 0.4786 - val_sparse_categorical_accuracy: 0.8532 - lr: 6.2500e-04- ETA: 0s - loss: 0.5144 - sparse_categorical_\n",
      "Epoch 58/100\n",
      "3369/3369 [==============================] - 8s 2ms/step - loss: 0.5064 - sparse_categorical_accuracy: 0.8277 - val_loss: 0.4795 - val_sparse_categorical_accuracy: 0.8506 - lr: 6.2500e-04\n",
      "Epoch 59/100\n",
      "3369/3369 [==============================] - 9s 3ms/step - loss: 0.5089 - sparse_categorical_accuracy: 0.8260 - val_loss: 0.4808 - val_sparse_categorical_accuracy: 0.8536 - lr: 6.2500e-04\n",
      "Epoch 60/100\n",
      "3369/3369 [==============================] - 9s 3ms/step - loss: 0.5137 - sparse_categorical_accuracy: 0.8263 - val_loss: 0.4813 - val_sparse_categorical_accuracy: 0.8512 - lr: 6.2500e-04\n",
      "Epoch 61/100\n",
      "3369/3369 [==============================] - 9s 3ms/step - loss: 0.5117 - sparse_categorical_accuracy: 0.8261 - val_loss: 0.4767 - val_sparse_categorical_accuracy: 0.8554 - lr: 6.2500e-04\n",
      "Epoch 62/100\n",
      "3369/3369 [==============================] - 9s 3ms/step - loss: 0.5063 - sparse_categorical_accuracy: 0.8274 - val_loss: 0.4763 - val_sparse_categorical_accuracy: 0.8536 - lr: 6.2500e-04\n",
      "Epoch 63/100\n",
      "3369/3369 [==============================] - 9s 3ms/step - loss: 0.5096 - sparse_categorical_accuracy: 0.8272 - val_loss: 0.4777 - val_sparse_categorical_accuracy: 0.8554 - lr: 6.2500e-04\n",
      "Epoch 64/100\n",
      "3369/3369 [==============================] - 8s 3ms/step - loss: 0.5071 - sparse_categorical_accuracy: 0.8266 - val_loss: 0.4773 - val_sparse_categorical_accuracy: 0.8526 - lr: 6.2500e-04\n",
      "Epoch 65/100\n",
      "3369/3369 [==============================] - 8s 2ms/step - loss: 0.5066 - sparse_categorical_accuracy: 0.8281 - val_loss: 0.4803 - val_sparse_categorical_accuracy: 0.8536 - lr: 6.2500e-04\n",
      "Epoch 66/100\n",
      "3369/3369 [==============================] - 8s 2ms/step - loss: 0.5070 - sparse_categorical_accuracy: 0.8282 - val_loss: 0.4825 - val_sparse_categorical_accuracy: 0.8498 - lr: 6.2500e-04\n",
      "Epoch 67/100\n",
      "3369/3369 [==============================] - 8s 2ms/step - loss: 0.5032 - sparse_categorical_accuracy: 0.8288 - val_loss: 0.4756 - val_sparse_categorical_accuracy: 0.8550 - lr: 3.1250e-04\n",
      "Epoch 68/100\n",
      "3369/3369 [==============================] - 7s 2ms/step - loss: 0.5025 - sparse_categorical_accuracy: 0.8287 - val_loss: 0.4749 - val_sparse_categorical_accuracy: 0.8540 - lr: 3.1250e-04\n",
      "Epoch 69/100\n",
      "3369/3369 [==============================] - 9s 3ms/step - loss: 0.5033 - sparse_categorical_accuracy: 0.8284 - val_loss: 0.4793 - val_sparse_categorical_accuracy: 0.8508 - lr: 3.1250e-04\n",
      "Epoch 70/100\n",
      "3369/3369 [==============================] - 9s 3ms/step - loss: 0.5011 - sparse_categorical_accuracy: 0.8298 - val_loss: 0.4744 - val_sparse_categorical_accuracy: 0.8558 - lr: 3.1250e-04\n",
      "Epoch 71/100\n",
      "3369/3369 [==============================] - 9s 3ms/step - loss: 0.5047 - sparse_categorical_accuracy: 0.8276 - val_loss: 0.4760 - val_sparse_categorical_accuracy: 0.8532 - lr: 3.1250e-04\n",
      "Epoch 72/100\n",
      "3369/3369 [==============================] - 9s 3ms/step - loss: 0.5027 - sparse_categorical_accuracy: 0.8292 - val_loss: 0.4737 - val_sparse_categorical_accuracy: 0.8508 - lr: 3.1250e-04\n",
      "Epoch 73/100\n",
      "3369/3369 [==============================] - 9s 3ms/step - loss: 0.4987 - sparse_categorical_accuracy: 0.8300 - val_loss: 0.4750 - val_sparse_categorical_accuracy: 0.8534 - lr: 3.1250e-04\n",
      "Epoch 74/100\n",
      "3369/3369 [==============================] - 9s 3ms/step - loss: 0.4990 - sparse_categorical_accuracy: 0.8302 - val_loss: 0.4738 - val_sparse_categorical_accuracy: 0.8546 - lr: 3.1250e-04_cat\n",
      "Epoch 75/100\n",
      "3369/3369 [==============================] - 9s 3ms/step - loss: 0.5011 - sparse_categorical_accuracy: 0.8296 - val_loss: 0.4778 - val_sparse_categorical_accuracy: 0.8508 - lr: 3.1250e-04\n",
      "Epoch 76/100\n",
      "3369/3369 [==============================] - 9s 3ms/step - loss: 0.4996 - sparse_categorical_accuracy: 0.8297 - val_loss: 0.4725 - val_sparse_categorical_accuracy: 0.8548 - lr: 3.1250e-04\n",
      "Epoch 77/100\n",
      "3369/3369 [==============================] - 9s 3ms/step - loss: 0.4983 - sparse_categorical_accuracy: 0.8308 - val_loss: 0.4749 - val_sparse_categorical_accuracy: 0.8518 - lr: 3.1250e-04\n",
      "Epoch 78/100\n",
      "3369/3369 [==============================] - 9s 3ms/step - loss: 0.5006 - sparse_categorical_accuracy: 0.8293 - val_loss: 0.4757 - val_sparse_categorical_accuracy: 0.8542 - lr: 3.1250e-04\n",
      "Epoch 79/100\n",
      "3369/3369 [==============================] - 8s 3ms/step - loss: 0.5013 - sparse_categorical_accuracy: 0.8288 - val_loss: 0.4761 - val_sparse_categorical_accuracy: 0.8548 - lr: 3.1250e-04\n",
      "Epoch 80/100\n",
      "3369/3369 [==============================] - 8s 2ms/step - loss: 0.4997 - sparse_categorical_accuracy: 0.8293 - val_loss: 0.4732 - val_sparse_categorical_accuracy: 0.8538 - lr: 3.1250e-04009 - sparse_c - ETA: 1s - loss: 0.5016 - spa\n",
      "Epoch 81/100\n",
      "3369/3369 [==============================] - 8s 2ms/step - loss: 0.4998 - sparse_categorical_accuracy: 0.8294 - val_loss: 0.4742 - val_sparse_categorical_accuracy: 0.8530 - lr: 1.5625e-04\n",
      "Epoch 82/100\n",
      "3369/3369 [==============================] - 8s 2ms/step - loss: 0.4964 - sparse_categorical_accuracy: 0.8300 - val_loss: 0.4733 - val_sparse_categorical_accuracy: 0.8514 - lr: 1.5625e-04\n",
      "Epoch 83/100\n",
      "3369/3369 [==============================] - 8s 2ms/step - loss: 0.4970 - sparse_categorical_accuracy: 0.8313 - val_loss: 0.4711 - val_sparse_categorical_accuracy: 0.8542 - lr: 1.5625e-04\n",
      "Epoch 84/100\n",
      "3369/3369 [==============================] - 8s 2ms/step - loss: 0.4972 - sparse_categorical_accuracy: 0.8305 - val_loss: 0.4733 - val_sparse_categorical_accuracy: 0.8536 - lr: 1.5625e-04\n",
      "Epoch 85/100\n",
      "3369/3369 [==============================] - 8s 2ms/step - loss: 0.4971 - sparse_categorical_accuracy: 0.8301 - val_loss: 0.4708 - val_sparse_categorical_accuracy: 0.8536 - lr: 1.5625e-04\n",
      "Epoch 86/100\n",
      "3369/3369 [==============================] - 8s 2ms/step - loss: 0.4961 - sparse_categorical_accuracy: 0.8306 - val_loss: 0.4728 - val_sparse_categorical_accuracy: 0.8526 - lr: 1.5625e-04\n",
      "Epoch 87/100\n",
      "3369/3369 [==============================] - 7s 2ms/step - loss: 0.4983 - sparse_categorical_accuracy: 0.8300 - val_loss: 0.4742 - val_sparse_categorical_accuracy: 0.8526 - lr: 1.5625e-04\n",
      "Epoch 88/100\n",
      "3369/3369 [==============================] - 7s 2ms/step - loss: 0.4947 - sparse_categorical_accuracy: 0.8323 - val_loss: 0.4752 - val_sparse_categorical_accuracy: 0.8522 - lr: 1.5625e-04\n",
      "Epoch 89/100\n",
      "3369/3369 [==============================] - 7s 2ms/step - loss: 0.4951 - sparse_categorical_accuracy: 0.8314 - val_loss: 0.4727 - val_sparse_categorical_accuracy: 0.8514 - lr: 1.5625e-04\n",
      "Epoch 90/100\n",
      "3369/3369 [==============================] - 7s 2ms/step - loss: 0.4935 - sparse_categorical_accuracy: 0.8318 - val_loss: 0.4712 - val_sparse_categorical_accuracy: 0.8526 - lr: 7.8125e-05\n",
      "Epoch 91/100\n",
      "3369/3369 [==============================] - 7s 2ms/step - loss: 0.4924 - sparse_categorical_accuracy: 0.8323 - val_loss: 0.4735 - val_sparse_categorical_accuracy: 0.8516 - lr: 7.8125e-05\n",
      "Epoch 92/100\n",
      "3369/3369 [==============================] - 7s 2ms/step - loss: 0.4968 - sparse_categorical_accuracy: 0.8320 - val_loss: 0.4726 - val_sparse_categorical_accuracy: 0.8524 - lr: 7.8125e-05\n",
      "Epoch 93/100\n",
      "3369/3369 [==============================] - 8s 2ms/step - loss: 0.4990 - sparse_categorical_accuracy: 0.8318 - val_loss: 0.4723 - val_sparse_categorical_accuracy: 0.8524 - lr: 7.8125e-05\n",
      "Epoch 94/100\n",
      "3369/3369 [==============================] - 8s 2ms/step - loss: 0.4932 - sparse_categorical_accuracy: 0.8326 - val_loss: 0.4715 - val_sparse_categorical_accuracy: 0.8524 - lr: 3.9062e-05\n",
      "Epoch 95/100\n",
      "3369/3369 [==============================] - 7s 2ms/step - loss: 0.4955 - sparse_categorical_accuracy: 0.8321 - val_loss: 0.4718 - val_sparse_categorical_accuracy: 0.8532 - lr: 3.9062e-05\n"
     ]
    }
   ],
   "source": [
    "tensorboard_cb = callbacks.TensorBoard(run_logdir)\n",
    "early_stopping_cb = callbacks.EarlyStopping(patience=10, restore_best_weights=True)\n",
    "lr_scheduler_cb = callbacks.ReduceLROnPlateau(factor=0.5, patience=4)\n",
    "history = model.fit(x_train, y_train, epochs=100, validation_data=(x_valid, y_valid), callbacks=[early_stopping_cb, lr_scheduler_cb])"
   ]
  },
  {
   "cell_type": "code",
   "execution_count": 19,
   "metadata": {},
   "outputs": [
    {
     "data": {
      "image/png": "[encoded data removed]",
      "text/plain": [
       "<Figure size 576x360 with 1 Axes>"
      ]
     },
     "metadata": {
      "needs_background": "light"
     },
     "output_type": "display_data"
    }
   ],
   "source": [
    "pd.DataFrame(history.history).plot(figsize=(8, 5))\n",
    "plt.grid(True)\n",
    "plt.gca().set_ylim(0, 1) # set the vertical range to [0-1]\n",
    "plt.show()"
   ]
  },
  {
   "cell_type": "code",
   "execution_count": 27,
   "metadata": {},
   "outputs": [
    {
     "data": {
      "text/plain": [
       "(1, 784)"
      ]
     },
     "execution_count": 27,
     "metadata": {},
     "output_type": "execute_result"
    }
   ],
   "source": [
    "x_test = random.choice(test[:,1:])\n",
    "x_test = x_test / 255.0\n",
    "x_test = numpy.expand_dims(x_test, axis=0)\n",
    "x_test.shape"
   ]
  },
  {
   "cell_type": "code",
   "execution_count": 28,
   "metadata": {},
   "outputs": [],
   "source": [
    "label_map = pd.read_csv(\"Datasets/emnist-balanced-mapping.txt\", \n",
    "                        delimiter = ' ', \n",
    "                        index_col=0, \n",
    "                        header=None, \n",
    "                        squeeze=True)\n",
    "\n",
    "label_dictionary = {}\n",
    "for index, label in enumerate(label_map):\n",
    "    label_dictionary[index] = chr(label)"
   ]
  },
  {
   "cell_type": "code",
   "execution_count": 32,
   "metadata": {},
   "outputs": [],
   "source": [
    "def show_image(image):\n",
    "    image = image.reshape(28,28)\n",
    "    image = numpy.fliplr(image)\n",
    "    image = numpy.rot90(image)\n",
    "\n",
    "    plt.imshow(image, cmap=\"binary\")\n",
    "    plt.axis(\"off\")\n",
    "    plt.show()\n",
    "\n",
    "def get_random_image():\n",
    "    x_test = random.choice(test[:,1:])\n",
    "    x_test = x_test / 255.0\n",
    "    x_test = numpy.expand_dims(x_test, axis=0)\n",
    "    return x_test\n",
    "\n",
    "def predict_image(image):\n",
    "    y_proba = model.predict(image)\n",
    "    print(y_proba.round(2))\n",
    "    return numpy.argmax(y_proba, axis=1)\n"
   ]
  },
  {
   "cell_type": "code",
   "execution_count": 38,
   "metadata": {},
   "outputs": [
    {
     "data": {
      "image/png": "[encoded data removed]",
      "text/plain": [
       "<Figure size 432x288 with 1 Axes>"
      ]
     },
     "metadata": {
      "needs_background": "light"
     },
     "output_type": "display_data"
    },
    {
     "name": "stdout",
     "output_type": "stream",
     "text": [
      "[[0.   0.   0.   0.   0.   0.   0.   0.   0.   0.   0.   0.   0.   0.\n",
      "  0.   0.   0.   0.   0.   0.   0.   0.   0.   0.   0.   0.   0.   0.\n",
      "  0.   0.   0.   0.98 0.   0.   0.   0.   0.   0.   0.   0.   0.   0.\n",
      "  0.   0.   0.   0.02 0.  ]]\n",
      "Prediction:\n",
      "Label index: 31\n",
      "Character predicted: V\n"
     ]
    }
   ],
   "source": [
    "image = get_random_image()\n",
    "show_image(image)\n",
    "image_class = predict_image(image)\n",
    "\n",
    "print(\"Prediction:\")\n",
    "print(\"Label index:\", image_class[0])\n",
    "print(\"Character predicted:\", label_dictionary[image_class[0]])"
   ]
  },
  {
   "cell_type": "code",
   "execution_count": null,
   "metadata": {},
   "outputs": [
    {
     "data": {
      "text/plain": [
       "Reusing TensorBoard on port 6006 (pid 30988), started 10:49:33 ago. (Use '!kill 30988' to kill it.)"
      ]
     },
     "metadata": {},
     "output_type": "display_data"
    },
    {
     "data": {
      "text/html": [
       "\n",
       "      <iframe id=\"tensorboard-frame-bad8439f16d8dc50\" width=\"100%\" height=\"800\" frameborder=\"0\">\n",
       "      </iframe>\n",
       "      <script>\n",
       "        (function() {\n",
       "          const frame = document.getElementById(\"tensorboard-frame-bad8439f16d8dc50\");\n",
       "          const url = new URL(\"http://localhost\");\n",
       "          const port = 6006;\n",
       "          if (port) {\n",
       "            url.port = port;\n",
       "          }\n",
       "          frame.src = url;\n",
       "        })();\n",
       "      </script>\n",
       "    "
      ],
      "text/plain": [
       "<IPython.core.display.HTML object>"
      ]
     },
     "metadata": {},
     "output_type": "display_data"
    }
   ],
   "source": [
    "%load_ext tensorboard\n",
    "%tensorboard --logdir=./my_logs --port=6006\n"
   ]
  }
 ],
 "metadata": {
  "interpreter": {
   "hash": "830bd4b94685321d0b550ba9a75ad9d58de144fde38c75487e899dd4e7e6ada5"
  },
  "kernelspec": {
   "display_name": "Python 3.9.8 64-bit",
   "language": "python",
   "name": "python3"
  },
  "language_info": {
   "codemirror_mode": {
    "name": "ipython",
    "version": 3
   },
   "file_extension": ".py",
   "mimetype": "text/x-python",
   "name": "python",
   "nbconvert_exporter": "python",
   "pygments_lexer": "ipython3",
   "version": "3.9.9"
  },
  "orig_nbformat": 4
 },
 "nbformat": 4,
 "nbformat_minor": 2
}
