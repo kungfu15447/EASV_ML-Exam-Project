{
 "cells": [
  {
   "cell_type": "code",
   "execution_count": 39,
   "metadata": {},
   "outputs": [],
   "source": [
    "import pandas as pd\n",
    "import matplotlib.pyplot as plt\n",
    "import numpy\n",
    "from tensorflow import keras\n",
    "from keras.layers import Dense, Flatten, AlphaDropout\n",
    "import keras.callbacks as callbacks;\n",
    "import os\n",
    "import random"
   ]
  },
  {
   "cell_type": "code",
   "execution_count": 40,
   "metadata": {},
   "outputs": [],
   "source": [
    "root_logdir = os.path.join(os.curdir, \"my_logs\")\n",
    "\n",
    "def get_run_logdir():\n",
    " import time\n",
    " run_id = time.strftime(\"run_%Y_%m_%d-%H_%M_%S\")\n",
    " return os.path.join(root_logdir, run_id)\n",
    "\n",
    "run_logdir = get_run_logdir()"
   ]
  },
  {
   "cell_type": "code",
   "execution_count": 41,
   "metadata": {},
   "outputs": [],
   "source": [
    "test = pd.read_csv(\"Datasets/emnist-balanced-test.csv\").to_numpy()\n",
    "train = pd.read_csv(\"Datasets/emnist-balanced-train.csv\").to_numpy()"
   ]
  },
  {
   "cell_type": "code",
   "execution_count": 42,
   "metadata": {},
   "outputs": [
    {
     "data": {
      "text/plain": [
       "((107799, 784), (107799,))"
      ]
     },
     "execution_count": 42,
     "metadata": {},
     "output_type": "execute_result"
    }
   ],
   "source": [
    "x_train, x_valid = train[5000:, 1:], train[:5000, 1:]\n",
    "x_train, x_valid = x_train / 255.0, x_valid/ 255.0\n",
    "y_train, y_valid = train[5000:, 0], train[:5000, 0]\n",
    "\n",
    "x_train.shape, y_train.shape"
   ]
  },
  {
   "cell_type": "code",
   "execution_count": 43,
   "metadata": {},
   "outputs": [
    {
     "data": {
      "text/plain": [
       "47"
      ]
     },
     "execution_count": 43,
     "metadata": {},
     "output_type": "execute_result"
    }
   ],
   "source": [
    "y_train_unique = numpy.unique(y_train)\n",
    "y_train_unique.size"
   ]
  },
  {
   "cell_type": "code",
   "execution_count": 44,
   "metadata": {},
   "outputs": [],
   "source": [
    "model = keras.models.Sequential([\n",
    "    Flatten(input_shape=[784]),\n",
    "    Dense(300, activation=\"relu\"),\n",
    "    Dense(300, activation=\"relu\"),\n",
    "    Dense(300, activation=\"relu\"),\n",
    "    AlphaDropout(rate=0.2),\n",
    "    Dense(y_train_unique.size, activation=\"softmax\")\n",
    "])"
   ]
  },
  {
   "cell_type": "code",
   "execution_count": 45,
   "metadata": {},
   "outputs": [
    {
     "name": "stdout",
     "output_type": "stream",
     "text": [
      "Model: \"sequential_1\"\n",
      "_________________________________________________________________\n",
      " Layer (type)                Output Shape              Param #   \n",
      "=================================================================\n",
      " flatten_1 (Flatten)         (None, 784)               0         \n",
      "                                                                 \n",
      " dense_2 (Dense)             (None, 300)               235500    \n",
      "                                                                 \n",
      " dense_3 (Dense)             (None, 300)               90300     \n",
      "                                                                 \n",
      " dense_4 (Dense)             (None, 300)               90300     \n",
      "                                                                 \n",
      " alpha_dropout_1 (AlphaDropo  (None, 300)              0         \n",
      " ut)                                                             \n",
      "                                                                 \n",
      " dense_5 (Dense)             (None, 47)                14147     \n",
      "                                                                 \n",
      "=================================================================\n",
      "Total params: 430,247\n",
      "Trainable params: 430,247\n",
      "Non-trainable params: 0\n",
      "_________________________________________________________________\n"
     ]
    },
    {
     "data": {
      "text/plain": [
       "(None, (None, 784))"
      ]
     },
     "execution_count": 45,
     "metadata": {},
     "output_type": "execute_result"
    }
   ],
   "source": [
    "model.summary(), model.input_shape"
   ]
  },
  {
   "cell_type": "code",
   "execution_count": 46,
   "metadata": {},
   "outputs": [],
   "source": [
    "model.compile(loss=keras.losses.sparse_categorical_crossentropy, \n",
    "              optimizer=keras.optimizers.SGD(momentum=0.9), \n",
    "              metrics=[keras.metrics.sparse_categorical_accuracy])"
   ]
  },
  {
   "cell_type": "code",
   "execution_count": 47,
   "metadata": {},
   "outputs": [
    {
     "name": "stdout",
     "output_type": "stream",
     "text": [
      "Epoch 1/100\n",
      "3369/3369 [==============================] - 7s 2ms/step - loss: 1.3782 - sparse_categorical_accuracy: 0.5958 - val_loss: 0.7817 - val_sparse_categorical_accuracy: 0.7696 - lr: 0.0100\n",
      "Epoch 2/100\n",
      "3369/3369 [==============================] - 6s 2ms/step - loss: 0.8112 - sparse_categorical_accuracy: 0.7436 - val_loss: 0.6445 - val_sparse_categorical_accuracy: 0.8144 - lr: 0.0100\n",
      "Epoch 3/100\n",
      "3369/3369 [==============================] - 6s 2ms/step - loss: 0.6829 - sparse_categorical_accuracy: 0.7803 - val_loss: 0.6067 - val_sparse_categorical_accuracy: 0.8196 - lr: 0.0100\n",
      "Epoch 4/100\n",
      "3369/3369 [==============================] - 6s 2ms/step - loss: 0.6182 - sparse_categorical_accuracy: 0.7977 - val_loss: 0.6047 - val_sparse_categorical_accuracy: 0.8270 - lr: 0.0100\n",
      "Epoch 5/100\n",
      "3369/3369 [==============================] - 6s 2ms/step - loss: 0.5696 - sparse_categorical_accuracy: 0.8122 - val_loss: 0.5620 - val_sparse_categorical_accuracy: 0.8320 - lr: 0.0100\n",
      "Epoch 6/100\n",
      "3369/3369 [==============================] - 6s 2ms/step - loss: 0.5311 - sparse_categorical_accuracy: 0.8226 - val_loss: 0.5472 - val_sparse_categorical_accuracy: 0.8436 - lr: 0.0100\n",
      "Epoch 7/100\n",
      "3369/3369 [==============================] - 6s 2ms/step - loss: 0.5045 - sparse_categorical_accuracy: 0.8304 - val_loss: 0.5411 - val_sparse_categorical_accuracy: 0.8486 - lr: 0.0100\n",
      "Epoch 8/100\n",
      "3369/3369 [==============================] - 6s 2ms/step - loss: 0.4756 - sparse_categorical_accuracy: 0.8381 - val_loss: 0.5377 - val_sparse_categorical_accuracy: 0.8472 - lr: 0.0100\n",
      "Epoch 9/100\n",
      "3369/3369 [==============================] - 6s 2ms/step - loss: 0.4561 - sparse_categorical_accuracy: 0.8417 - val_loss: 0.5467 - val_sparse_categorical_accuracy: 0.8420 - lr: 0.0100\n",
      "Epoch 10/100\n",
      "3369/3369 [==============================] - 6s 2ms/step - loss: 0.4403 - sparse_categorical_accuracy: 0.8472 - val_loss: 0.5591 - val_sparse_categorical_accuracy: 0.8490 - lr: 0.0100\n",
      "Epoch 11/100\n",
      "3369/3369 [==============================] - 6s 2ms/step - loss: 0.4206 - sparse_categorical_accuracy: 0.8518 - val_loss: 0.5600 - val_sparse_categorical_accuracy: 0.8432 - lr: 0.0100\n",
      "Epoch 12/100\n",
      "3369/3369 [==============================] - 6s 2ms/step - loss: 0.4086 - sparse_categorical_accuracy: 0.8560 - val_loss: 0.5451 - val_sparse_categorical_accuracy: 0.8528 - lr: 0.0100\n",
      "Epoch 13/100\n",
      "3369/3369 [==============================] - 6s 2ms/step - loss: 0.3285 - sparse_categorical_accuracy: 0.8769 - val_loss: 0.5102 - val_sparse_categorical_accuracy: 0.8652 - lr: 0.0050\n",
      "Epoch 14/100\n",
      "3369/3369 [==============================] - 6s 2ms/step - loss: 0.3045 - sparse_categorical_accuracy: 0.8835 - val_loss: 0.5285 - val_sparse_categorical_accuracy: 0.8626 - lr: 0.0050\n",
      "Epoch 15/100\n",
      "3369/3369 [==============================] - 6s 2ms/step - loss: 0.2927 - sparse_categorical_accuracy: 0.8873 - val_loss: 0.5199 - val_sparse_categorical_accuracy: 0.8674 - lr: 0.0050\n",
      "Epoch 16/100\n",
      "3369/3369 [==============================] - 6s 2ms/step - loss: 0.2848 - sparse_categorical_accuracy: 0.8900 - val_loss: 0.5352 - val_sparse_categorical_accuracy: 0.8686 - lr: 0.0050\n",
      "Epoch 17/100\n",
      "3369/3369 [==============================] - 6s 2ms/step - loss: 0.2783 - sparse_categorical_accuracy: 0.8918 - val_loss: 0.5404 - val_sparse_categorical_accuracy: 0.8646 - lr: 0.0050\n",
      "Epoch 18/100\n",
      "3369/3369 [==============================] - 7s 2ms/step - loss: 0.2469 - sparse_categorical_accuracy: 0.9016 - val_loss: 0.5350 - val_sparse_categorical_accuracy: 0.8676 - lr: 0.0025\n",
      "Epoch 19/100\n",
      "3369/3369 [==============================] - 7s 2ms/step - loss: 0.2379 - sparse_categorical_accuracy: 0.9046 - val_loss: 0.5357 - val_sparse_categorical_accuracy: 0.8668 - lr: 0.0025\n",
      "Epoch 20/100\n",
      "3369/3369 [==============================] - 7s 2ms/step - loss: 0.2323 - sparse_categorical_accuracy: 0.9068 - val_loss: 0.5472 - val_sparse_categorical_accuracy: 0.8714 - lr: 0.0025\n",
      "Epoch 21/100\n",
      "3369/3369 [==============================] - 7s 2ms/step - loss: 0.2299 - sparse_categorical_accuracy: 0.9076 - val_loss: 0.5353 - val_sparse_categorical_accuracy: 0.8736 - lr: 0.0025\n",
      "Epoch 22/100\n",
      "3369/3369 [==============================] - 6s 2ms/step - loss: 0.2154 - sparse_categorical_accuracy: 0.9129 - val_loss: 0.5406 - val_sparse_categorical_accuracy: 0.8734 - lr: 0.0012\n",
      "Epoch 23/100\n",
      "3369/3369 [==============================] - 7s 2ms/step - loss: 0.2110 - sparse_categorical_accuracy: 0.9137 - val_loss: 0.5419 - val_sparse_categorical_accuracy: 0.8726 - lr: 0.0012\n"
     ]
    }
   ],
   "source": [
    "tensorboard_cb = callbacks.TensorBoard(run_logdir)\n",
    "early_stopping_cb = callbacks.EarlyStopping(patience=10, restore_best_weights=True)\n",
    "lr_scheduler_cb = callbacks.ReduceLROnPlateau(factor=0.5, patience=4)\n",
    "history = model.fit(x_train, y_train, epochs=100, validation_data=(x_valid, y_valid), callbacks=[early_stopping_cb, lr_scheduler_cb, tensorboard_cb])"
   ]
  },
  {
   "cell_type": "code",
   "execution_count": 48,
   "metadata": {},
   "outputs": [
    {
     "data": {
      "image/png": "[encoded data removed]",
      "text/plain": [
       "<Figure size 576x360 with 1 Axes>"
      ]
     },
     "metadata": {
      "needs_background": "light"
     },
     "output_type": "display_data"
    }
   ],
   "source": [
    "pd.DataFrame(history.history).plot(figsize=(8, 5))\n",
    "plt.grid(True)\n",
    "plt.gca().set_ylim(0, 1) # set the vertical range to [0-1]\n",
    "plt.show()"
   ]
  },
  {
   "cell_type": "code",
   "execution_count": 50,
   "metadata": {},
   "outputs": [],
   "source": [
    "label_map = pd.read_csv(\"Datasets/emnist-balanced-mapping.txt\", \n",
    "                        delimiter = ' ', \n",
    "                        index_col=0, \n",
    "                        header=None, \n",
    "                        squeeze=True)\n",
    "\n",
    "label_dictionary = {}\n",
    "for index, label in enumerate(label_map):\n",
    "    label_dictionary[index] = chr(label)"
   ]
  },
  {
   "cell_type": "code",
   "execution_count": 51,
   "metadata": {},
   "outputs": [],
   "source": [
    "def show_image(image):\n",
    "    image = image.reshape(28,28)\n",
    "    image = numpy.fliplr(image)\n",
    "    image = numpy.rot90(image)\n",
    "\n",
    "    plt.imshow(image, cmap=\"binary\")\n",
    "    plt.axis(\"off\")\n",
    "    plt.show()\n",
    "\n",
    "def get_random_image():\n",
    "    x_test = random.choice(test[:,1:])\n",
    "    x_test = x_test / 255.0\n",
    "    x_test = numpy.expand_dims(x_test, axis=0)\n",
    "    return x_test\n",
    "\n",
    "def predict_image(image):\n",
    "    y_proba = model.predict(image)\n",
    "    print(y_proba.round(2))\n",
    "    return numpy.argmax(y_proba, axis=1)\n"
   ]
  },
  {
   "cell_type": "code",
   "execution_count": 62,
   "metadata": {},
   "outputs": [
    {
     "data": {
      "image/png": "[encoded data removed]",
      "text/plain": [
       "<Figure size 432x288 with 1 Axes>"
      ]
     },
     "metadata": {
      "needs_background": "light"
     },
     "output_type": "display_data"
    },
    {
     "name": "stdout",
     "output_type": "stream",
     "text": [
      "[[0. 0. 0. 0. 0. 0. 0. 0. 0. 0. 0. 0. 0. 0. 0. 0. 0. 0. 0. 0. 0. 0. 0. 1.\n",
      "  0. 0. 0. 0. 0. 0. 0. 0. 0. 0. 0. 0. 0. 0. 0. 0. 0. 0. 0. 0. 0. 0. 0.]]\n",
      "Prediction:\n",
      "Label index: 23\n",
      "Character predicted: N\n"
     ]
    }
   ],
   "source": [
    "image = get_random_image()\n",
    "show_image(image)\n",
    "image_class = predict_image(image)\n",
    "\n",
    "print(\"Prediction:\")\n",
    "print(\"Label index:\", image_class[0])\n",
    "print(\"Character predicted:\", label_dictionary[image_class[0]])"
   ]
  },
  {
   "cell_type": "code",
   "execution_count": 54,
   "metadata": {},
   "outputs": [
    {
     "name": "stdout",
     "output_type": "stream",
     "text": [
      "The tensorboard extension is already loaded. To reload it, use:\n",
      "  %reload_ext tensorboard\n"
     ]
    },
    {
     "data": {
      "text/plain": [
       "Reusing TensorBoard on port 6006 (pid 30988), started 12:31:51 ago. (Use '!kill 30988' to kill it.)"
      ]
     },
     "metadata": {},
     "output_type": "display_data"
    },
    {
     "data": {
      "text/html": [
       "\n",
       "      <iframe id=\"tensorboard-frame-f4d6b98a65efe017\" width=\"100%\" height=\"800\" frameborder=\"0\">\n",
       "      </iframe>\n",
       "      <script>\n",
       "        (function() {\n",
       "          const frame = document.getElementById(\"tensorboard-frame-f4d6b98a65efe017\");\n",
       "          const url = new URL(\"http://localhost\");\n",
       "          const port = 6006;\n",
       "          if (port) {\n",
       "            url.port = port;\n",
       "          }\n",
       "          frame.src = url;\n",
       "        })();\n",
       "      </script>\n",
       "    "
      ],
      "text/plain": [
       "<IPython.core.display.HTML object>"
      ]
     },
     "metadata": {},
     "output_type": "display_data"
    }
   ],
   "source": [
    "%load_ext tensorboard\n",
    "%tensorboard --logdir=./my_logs --port=6006\n"
   ]
  }
 ],
 "metadata": {
  "interpreter": {
   "hash": "830bd4b94685321d0b550ba9a75ad9d58de144fde38c75487e899dd4e7e6ada5"
  },
  "kernelspec": {
   "display_name": "Python 3.9.8 64-bit",
   "language": "python",
   "name": "python3"
  },
  "language_info": {
   "codemirror_mode": {
    "name": "ipython",
    "version": 3
   },
   "file_extension": ".py",
   "mimetype": "text/x-python",
   "name": "python",
   "nbconvert_exporter": "python",
   "pygments_lexer": "ipython3",
   "version": "3.9.9"
  },
  "orig_nbformat": 4
 },
 "nbformat": 4,
 "nbformat_minor": 2
}
