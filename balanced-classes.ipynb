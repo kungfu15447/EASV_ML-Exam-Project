{
 "cells": [
  {
   "cell_type": "code",
   "execution_count": 62,
   "metadata": {},
   "outputs": [],
   "source": [
    "import pandas as pd\n",
    "import matplotlib.pyplot as plt\n",
    "import numpy\n",
    "from tensorflow import keras\n",
    "from keras.layers import Dense, Flatten, AlphaDropout\n",
    "import keras.callbacks as callbacks;\n",
    "import os"
   ]
  },
  {
   "cell_type": "code",
   "execution_count": null,
   "metadata": {},
   "outputs": [],
   "source": [
    "root_logdir = os.path.join(os.curdir, \"my_logs\")\n",
    "\n",
    "def get_run_logdir():\n",
    " import time\n",
    " run_id = time.strftime(\"run_%Y_%m_%d-%H_%M_%S\")\n",
    " return os.path.join(root_logdir, run_id)\n",
    "\n",
    "run_logdir = get_run_logdir()"
   ]
  },
  {
   "cell_type": "code",
   "execution_count": 63,
   "metadata": {},
   "outputs": [
    {
     "data": {
      "text/plain": [
       "(112799, 785)"
      ]
     },
     "execution_count": 63,
     "metadata": {},
     "output_type": "execute_result"
    }
   ],
   "source": [
    "test = pd.read_csv(\"Datasets/emnist-balanced-test.csv\").to_numpy()\n",
    "train = pd.read_csv(\"Datasets/emnist-balanced-train.csv\").to_numpy()\n",
    "train.shape"
   ]
  },
  {
   "cell_type": "code",
   "execution_count": 64,
   "metadata": {},
   "outputs": [
    {
     "data": {
      "text/plain": [
       "((107799, 784), (107799,))"
      ]
     },
     "execution_count": 64,
     "metadata": {},
     "output_type": "execute_result"
    }
   ],
   "source": [
    "x_train, x_valid = train[5000:, 1:], train[:5000, 1:]\n",
    "x_train, x_valid = x_train / 255.0, x_valid/ 255.0\n",
    "y_train, y_valid = train[5000:, 0], train[:5000, 0]\n",
    "\n",
    "x_train.shape, y_train.shape"
   ]
  },
  {
   "cell_type": "code",
   "execution_count": 65,
   "metadata": {},
   "outputs": [
    {
     "data": {
      "text/plain": [
       "47"
      ]
     },
     "execution_count": 65,
     "metadata": {},
     "output_type": "execute_result"
    }
   ],
   "source": [
    "y_train_unique = numpy.unique(y_train)\n",
    "y_train_unique.size"
   ]
  },
  {
   "cell_type": "code",
   "execution_count": 66,
   "metadata": {},
   "outputs": [],
   "source": [
    "model = keras.models.Sequential([\n",
    "    Flatten(input_shape=[784]),\n",
    "    Dense(416, activation=\"relu\"),\n",
    "    AlphaDropout(rate=0.2),\n",
    "    Dense(y_train_unique.size, activation=\"softmax\")\n",
    "])"
   ]
  },
  {
   "cell_type": "code",
   "execution_count": 67,
   "metadata": {},
   "outputs": [
    {
     "name": "stdout",
     "output_type": "stream",
     "text": [
      "Model: \"sequential_5\"\n",
      "_________________________________________________________________\n",
      " Layer (type)                Output Shape              Param #   \n",
      "=================================================================\n",
      " flatten_5 (Flatten)         (None, 784)               0         \n",
      "                                                                 \n",
      " dense_21 (Dense)            (None, 416)               326560    \n",
      "                                                                 \n",
      " alpha_dropout_1 (AlphaDropo  (None, 416)              0         \n",
      " ut)                                                             \n",
      "                                                                 \n",
      " dense_22 (Dense)            (None, 47)                19599     \n",
      "                                                                 \n",
      "=================================================================\n",
      "Total params: 346,159\n",
      "Trainable params: 346,159\n",
      "Non-trainable params: 0\n",
      "_________________________________________________________________\n"
     ]
    },
    {
     "data": {
      "text/plain": [
       "(None, (None, 784))"
      ]
     },
     "execution_count": 67,
     "metadata": {},
     "output_type": "execute_result"
    }
   ],
   "source": [
    "model.summary(), model.input_shape"
   ]
  },
  {
   "cell_type": "code",
   "execution_count": 68,
   "metadata": {},
   "outputs": [],
   "source": [
    "model.compile(loss=keras.losses.sparse_categorical_crossentropy, \n",
    "              optimizer=keras.optimizers.SGD(momentum=0.9), \n",
    "              metrics=[keras.metrics.sparse_categorical_accuracy])"
   ]
  },
  {
   "cell_type": "code",
   "execution_count": 69,
   "metadata": {},
   "outputs": [
    {
     "name": "stdout",
     "output_type": "stream",
     "text": [
      "Epoch 1/100\n",
      "3369/3369 [==============================] - 8s 2ms/step - loss: 1.6977 - sparse_categorical_accuracy: 0.5184 - val_loss: 0.9946 - val_sparse_categorical_accuracy: 0.7146 - lr: 0.0100\n",
      "Epoch 2/100\n",
      "3369/3369 [==============================] - 8s 2ms/step - loss: 1.2139 - sparse_categorical_accuracy: 0.6407 - val_loss: 0.8298 - val_sparse_categorical_accuracy: 0.7632 - lr: 0.0100\n",
      "Epoch 3/100\n",
      "3369/3369 [==============================] - 8s 2ms/step - loss: 1.0785 - sparse_categorical_accuracy: 0.6769 - val_loss: 0.7538 - val_sparse_categorical_accuracy: 0.7836 - lr: 0.0100\n",
      "Epoch 4/100\n",
      "3369/3369 [==============================] - 7s 2ms/step - loss: 1.0078 - sparse_categorical_accuracy: 0.6958 - val_loss: 0.7141 - val_sparse_categorical_accuracy: 0.7970 - lr: 0.0100\n",
      "Epoch 5/100\n",
      "3369/3369 [==============================] - 8s 2ms/step - loss: 0.9674 - sparse_categorical_accuracy: 0.7074 - val_loss: 0.7022 - val_sparse_categorical_accuracy: 0.8078 - lr: 0.0100\n",
      "Epoch 6/100\n",
      "3369/3369 [==============================] - 8s 2ms/step - loss: 0.9291 - sparse_categorical_accuracy: 0.7187 - val_loss: 0.6991 - val_sparse_categorical_accuracy: 0.8038 - lr: 0.0100\n",
      "Epoch 7/100\n",
      "3369/3369 [==============================] - 9s 3ms/step - loss: 0.9031 - sparse_categorical_accuracy: 0.7261 - val_loss: 0.6719 - val_sparse_categorical_accuracy: 0.8110 - lr: 0.0100\n",
      "Epoch 8/100\n",
      "3369/3369 [==============================] - 8s 2ms/step - loss: 0.8818 - sparse_categorical_accuracy: 0.7324 - val_loss: 0.7066 - val_sparse_categorical_accuracy: 0.8092 - lr: 0.0100\n",
      "Epoch 9/100\n",
      "3369/3369 [==============================] - 8s 2ms/step - loss: 0.8637 - sparse_categorical_accuracy: 0.7351 - val_loss: 0.6688 - val_sparse_categorical_accuracy: 0.8092 - lr: 0.0100\n",
      "Epoch 10/100\n",
      "3369/3369 [==============================] - 8s 3ms/step - loss: 0.8531 - sparse_categorical_accuracy: 0.7396 - val_loss: 0.6989 - val_sparse_categorical_accuracy: 0.8122 - lr: 0.0100\n",
      "Epoch 11/100\n",
      "3369/3369 [==============================] - 8s 3ms/step - loss: 0.8372 - sparse_categorical_accuracy: 0.7452 - val_loss: 0.6942 - val_sparse_categorical_accuracy: 0.8066 - lr: 0.0100\n",
      "Epoch 12/100\n",
      "3369/3369 [==============================] - 8s 2ms/step - loss: 0.8200 - sparse_categorical_accuracy: 0.7497 - val_loss: 0.6556 - val_sparse_categorical_accuracy: 0.8136 - lr: 0.0100\n",
      "Epoch 13/100\n",
      "3369/3369 [==============================] - 8s 2ms/step - loss: 0.8147 - sparse_categorical_accuracy: 0.7524 - val_loss: 0.6571 - val_sparse_categorical_accuracy: 0.8234 - lr: 0.0100\n",
      "Epoch 14/100\n",
      "3369/3369 [==============================] - 8s 2ms/step - loss: 0.8000 - sparse_categorical_accuracy: 0.7557 - val_loss: 0.6315 - val_sparse_categorical_accuracy: 0.8254 - lr: 0.0100\n",
      "Epoch 15/100\n",
      "3369/3369 [==============================] - 8s 2ms/step - loss: 0.7972 - sparse_categorical_accuracy: 0.7572 - val_loss: 0.6694 - val_sparse_categorical_accuracy: 0.8130 - lr: 0.0100\n",
      "Epoch 16/100\n",
      "3369/3369 [==============================] - 8s 2ms/step - loss: 0.7855 - sparse_categorical_accuracy: 0.7598 - val_loss: 0.6396 - val_sparse_categorical_accuracy: 0.8214 - lr: 0.0100\n",
      "Epoch 17/100\n",
      "3369/3369 [==============================] - 8s 2ms/step - loss: 0.7777 - sparse_categorical_accuracy: 0.7624 - val_loss: 0.5967 - val_sparse_categorical_accuracy: 0.8346 - lr: 0.0100\n",
      "Epoch 18/100\n",
      "3369/3369 [==============================] - 8s 2ms/step - loss: 0.7729 - sparse_categorical_accuracy: 0.7638 - val_loss: 0.6428 - val_sparse_categorical_accuracy: 0.8210 - lr: 0.0100\n",
      "Epoch 19/100\n",
      "3369/3369 [==============================] - 8s 2ms/step - loss: 0.7638 - sparse_categorical_accuracy: 0.7642 - val_loss: 0.6277 - val_sparse_categorical_accuracy: 0.8280 - lr: 0.0100\n",
      "Epoch 20/100\n",
      "3369/3369 [==============================] - 9s 3ms/step - loss: 0.7570 - sparse_categorical_accuracy: 0.7663 - val_loss: 0.6323 - val_sparse_categorical_accuracy: 0.8230 - lr: 0.0100\n",
      "Epoch 21/100\n",
      "3369/3369 [==============================] - 9s 3ms/step - loss: 0.7554 - sparse_categorical_accuracy: 0.7679 - val_loss: 0.6327 - val_sparse_categorical_accuracy: 0.8240 - lr: 0.0100.7560 - sparse_categorical_a - ETA: 5s - loss: 0.7558 - sparse\n",
      "Epoch 22/100\n",
      "3369/3369 [==============================] - 9s 3ms/step - loss: 0.6774 - sparse_categorical_accuracy: 0.7841 - val_loss: 0.5619 - val_sparse_categorical_accuracy: 0.8370 - lr: 0.0050\n",
      "Epoch 23/100\n",
      "3369/3369 [==============================] - 9s 3ms/step - loss: 0.6510 - sparse_categorical_accuracy: 0.7893 - val_loss: 0.5446 - val_sparse_categorical_accuracy: 0.8376 - lr: 0.0050\n",
      "Epoch 24/100\n",
      "3369/3369 [==============================] - 9s 3ms/step - loss: 0.6441 - sparse_categorical_accuracy: 0.7912 - val_loss: 0.5404 - val_sparse_categorical_accuracy: 0.8456 - lr: 0.0050\n",
      "Epoch 25/100\n",
      "3369/3369 [==============================] - 12s 4ms/step - loss: 0.6352 - sparse_categorical_accuracy: 0.7929 - val_loss: 0.5520 - val_sparse_categorical_accuracy: 0.8410 - lr: 0.0050\n",
      "Epoch 26/100\n",
      "3369/3369 [==============================] - 11s 3ms/step - loss: 0.6366 - sparse_categorical_accuracy: 0.7927 - val_loss: 0.5505 - val_sparse_categorical_accuracy: 0.8340 - lr: 0.0050\n",
      "Epoch 27/100\n",
      "3369/3369 [==============================] - 10s 3ms/step - loss: 0.6308 - sparse_categorical_accuracy: 0.7934 - val_loss: 0.5496 - val_sparse_categorical_accuracy: 0.8408 - lr: 0.0050\n",
      "Epoch 28/100\n",
      "3369/3369 [==============================] - 10s 3ms/step - loss: 0.6268 - sparse_categorical_accuracy: 0.7935 - val_loss: 0.5456 - val_sparse_categorical_accuracy: 0.8412 - lr: 0.0050\n",
      "Epoch 29/100\n",
      "3369/3369 [==============================] - 10s 3ms/step - loss: 0.5914 - sparse_categorical_accuracy: 0.8042 - val_loss: 0.5184 - val_sparse_categorical_accuracy: 0.8430 - lr: 0.0025\n",
      "Epoch 30/100\n",
      "3369/3369 [==============================] - 10s 3ms/step - loss: 0.5855 - sparse_categorical_accuracy: 0.8052 - val_loss: 0.5197 - val_sparse_categorical_accuracy: 0.8434 - lr: 0.0025\n",
      "Epoch 31/100\n",
      "3369/3369 [==============================] - 10s 3ms/step - loss: 0.5742 - sparse_categorical_accuracy: 0.8076 - val_loss: 0.5115 - val_sparse_categorical_accuracy: 0.8478 - lr: 0.0025\n",
      "Epoch 32/100\n",
      "3369/3369 [==============================] - 10s 3ms/step - loss: 0.5758 - sparse_categorical_accuracy: 0.8080 - val_loss: 0.5276 - val_sparse_categorical_accuracy: 0.8422 - lr: 0.0025\n",
      "Epoch 33/100\n",
      "3369/3369 [==============================] - 10s 3ms/step - loss: 0.5722 - sparse_categorical_accuracy: 0.8064 - val_loss: 0.5161 - val_sparse_categorical_accuracy: 0.8486 - lr: 0.0025\n",
      "Epoch 34/100\n",
      "3369/3369 [==============================] - 10s 3ms/step - loss: 0.5693 - sparse_categorical_accuracy: 0.8078 - val_loss: 0.5139 - val_sparse_categorical_accuracy: 0.8470 - lr: 0.0025\n",
      "Epoch 35/100\n",
      "3369/3369 [==============================] - 9s 3ms/step - loss: 0.5694 - sparse_categorical_accuracy: 0.8104 - val_loss: 0.5133 - val_sparse_categorical_accuracy: 0.8452 - lr: 0.0025\n",
      "Epoch 36/100\n",
      "3369/3369 [==============================] - 12s 3ms/step - loss: 0.5530 - sparse_categorical_accuracy: 0.8148 - val_loss: 0.4998 - val_sparse_categorical_accuracy: 0.8524 - lr: 0.0012\n",
      "Epoch 37/100\n",
      "3369/3369 [==============================] - 9s 3ms/step - loss: 0.5495 - sparse_categorical_accuracy: 0.8151 - val_loss: 0.4904 - val_sparse_categorical_accuracy: 0.8518 - lr: 0.0012\n",
      "Epoch 38/100\n",
      "3369/3369 [==============================] - 8s 2ms/step - loss: 0.5494 - sparse_categorical_accuracy: 0.8154 - val_loss: 0.4916 - val_sparse_categorical_accuracy: 0.8512 - lr: 0.0012\n",
      "Epoch 39/100\n",
      "3369/3369 [==============================] - 9s 3ms/step - loss: 0.5466 - sparse_categorical_accuracy: 0.8174 - val_loss: 0.4935 - val_sparse_categorical_accuracy: 0.8526 - lr: 0.0012\n",
      "Epoch 40/100\n",
      "3369/3369 [==============================] - 10s 3ms/step - loss: 0.5412 - sparse_categorical_accuracy: 0.8173 - val_loss: 0.4909 - val_sparse_categorical_accuracy: 0.8516 - lr: 0.0012\n",
      "Epoch 41/100\n",
      "3369/3369 [==============================] - 12s 3ms/step - loss: 0.5408 - sparse_categorical_accuracy: 0.8174 - val_loss: 0.4931 - val_sparse_categorical_accuracy: 0.8482 - lr: 0.0012\n",
      "Epoch 42/100\n",
      "3369/3369 [==============================] - 12s 4ms/step - loss: 0.5367 - sparse_categorical_accuracy: 0.8190 - val_loss: 0.4852 - val_sparse_categorical_accuracy: 0.8542 - lr: 6.2500e-04\n",
      "Epoch 43/100\n",
      "3369/3369 [==============================] - 11s 3ms/step - loss: 0.5304 - sparse_categorical_accuracy: 0.8214 - val_loss: 0.4812 - val_sparse_categorical_accuracy: 0.8526 - lr: 6.2500e-04\n",
      "Epoch 44/100\n",
      "3369/3369 [==============================] - 11s 3ms/step - loss: 0.5302 - sparse_categorical_accuracy: 0.8205 - val_loss: 0.4840 - val_sparse_categorical_accuracy: 0.8554 - lr: 6.2500e-040.5295 - sparse_categorical_accuracy: 0.\n",
      "Epoch 45/100\n",
      "3369/3369 [==============================] - 10s 3ms/step - loss: 0.5312 - sparse_categorical_accuracy: 0.8213 - val_loss: 0.4790 - val_sparse_categorical_accuracy: 0.8556 - lr: 6.2500e-04\n",
      "Epoch 46/100\n",
      "3369/3369 [==============================] - 10s 3ms/step - loss: 0.5306 - sparse_categorical_accuracy: 0.8207 - val_loss: 0.4863 - val_sparse_categorical_accuracy: 0.8532 - lr: 6.2500e-04\n",
      "Epoch 47/100\n",
      "3369/3369 [==============================] - 9s 3ms/step - loss: 0.5301 - sparse_categorical_accuracy: 0.8212 - val_loss: 0.4803 - val_sparse_categorical_accuracy: 0.8562 - lr: 6.2500e-04\n",
      "Epoch 48/100\n",
      "3369/3369 [==============================] - 10s 3ms/step - loss: 0.5313 - sparse_categorical_accuracy: 0.8219 - val_loss: 0.4765 - val_sparse_categorical_accuracy: 0.8554 - lr: 6.2500e-04\n",
      "Epoch 49/100\n",
      "3369/3369 [==============================] - 9s 3ms/step - loss: 0.5294 - sparse_categorical_accuracy: 0.8214 - val_loss: 0.4841 - val_sparse_categorical_accuracy: 0.8522 - lr: 6.2500e-04\n",
      "Epoch 50/100\n",
      "3369/3369 [==============================] - 11s 3ms/step - loss: 0.5271 - sparse_categorical_accuracy: 0.8213 - val_loss: 0.4825 - val_sparse_categorical_accuracy: 0.8524 - lr: 6.2500e-04\n",
      "Epoch 51/100\n",
      "3369/3369 [==============================] - 10s 3ms/step - loss: 0.5258 - sparse_categorical_accuracy: 0.8238 - val_loss: 0.4832 - val_sparse_categorical_accuracy: 0.8512 - lr: 6.2500e-04\n",
      "Epoch 52/100\n",
      "3369/3369 [==============================] - 8s 2ms/step - loss: 0.5249 - sparse_categorical_accuracy: 0.8243 - val_loss: 0.4774 - val_sparse_categorical_accuracy: 0.8518 - lr: 6.2500e-04\n",
      "Epoch 53/100\n",
      "3369/3369 [==============================] - 10s 3ms/step - loss: 0.5224 - sparse_categorical_accuracy: 0.8229 - val_loss: 0.4799 - val_sparse_categorical_accuracy: 0.8540 - lr: 3.1250e-04\n",
      "Epoch 54/100\n",
      "3369/3369 [==============================] - 9s 3ms/step - loss: 0.5211 - sparse_categorical_accuracy: 0.8241 - val_loss: 0.4789 - val_sparse_categorical_accuracy: 0.8538 - lr: 3.1250e-04\n",
      "Epoch 55/100\n",
      "3369/3369 [==============================] - 10s 3ms/step - loss: 0.5174 - sparse_categorical_accuracy: 0.8261 - val_loss: 0.4808 - val_sparse_categorical_accuracy: 0.8542 - lr: 3.1250e-04\n",
      "Epoch 56/100\n",
      "3369/3369 [==============================] - 11s 3ms/step - loss: 0.5211 - sparse_categorical_accuracy: 0.8236 - val_loss: 0.4781 - val_sparse_categorical_accuracy: 0.8532 - lr: 3.1250e-04\n",
      "Epoch 57/100\n",
      "3369/3369 [==============================] - 10s 3ms/step - loss: 0.5160 - sparse_categorical_accuracy: 0.8263 - val_loss: 0.4761 - val_sparse_categorical_accuracy: 0.8542 - lr: 1.5625e-04\n",
      "Epoch 58/100\n",
      "3369/3369 [==============================] - 8s 2ms/step - loss: 0.5156 - sparse_categorical_accuracy: 0.8265 - val_loss: 0.4772 - val_sparse_categorical_accuracy: 0.8556 - lr: 1.5625e-04\n",
      "Epoch 59/100\n",
      "3369/3369 [==============================] - 8s 2ms/step - loss: 0.5158 - sparse_categorical_accuracy: 0.8264 - val_loss: 0.4765 - val_sparse_categorical_accuracy: 0.8546 - lr: 1.5625e-04\n",
      "Epoch 60/100\n",
      "3369/3369 [==============================] - 8s 2ms/step - loss: 0.5161 - sparse_categorical_accuracy: 0.8267 - val_loss: 0.4788 - val_sparse_categorical_accuracy: 0.8534 - lr: 1.5625e-04\n",
      "Epoch 61/100\n",
      "3369/3369 [==============================] - 8s 2ms/step - loss: 0.5174 - sparse_categorical_accuracy: 0.8263 - val_loss: 0.4760 - val_sparse_categorical_accuracy: 0.8544 - lr: 1.5625e-04\n",
      "Epoch 62/100\n",
      "3369/3369 [==============================] - 10s 3ms/step - loss: 0.5144 - sparse_categorical_accuracy: 0.8265 - val_loss: 0.4762 - val_sparse_categorical_accuracy: 0.8544 - lr: 1.5625e-04\n",
      "Epoch 63/100\n",
      "3369/3369 [==============================] - 10s 3ms/step - loss: 0.5199 - sparse_categorical_accuracy: 0.8244 - val_loss: 0.4777 - val_sparse_categorical_accuracy: 0.8548 - lr: 1.5625e-04\n",
      "Epoch 64/100\n",
      "3369/3369 [==============================] - 10s 3ms/step - loss: 0.5179 - sparse_categorical_accuracy: 0.8238 - val_loss: 0.4780 - val_sparse_categorical_accuracy: 0.8536 - lr: 1.5625e-04\n",
      "Epoch 65/100\n",
      "3369/3369 [==============================] - 10s 3ms/step - loss: 0.5147 - sparse_categorical_accuracy: 0.8272 - val_loss: 0.4764 - val_sparse_categorical_accuracy: 0.8532 - lr: 1.5625e-04\n",
      "Epoch 66/100\n",
      "3369/3369 [==============================] - 12s 4ms/step - loss: 0.5180 - sparse_categorical_accuracy: 0.8258 - val_loss: 0.4765 - val_sparse_categorical_accuracy: 0.8542 - lr: 7.8125e-05\n",
      "Epoch 67/100\n",
      "3369/3369 [==============================] - 11s 3ms/step - loss: 0.5162 - sparse_categorical_accuracy: 0.8257 - val_loss: 0.4758 - val_sparse_categorical_accuracy: 0.8556 - lr: 7.8125e-05\n",
      "Epoch 68/100\n",
      "3369/3369 [==============================] - 10s 3ms/step - loss: 0.5161 - sparse_categorical_accuracy: 0.8258 - val_loss: 0.4745 - val_sparse_categorical_accuracy: 0.8562 - lr: 7.8125e-05\n",
      "Epoch 69/100\n",
      "3369/3369 [==============================] - 11s 3ms/step - loss: 0.5158 - sparse_categorical_accuracy: 0.8265 - val_loss: 0.4764 - val_sparse_categorical_accuracy: 0.8544 - lr: 7.8125e-05\n",
      "Epoch 70/100\n",
      "3369/3369 [==============================] - 10s 3ms/step - loss: 0.5155 - sparse_categorical_accuracy: 0.8266 - val_loss: 0.4754 - val_sparse_categorical_accuracy: 0.8544 - lr: 7.8125e-05\n",
      "Epoch 71/100\n",
      "3369/3369 [==============================] - 10s 3ms/step - loss: 0.5142 - sparse_categorical_accuracy: 0.8266 - val_loss: 0.4758 - val_sparse_categorical_accuracy: 0.8556 - lr: 7.8125e-05\n",
      "Epoch 72/100\n",
      "3369/3369 [==============================] - 11s 3ms/step - loss: 0.5145 - sparse_categorical_accuracy: 0.8269 - val_loss: 0.4749 - val_sparse_categorical_accuracy: 0.8556 - lr: 7.8125e-05\n",
      "Epoch 73/100\n",
      "3369/3369 [==============================] - 10s 3ms/step - loss: 0.5114 - sparse_categorical_accuracy: 0.8278 - val_loss: 0.4753 - val_sparse_categorical_accuracy: 0.8564 - lr: 3.9062e-05\n",
      "Epoch 74/100\n",
      "3369/3369 [==============================] - 10s 3ms/step - loss: 0.5145 - sparse_categorical_accuracy: 0.8263 - val_loss: 0.4753 - val_sparse_categorical_accuracy: 0.8564 - lr: 3.9062e-05\n",
      "Epoch 75/100\n",
      "3369/3369 [==============================] - 10s 3ms/step - loss: 0.5156 - sparse_categorical_accuracy: 0.8265 - val_loss: 0.4751 - val_sparse_categorical_accuracy: 0.8552 - lr: 3.9062e-05\n",
      "Epoch 76/100\n",
      "3369/3369 [==============================] - 9s 3ms/step - loss: 0.5132 - sparse_categorical_accuracy: 0.8262 - val_loss: 0.4751 - val_sparse_categorical_accuracy: 0.8554 - lr: 3.9062e-05\n",
      "Epoch 77/100\n",
      "3369/3369 [==============================] - 9s 3ms/step - loss: 0.5144 - sparse_categorical_accuracy: 0.8267 - val_loss: 0.4758 - val_sparse_categorical_accuracy: 0.8550 - lr: 1.9531e-05\n",
      "Epoch 78/100\n",
      "3369/3369 [==============================] - 9s 3ms/step - loss: 0.5136 - sparse_categorical_accuracy: 0.8268 - val_loss: 0.4755 - val_sparse_categorical_accuracy: 0.8550 - lr: 1.9531e-05\n"
     ]
    }
   ],
   "source": [
    "tensorboard_cb = callbacks.TensorBoard(run_logdir)\n",
    "early_stopping_cb = callbacks.EarlyStopping(patience=10, restore_best_weights=True)\n",
    "lr_scheduler_cb = callbacks.ReduceLROnPlateau(factor=0.5, patience=4)\n",
    "history = model.fit(x_train, y_train, epochs=100, validation_data=(x_valid, y_valid), callbacks=[early_stopping_cb, lr_scheduler_cb, tensorboard_cb])"
   ]
  },
  {
   "cell_type": "code",
   "execution_count": 70,
   "metadata": {},
   "outputs": [
    {
     "data": {
      "image/png": "[encoded data removed]",
      "text/plain": [
       "<Figure size 576x360 with 1 Axes>"
      ]
     },
     "metadata": {
      "needs_background": "light"
     },
     "output_type": "display_data"
    }
   ],
   "source": [
    "pd.DataFrame(history.history).plot(figsize=(8, 5))\n",
    "plt.grid(True)\n",
    "plt.gca().set_ylim(0, 1) # set the vertical range to [0-1]\n",
    "plt.show()"
   ]
  },
  {
   "cell_type": "code",
   "execution_count": 71,
   "metadata": {},
   "outputs": [
    {
     "data": {
      "text/plain": [
       "((3, 784), (3,))"
      ]
     },
     "execution_count": 71,
     "metadata": {},
     "output_type": "execute_result"
    }
   ],
   "source": [
    "x_test = test[:3,1:]\n",
    "x_test = x_test / 255.0\n",
    "y_test = test[:3, 0]\n",
    "x_test.shape, y_test.shape"
   ]
  },
  {
   "cell_type": "code",
   "execution_count": 72,
   "metadata": {},
   "outputs": [
    {
     "name": "stdout",
     "output_type": "stream",
     "text": [
      "WARNING:tensorflow:6 out of the last 6 calls to <function Model.make_predict_function.<locals>.predict_function at 0x0000023860516CA0> triggered tf.function retracing. Tracing is expensive and the excessive number of tracings could be due to (1) creating @tf.function repeatedly in a loop, (2) passing tensors with different shapes, (3) passing Python objects instead of tensors. For (1), please define your @tf.function outside of the loop. For (2), @tf.function has experimental_relax_shapes=True option that relaxes argument shapes that can avoid unnecessary retracing. For (3), please refer to https://www.tensorflow.org/guide/function#controlling_retracing and https://www.tensorflow.org/api_docs/python/tf/function for  more details.\n"
     ]
    },
    {
     "data": {
      "text/plain": [
       "array([[0.  , 0.  , 0.  , 0.  , 0.  , 0.  , 0.  , 0.  , 0.  , 0.  , 0.  ,\n",
       "        0.  , 0.  , 0.  , 0.  , 0.  , 0.  , 0.  , 0.  , 0.  , 0.  , 0.  ,\n",
       "        0.  , 0.  , 0.  , 0.  , 0.  , 0.  , 0.  , 0.  , 0.  , 0.  , 0.  ,\n",
       "        0.  , 0.  , 0.  , 0.  , 0.  , 0.  , 1.  , 0.  , 0.  , 0.  , 0.  ,\n",
       "        0.  , 0.  , 0.  ],\n",
       "       [0.  , 0.  , 0.  , 0.  , 0.  , 0.  , 0.  , 0.  , 0.  , 0.89, 0.  ,\n",
       "        0.  , 0.  , 0.  , 0.  , 0.  , 0.  , 0.  , 0.  , 0.  , 0.  , 0.  ,\n",
       "        0.  , 0.  , 0.  , 0.  , 0.  , 0.  , 0.  , 0.  , 0.  , 0.  , 0.  ,\n",
       "        0.  , 0.  , 0.  , 0.  , 0.  , 0.  , 0.  , 0.  , 0.02, 0.  , 0.  ,\n",
       "        0.09, 0.  , 0.  ],\n",
       "       [0.  , 0.  , 0.  , 0.  , 0.  , 0.  , 0.  , 0.  , 0.  , 0.  , 0.  ,\n",
       "        0.  , 0.  , 0.  , 0.  , 0.  , 0.  , 0.  , 0.  , 0.  , 0.  , 0.  ,\n",
       "        0.  , 0.  , 0.  , 0.  , 0.99, 0.  , 0.  , 0.  , 0.  , 0.  , 0.  ,\n",
       "        0.  , 0.  , 0.  , 0.  , 0.  , 0.  , 0.  , 0.  , 0.  , 0.  , 0.  ,\n",
       "        0.  , 0.  , 0.  ]], dtype=float32)"
      ]
     },
     "execution_count": 72,
     "metadata": {},
     "output_type": "execute_result"
    }
   ],
   "source": [
    "y_proba = model.predict(x_test)\n",
    "y_proba.round(2)"
   ]
  },
  {
   "cell_type": "code",
   "execution_count": 73,
   "metadata": {},
   "outputs": [
    {
     "data": {
      "text/plain": [
       "array([39,  9, 26], dtype=int64)"
      ]
     },
     "execution_count": 73,
     "metadata": {},
     "output_type": "execute_result"
    }
   ],
   "source": [
    "classes = numpy.argmax(y_proba, axis=1)\n",
    "classes"
   ]
  },
  {
   "cell_type": "code",
   "execution_count": null,
   "metadata": {},
   "outputs": [],
   "source": [
    "%load_ext tensorboard\n",
    "%tensorboard --logdir=./my_logs --port=6006\n"
   ]
  }
 ],
 "metadata": {
  "interpreter": {
   "hash": "830bd4b94685321d0b550ba9a75ad9d58de144fde38c75487e899dd4e7e6ada5"
  },
  "kernelspec": {
   "display_name": "Python 3.9.8 64-bit",
   "language": "python",
   "name": "python3"
  },
  "language_info": {
   "codemirror_mode": {
    "name": "ipython",
    "version": 3
   },
   "file_extension": ".py",
   "mimetype": "text/x-python",
   "name": "python",
   "nbconvert_exporter": "python",
   "pygments_lexer": "ipython3",
   "version": "3.9.9"
  },
  "orig_nbformat": 4
 },
 "nbformat": 4,
 "nbformat_minor": 2
}
