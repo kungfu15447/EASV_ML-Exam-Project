{
 "cells": [
  {
   "cell_type": "code",
   "execution_count": 14,
   "metadata": {},
   "outputs": [],
   "source": [
    "import pandas as pd\n",
    "import matplotlib.pyplot as plt\n",
    "import numpy\n",
    "from tensorflow import keras\n",
    "from keras.layers import Dense, Flatten, AlphaDropout, Dropout, Input\n",
    "import keras.callbacks as callbacks;\n",
    "import os\n",
    "import random"
   ]
  },
  {
   "cell_type": "code",
   "execution_count": 2,
   "metadata": {},
   "outputs": [],
   "source": [
    "root_logdir = os.path.join(os.curdir, \"my_logs\")\n",
    "\n",
    "def get_run_logdir():\n",
    " import time\n",
    " run_id = time.strftime(\"run_%Y_%m_%d-%H_%M_%S\")\n",
    " return os.path.join(root_logdir, run_id)\n",
    "\n",
    "run_logdir = get_run_logdir()"
   ]
  },
  {
   "cell_type": "code",
   "execution_count": 3,
   "metadata": {},
   "outputs": [],
   "source": [
    "test = pd.read_csv(\"Datasets/emnist-balanced-test.csv\").to_numpy()\n",
    "train = pd.read_csv(\"Datasets/emnist-balanced-train.csv\").to_numpy()"
   ]
  },
  {
   "cell_type": "code",
   "execution_count": 4,
   "metadata": {},
   "outputs": [
    {
     "data": {
      "text/plain": [
       "((112799, 784), (112799,))"
      ]
     },
     "execution_count": 4,
     "metadata": {},
     "output_type": "execute_result"
    }
   ],
   "source": [
    "x_train = train[:, 1:]\n",
    "x_train = x_train / 255.0\n",
    "\n",
    "y_train = train[:, 0]\n",
    "\n",
    "x_train.shape, y_train.shape"
   ]
  },
  {
   "cell_type": "code",
   "execution_count": 5,
   "metadata": {},
   "outputs": [
    {
     "data": {
      "text/plain": [
       "47"
      ]
     },
     "execution_count": 5,
     "metadata": {},
     "output_type": "execute_result"
    }
   ],
   "source": [
    "y_train_unique = numpy.unique(y_train)\n",
    "y_train_unique.size"
   ]
  },
  {
   "cell_type": "code",
   "execution_count": 6,
   "metadata": {},
   "outputs": [],
   "source": [
    "model = keras.models.Sequential([\n",
    "    Input(shape=(784,)),\n",
    "    Dense(416, activation=\"relu\"),\n",
    "    Dropout(rate=0.2),\n",
    "    Dense(y_train_unique.size, activation=\"softmax\")\n",
    "])"
   ]
  },
  {
   "cell_type": "code",
   "execution_count": 7,
   "metadata": {},
   "outputs": [
    {
     "name": "stdout",
     "output_type": "stream",
     "text": [
      "Model: \"sequential\"\n",
      "_________________________________________________________________\n",
      " Layer (type)                Output Shape              Param #   \n",
      "=================================================================\n",
      " dense (Dense)               (None, 416)               326560    \n",
      "                                                                 \n",
      " dropout (Dropout)           (None, 416)               0         \n",
      "                                                                 \n",
      " dense_1 (Dense)             (None, 47)                19599     \n",
      "                                                                 \n",
      "=================================================================\n",
      "Total params: 346,159\n",
      "Trainable params: 346,159\n",
      "Non-trainable params: 0\n",
      "_________________________________________________________________\n"
     ]
    },
    {
     "data": {
      "text/plain": [
       "(None, (None, 784))"
      ]
     },
     "execution_count": 7,
     "metadata": {},
     "output_type": "execute_result"
    }
   ],
   "source": [
    "model.summary(), model.input_shape"
   ]
  },
  {
   "cell_type": "code",
   "execution_count": 8,
   "metadata": {},
   "outputs": [],
   "source": [
    "model.compile(loss=keras.losses.sparse_categorical_crossentropy, \n",
    "              optimizer=keras.optimizers.SGD(momentum=0.9), \n",
    "              metrics=[keras.metrics.sparse_categorical_accuracy])"
   ]
  },
  {
   "cell_type": "code",
   "execution_count": 9,
   "metadata": {},
   "outputs": [
    {
     "name": "stdout",
     "output_type": "stream",
     "text": [
      "Epoch 1/100\n",
      "3173/3173 [==============================] - 7s 2ms/step - loss: 1.1531 - sparse_categorical_accuracy: 0.6698 - val_loss: 0.7420 - val_sparse_categorical_accuracy: 0.7695 - lr: 0.0100\n",
      "Epoch 2/100\n",
      "3173/3173 [==============================] - 7s 2ms/step - loss: 0.7076 - sparse_categorical_accuracy: 0.7802 - val_loss: 0.6088 - val_sparse_categorical_accuracy: 0.8020 - lr: 0.0100\n",
      "Epoch 3/100\n",
      "3173/3173 [==============================] - 6s 2ms/step - loss: 0.6076 - sparse_categorical_accuracy: 0.8043 - val_loss: 0.5531 - val_sparse_categorical_accuracy: 0.8160 - lr: 0.0100\n",
      "Epoch 4/100\n",
      "3173/3173 [==============================] - 6s 2ms/step - loss: 0.5537 - sparse_categorical_accuracy: 0.8197 - val_loss: 0.5206 - val_sparse_categorical_accuracy: 0.8241 - lr: 0.0100\n",
      "Epoch 5/100\n",
      "3173/3173 [==============================] - 6s 2ms/step - loss: 0.5157 - sparse_categorical_accuracy: 0.8296 - val_loss: 0.5036 - val_sparse_categorical_accuracy: 0.8294 - lr: 0.0100\n",
      "Epoch 6/100\n",
      "3173/3173 [==============================] - 6s 2ms/step - loss: 0.4882 - sparse_categorical_accuracy: 0.8357 - val_loss: 0.4924 - val_sparse_categorical_accuracy: 0.8347 - lr: 0.0100\n",
      "Epoch 7/100\n",
      "3173/3173 [==============================] - 6s 2ms/step - loss: 0.4681 - sparse_categorical_accuracy: 0.8414 - val_loss: 0.4796 - val_sparse_categorical_accuracy: 0.8347 - lr: 0.0100\n",
      "Epoch 8/100\n",
      "3173/3173 [==============================] - 6s 2ms/step - loss: 0.4481 - sparse_categorical_accuracy: 0.8473 - val_loss: 0.4811 - val_sparse_categorical_accuracy: 0.8361 - lr: 0.0100\n",
      "Epoch 9/100\n",
      "3173/3173 [==============================] - 7s 2ms/step - loss: 0.4317 - sparse_categorical_accuracy: 0.8512 - val_loss: 0.4703 - val_sparse_categorical_accuracy: 0.8427 - lr: 0.0100\n",
      "Epoch 10/100\n",
      "3173/3173 [==============================] - 7s 2ms/step - loss: 0.4183 - sparse_categorical_accuracy: 0.8553 - val_loss: 0.4707 - val_sparse_categorical_accuracy: 0.8378 - lr: 0.0100\n",
      "Epoch 11/100\n",
      "3173/3173 [==============================] - 6s 2ms/step - loss: 0.4102 - sparse_categorical_accuracy: 0.8583 - val_loss: 0.4646 - val_sparse_categorical_accuracy: 0.8442 - lr: 0.0100\n",
      "Epoch 12/100\n",
      "3173/3173 [==============================] - 6s 2ms/step - loss: 0.3968 - sparse_categorical_accuracy: 0.8610 - val_loss: 0.4665 - val_sparse_categorical_accuracy: 0.8405 - lr: 0.0100\n",
      "Epoch 13/100\n",
      "3173/3173 [==============================] - 6s 2ms/step - loss: 0.3863 - sparse_categorical_accuracy: 0.8642 - val_loss: 0.4599 - val_sparse_categorical_accuracy: 0.8434 - lr: 0.0100\n",
      "Epoch 14/100\n",
      "3173/3173 [==============================] - 6s 2ms/step - loss: 0.3793 - sparse_categorical_accuracy: 0.8674 - val_loss: 0.4604 - val_sparse_categorical_accuracy: 0.8429 - lr: 0.0100\n",
      "Epoch 15/100\n",
      "3173/3173 [==============================] - 6s 2ms/step - loss: 0.3709 - sparse_categorical_accuracy: 0.8689 - val_loss: 0.4556 - val_sparse_categorical_accuracy: 0.8465 - lr: 0.0100\n",
      "Epoch 16/100\n",
      "3173/3173 [==============================] - 6s 2ms/step - loss: 0.3624 - sparse_categorical_accuracy: 0.8699 - val_loss: 0.4630 - val_sparse_categorical_accuracy: 0.8423 - lr: 0.0100\n",
      "Epoch 17/100\n",
      "3173/3173 [==============================] - 6s 2ms/step - loss: 0.3528 - sparse_categorical_accuracy: 0.8736 - val_loss: 0.4710 - val_sparse_categorical_accuracy: 0.8424 - lr: 0.0100\n",
      "Epoch 18/100\n",
      "3173/3173 [==============================] - 7s 2ms/step - loss: 0.3471 - sparse_categorical_accuracy: 0.8751 - val_loss: 0.4640 - val_sparse_categorical_accuracy: 0.8444 - lr: 0.0100\n",
      "Epoch 19/100\n",
      "3173/3173 [==============================] - 6s 2ms/step - loss: 0.3410 - sparse_categorical_accuracy: 0.8775 - val_loss: 0.4613 - val_sparse_categorical_accuracy: 0.8443 - lr: 0.0100\n",
      "Epoch 20/100\n",
      "3173/3173 [==============================] - 7s 2ms/step - loss: 0.3052 - sparse_categorical_accuracy: 0.8896 - val_loss: 0.4485 - val_sparse_categorical_accuracy: 0.8466 - lr: 0.0050\n",
      "Epoch 21/100\n",
      "3173/3173 [==============================] - 7s 2ms/step - loss: 0.2965 - sparse_categorical_accuracy: 0.8923 - val_loss: 0.4451 - val_sparse_categorical_accuracy: 0.8496 - lr: 0.0050\n",
      "Epoch 22/100\n",
      "3173/3173 [==============================] - 6s 2ms/step - loss: 0.2929 - sparse_categorical_accuracy: 0.8946 - val_loss: 0.4467 - val_sparse_categorical_accuracy: 0.8504 - lr: 0.0050\n",
      "Epoch 23/100\n",
      "3173/3173 [==============================] - 6s 2ms/step - loss: 0.2886 - sparse_categorical_accuracy: 0.8957 - val_loss: 0.4438 - val_sparse_categorical_accuracy: 0.8535 - lr: 0.0050\n",
      "Epoch 24/100\n",
      "3173/3173 [==============================] - 6s 2ms/step - loss: 0.2867 - sparse_categorical_accuracy: 0.8951 - val_loss: 0.4450 - val_sparse_categorical_accuracy: 0.8501 - lr: 0.0050\n",
      "Epoch 25/100\n",
      "3173/3173 [==============================] - 6s 2ms/step - loss: 0.2850 - sparse_categorical_accuracy: 0.8959 - val_loss: 0.4516 - val_sparse_categorical_accuracy: 0.8488 - lr: 0.0050\n",
      "Epoch 26/100\n",
      "3173/3173 [==============================] - 6s 2ms/step - loss: 0.2786 - sparse_categorical_accuracy: 0.8982 - val_loss: 0.4492 - val_sparse_categorical_accuracy: 0.8513 - lr: 0.0050\n",
      "Epoch 27/100\n",
      "3173/3173 [==============================] - 6s 2ms/step - loss: 0.2759 - sparse_categorical_accuracy: 0.8986 - val_loss: 0.4508 - val_sparse_categorical_accuracy: 0.8510 - lr: 0.0050\n",
      "Epoch 28/100\n",
      "3173/3173 [==============================] - 6s 2ms/step - loss: 0.2617 - sparse_categorical_accuracy: 0.9047 - val_loss: 0.4467 - val_sparse_categorical_accuracy: 0.8491 - lr: 0.0025\n",
      "Epoch 29/100\n",
      "3173/3173 [==============================] - 6s 2ms/step - loss: 0.2561 - sparse_categorical_accuracy: 0.9068 - val_loss: 0.4459 - val_sparse_categorical_accuracy: 0.8519 - lr: 0.0025\n",
      "Epoch 30/100\n",
      "3173/3173 [==============================] - 6s 2ms/step - loss: 0.2554 - sparse_categorical_accuracy: 0.9066 - val_loss: 0.4469 - val_sparse_categorical_accuracy: 0.8512 - lr: 0.0025\n",
      "Epoch 31/100\n",
      "3173/3173 [==============================] - 6s 2ms/step - loss: 0.2540 - sparse_categorical_accuracy: 0.9074 - val_loss: 0.4462 - val_sparse_categorical_accuracy: 0.8505 - lr: 0.0025\n",
      "Epoch 32/100\n",
      "3173/3173 [==============================] - 6s 2ms/step - loss: 0.2467 - sparse_categorical_accuracy: 0.9101 - val_loss: 0.4466 - val_sparse_categorical_accuracy: 0.8529 - lr: 0.0012\n",
      "Epoch 33/100\n",
      "3173/3173 [==============================] - 6s 2ms/step - loss: 0.2439 - sparse_categorical_accuracy: 0.9117 - val_loss: 0.4453 - val_sparse_categorical_accuracy: 0.8521 - lr: 0.0012\n"
     ]
    }
   ],
   "source": [
    "tensorboard_cb = callbacks.TensorBoard(run_logdir)\n",
    "early_stopping_cb = callbacks.EarlyStopping(patience=10, restore_best_weights=True)\n",
    "lr_scheduler_cb = callbacks.ReduceLROnPlateau(factor=0.5, patience=4)\n",
    "history = model.fit(x_train, y_train, epochs=100, validation_split=0.1, callbacks=\n",
    "                    [\n",
    "                        early_stopping_cb, \n",
    "                        lr_scheduler_cb, \n",
    "                        tensorboard_cb\n",
    "                    ])"
   ]
  },
  {
   "cell_type": "code",
   "execution_count": 10,
   "metadata": {},
   "outputs": [
    {
     "data": {
      "image/png": "[encoded data removed]",
      "text/plain": [
       "<Figure size 576x360 with 1 Axes>"
      ]
     },
     "metadata": {
      "needs_background": "light"
     },
     "output_type": "display_data"
    }
   ],
   "source": [
    "pd.DataFrame(history.history).plot(figsize=(8, 5))\n",
    "plt.grid(True)\n",
    "plt.gca().set_ylim(0, 1) # set the vertical range to [0-1]\n",
    "plt.show()"
   ]
  },
  {
   "cell_type": "code",
   "execution_count": 11,
   "metadata": {},
   "outputs": [],
   "source": [
    "label_map = pd.read_csv(\"Datasets/emnist-balanced-mapping.txt\", \n",
    "                        delimiter = ' ', \n",
    "                        index_col=0, \n",
    "                        header=None, \n",
    "                        squeeze=True)\n",
    "\n",
    "label_dictionary = {}\n",
    "for index, label in enumerate(label_map):\n",
    "    label_dictionary[index] = chr(label)"
   ]
  },
  {
   "cell_type": "code",
   "execution_count": 12,
   "metadata": {},
   "outputs": [],
   "source": [
    "def show_image(image):\n",
    "    image = image.reshape(28,28)\n",
    "    image = numpy.fliplr(image)\n",
    "    image = numpy.rot90(image)\n",
    "\n",
    "    plt.imshow(image, cmap=\"binary\")\n",
    "    plt.axis(\"off\")\n",
    "    plt.show()\n",
    "\n",
    "def get_random_image_with_label():\n",
    "    test_image = random.choice(test[:,:])\n",
    "    x, label = test_image[1:], test_image[0]\n",
    "    x = numpy.expand_dims(x, axis=0)\n",
    "    return x, label\n",
    "\n",
    "def predict_image(image):\n",
    "    image = image / 255.0\n",
    "    y_proba = model.predict(image)\n",
    "    print(y_proba.round(2))\n",
    "    return numpy.argmax(y_proba, axis=1)\n"
   ]
  },
  {
   "cell_type": "code",
   "execution_count": 15,
   "metadata": {},
   "outputs": [
    {
     "data": {
      "image/png": "[encoded data removed]",
      "text/plain": [
       "<Figure size 432x288 with 1 Axes>"
      ]
     },
     "metadata": {
      "needs_background": "light"
     },
     "output_type": "display_data"
    },
    {
     "name": "stdout",
     "output_type": "stream",
     "text": [
      "[[0.  0.  0.  0.  0.  0.  0.  0.  0.  0.  0.  0.  0.  0.  0.  0.2 0.  0.\n",
      "  0.  0.  0.  0.  0.  0.  0.  0.  0.  0.  0.  0.  0.  0.  0.  0.  0.  0.\n",
      "  0.  0.  0.  0.  0.8 0.  0.  0.  0.  0.  0. ]]\n",
      "Acutal label index: 40\n",
      "Actual character: f\n",
      "Predicted label index: 40\n",
      "Predicted character: f\n"
     ]
    }
   ],
   "source": [
    "image, label = get_random_image_with_label()\n",
    "show_image(image)\n",
    "image_class = predict_image(image)\n",
    "print(\"Acutal label index:\", label)\n",
    "print(\"Actual character:\", label_dictionary[label])\n",
    "print(\"Predicted label index:\", image_class[0])\n",
    "print(\"Predicted character:\", label_dictionary[image_class[0]])"
   ]
  },
  {
   "cell_type": "code",
   "execution_count": null,
   "metadata": {},
   "outputs": [
    {
     "data": {
      "text/plain": [
       "Reusing TensorBoard on port 6006 (pid 30988), started 18:30:59 ago. (Use '!kill 30988' to kill it.)"
      ]
     },
     "metadata": {},
     "output_type": "display_data"
    },
    {
     "data": {
      "text/html": [
       "\n",
       "      <iframe id=\"tensorboard-frame-5d185d87870ea2d3\" width=\"100%\" height=\"800\" frameborder=\"0\">\n",
       "      </iframe>\n",
       "      <script>\n",
       "        (function() {\n",
       "          const frame = document.getElementById(\"tensorboard-frame-5d185d87870ea2d3\");\n",
       "          const url = new URL(\"http://localhost\");\n",
       "          const port = 6006;\n",
       "          if (port) {\n",
       "            url.port = port;\n",
       "          }\n",
       "          frame.src = url;\n",
       "        })();\n",
       "      </script>\n",
       "    "
      ],
      "text/plain": [
       "<IPython.core.display.HTML object>"
      ]
     },
     "metadata": {},
     "output_type": "display_data"
    }
   ],
   "source": [
    "%load_ext tensorboard\n",
    "%tensorboard --logdir=./my_logs --port=6006\n"
   ]
  }
 ],
 "metadata": {
  "interpreter": {
   "hash": "830bd4b94685321d0b550ba9a75ad9d58de144fde38c75487e899dd4e7e6ada5"
  },
  "kernelspec": {
   "display_name": "Python 3.9.8 64-bit",
   "language": "python",
   "name": "python3"
  },
  "language_info": {
   "codemirror_mode": {
    "name": "ipython",
    "version": 3
   },
   "file_extension": ".py",
   "mimetype": "text/x-python",
   "name": "python",
   "nbconvert_exporter": "python",
   "pygments_lexer": "ipython3",
   "version": "3.9.9"
  },
  "orig_nbformat": 4
 },
 "nbformat": 4,
 "nbformat_minor": 2
}
