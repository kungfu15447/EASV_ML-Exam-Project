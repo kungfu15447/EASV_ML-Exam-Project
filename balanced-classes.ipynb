{
 "cells": [
  {
   "cell_type": "code",
   "execution_count": 64,
   "metadata": {},
   "outputs": [],
   "source": [
    "import pandas as pd\n",
    "import matplotlib.pyplot as plt\n",
    "import numpy\n",
    "from tensorflow import keras\n",
    "from keras.layers import Dense, Flatten, AlphaDropout\n",
    "import keras.callbacks as callbacks;\n",
    "import os\n",
    "import random"
   ]
  },
  {
   "cell_type": "code",
   "execution_count": 65,
   "metadata": {},
   "outputs": [],
   "source": [
    "root_logdir = os.path.join(os.curdir, \"my_logs\")\n",
    "\n",
    "def get_run_logdir():\n",
    " import time\n",
    " run_id = time.strftime(\"run_%Y_%m_%d-%H_%M_%S\")\n",
    " return os.path.join(root_logdir, run_id)\n",
    "\n",
    "run_logdir = get_run_logdir()"
   ]
  },
  {
   "cell_type": "code",
   "execution_count": 66,
   "metadata": {},
   "outputs": [],
   "source": [
    "test = pd.read_csv(\"Datasets/emnist-balanced-test.csv\").to_numpy()\n",
    "train = pd.read_csv(\"Datasets/emnist-balanced-train.csv\").to_numpy()"
   ]
  },
  {
   "cell_type": "code",
   "execution_count": 67,
   "metadata": {},
   "outputs": [
    {
     "data": {
      "text/plain": [
       "((112799, 784), (112799,))"
      ]
     },
     "execution_count": 67,
     "metadata": {},
     "output_type": "execute_result"
    }
   ],
   "source": [
    "x_train = train[:, 1:]\n",
    "x_train = x_train / 255.0\n",
    "\n",
    "y_train = train[:, 0]\n",
    "\n",
    "x_train.shape, y_train.shape"
   ]
  },
  {
   "cell_type": "code",
   "execution_count": 68,
   "metadata": {},
   "outputs": [
    {
     "data": {
      "text/plain": [
       "47"
      ]
     },
     "execution_count": 68,
     "metadata": {},
     "output_type": "execute_result"
    }
   ],
   "source": [
    "y_train_unique = numpy.unique(y_train)\n",
    "y_train_unique.size"
   ]
  },
  {
   "cell_type": "code",
   "execution_count": 69,
   "metadata": {},
   "outputs": [],
   "source": [
    "model = keras.models.Sequential([\n",
    "    Flatten(input_shape=[784]),\n",
    "    Dense(416, activation=\"relu\"),\n",
    "    AlphaDropout(rate=0.2),\n",
    "    Dense(y_train_unique.size, activation=\"softmax\")\n",
    "])"
   ]
  },
  {
   "cell_type": "code",
   "execution_count": 70,
   "metadata": {},
   "outputs": [
    {
     "name": "stdout",
     "output_type": "stream",
     "text": [
      "Model: \"sequential_2\"\n",
      "_________________________________________________________________\n",
      " Layer (type)                Output Shape              Param #   \n",
      "=================================================================\n",
      " flatten_2 (Flatten)         (None, 784)               0         \n",
      "                                                                 \n",
      " dense_6 (Dense)             (None, 416)               326560    \n",
      "                                                                 \n",
      " alpha_dropout_2 (AlphaDropo  (None, 416)              0         \n",
      " ut)                                                             \n",
      "                                                                 \n",
      " dense_7 (Dense)             (None, 47)                19599     \n",
      "                                                                 \n",
      "=================================================================\n",
      "Total params: 346,159\n",
      "Trainable params: 346,159\n",
      "Non-trainable params: 0\n",
      "_________________________________________________________________\n"
     ]
    },
    {
     "data": {
      "text/plain": [
       "(None, (None, 784))"
      ]
     },
     "execution_count": 70,
     "metadata": {},
     "output_type": "execute_result"
    }
   ],
   "source": [
    "model.summary(), model.input_shape"
   ]
  },
  {
   "cell_type": "code",
   "execution_count": 71,
   "metadata": {},
   "outputs": [],
   "source": [
    "model.compile(loss=keras.losses.sparse_categorical_crossentropy, \n",
    "              optimizer=keras.optimizers.SGD(momentum=0.9), \n",
    "              metrics=[keras.metrics.sparse_categorical_accuracy])"
   ]
  },
  {
   "cell_type": "code",
   "execution_count": 72,
   "metadata": {},
   "outputs": [
    {
     "name": "stdout",
     "output_type": "stream",
     "text": [
      "Epoch 1/100\n",
      "3173/3173 [==============================] - 7s 2ms/step - loss: 1.7155 - sparse_categorical_accuracy: 0.5144 - val_loss: 0.9879 - val_sparse_categorical_accuracy: 0.7113 - lr: 0.0100\n",
      "Epoch 2/100\n",
      "3173/3173 [==============================] - 7s 2ms/step - loss: 1.2210 - sparse_categorical_accuracy: 0.6390 - val_loss: 0.8332 - val_sparse_categorical_accuracy: 0.7543 - lr: 0.0100\n",
      "Epoch 3/100\n",
      "3173/3173 [==============================] - 7s 2ms/step - loss: 1.0867 - sparse_categorical_accuracy: 0.6750 - val_loss: 0.7344 - val_sparse_categorical_accuracy: 0.7787 - lr: 0.0100\n",
      "Epoch 4/100\n",
      "3173/3173 [==============================] - 7s 2ms/step - loss: 1.0221 - sparse_categorical_accuracy: 0.6917 - val_loss: 0.7396 - val_sparse_categorical_accuracy: 0.7865 - lr: 0.0100\n",
      "Epoch 5/100\n",
      "3173/3173 [==============================] - 7s 2ms/step - loss: 0.9702 - sparse_categorical_accuracy: 0.7064 - val_loss: 0.7095 - val_sparse_categorical_accuracy: 0.7958 - lr: 0.0100\n",
      "Epoch 6/100\n",
      "3173/3173 [==============================] - 7s 2ms/step - loss: 0.9350 - sparse_categorical_accuracy: 0.7186 - val_loss: 0.6788 - val_sparse_categorical_accuracy: 0.7998 - lr: 0.0100\n",
      "Epoch 7/100\n",
      "3173/3173 [==============================] - 7s 2ms/step - loss: 0.9112 - sparse_categorical_accuracy: 0.7234 - val_loss: 0.6796 - val_sparse_categorical_accuracy: 0.7954 - lr: 0.0100\n",
      "Epoch 8/100\n",
      "3173/3173 [==============================] - 8s 2ms/step - loss: 0.8913 - sparse_categorical_accuracy: 0.7284 - val_loss: 0.6769 - val_sparse_categorical_accuracy: 0.8020 - lr: 0.0100\n",
      "Epoch 9/100\n",
      "3173/3173 [==============================] - 7s 2ms/step - loss: 0.8721 - sparse_categorical_accuracy: 0.7344 - val_loss: 0.6715 - val_sparse_categorical_accuracy: 0.8089 - lr: 0.0100\n",
      "Epoch 10/100\n",
      "3173/3173 [==============================] - 7s 2ms/step - loss: 0.8524 - sparse_categorical_accuracy: 0.7398 - val_loss: 0.6812 - val_sparse_categorical_accuracy: 0.8123 - lr: 0.0100\n",
      "Epoch 11/100\n",
      "3173/3173 [==============================] - 7s 2ms/step - loss: 0.8432 - sparse_categorical_accuracy: 0.7442 - val_loss: 0.6339 - val_sparse_categorical_accuracy: 0.8124 - lr: 0.0100\n",
      "Epoch 12/100\n",
      "3173/3173 [==============================] - 7s 2ms/step - loss: 0.8324 - sparse_categorical_accuracy: 0.7472 - val_loss: 0.6695 - val_sparse_categorical_accuracy: 0.8079 - lr: 0.0100\n",
      "Epoch 13/100\n",
      "3173/3173 [==============================] - 7s 2ms/step - loss: 0.8159 - sparse_categorical_accuracy: 0.7499 - val_loss: 0.6267 - val_sparse_categorical_accuracy: 0.8165 - lr: 0.0100\n",
      "Epoch 14/100\n",
      "3173/3173 [==============================] - 7s 2ms/step - loss: 0.8128 - sparse_categorical_accuracy: 0.7524 - val_loss: 0.6534 - val_sparse_categorical_accuracy: 0.8168 - lr: 0.0100\n",
      "Epoch 15/100\n",
      "3173/3173 [==============================] - 7s 2ms/step - loss: 0.7975 - sparse_categorical_accuracy: 0.7569 - val_loss: 0.6449 - val_sparse_categorical_accuracy: 0.8145 - lr: 0.0100\n",
      "Epoch 16/100\n",
      "3173/3173 [==============================] - 7s 2ms/step - loss: 0.7899 - sparse_categorical_accuracy: 0.7584 - val_loss: 0.6503 - val_sparse_categorical_accuracy: 0.8242 - lr: 0.0100\n",
      "Epoch 17/100\n",
      "3173/3173 [==============================] - 7s 2ms/step - loss: 0.7869 - sparse_categorical_accuracy: 0.7590 - val_loss: 0.6598 - val_sparse_categorical_accuracy: 0.8177 - lr: 0.0100\n",
      "Epoch 18/100\n",
      "3173/3173 [==============================] - 7s 2ms/step - loss: 0.7033 - sparse_categorical_accuracy: 0.7757 - val_loss: 0.5603 - val_sparse_categorical_accuracy: 0.8318 - lr: 0.0050\n",
      "Epoch 19/100\n",
      "3173/3173 [==============================] - 7s 2ms/step - loss: 0.6810 - sparse_categorical_accuracy: 0.7806 - val_loss: 0.5521 - val_sparse_categorical_accuracy: 0.8344 - lr: 0.0050\n",
      "Epoch 20/100\n",
      "3173/3173 [==============================] - 7s 2ms/step - loss: 0.6712 - sparse_categorical_accuracy: 0.7846 - val_loss: 0.5781 - val_sparse_categorical_accuracy: 0.8242 - lr: 0.0050\n",
      "Epoch 21/100\n",
      "3173/3173 [==============================] - 7s 2ms/step - loss: 0.6588 - sparse_categorical_accuracy: 0.7862 - val_loss: 0.5513 - val_sparse_categorical_accuracy: 0.8313 - lr: 0.0050\n",
      "Epoch 22/100\n",
      "3173/3173 [==============================] - 7s 2ms/step - loss: 0.6567 - sparse_categorical_accuracy: 0.7863 - val_loss: 0.5540 - val_sparse_categorical_accuracy: 0.8328 - lr: 0.0050\n",
      "Epoch 23/100\n",
      "3173/3173 [==============================] - 7s 2ms/step - loss: 0.6558 - sparse_categorical_accuracy: 0.7871 - val_loss: 0.5678 - val_sparse_categorical_accuracy: 0.8295 - lr: 0.0050\n",
      "Epoch 24/100\n",
      "3173/3173 [==============================] - 7s 2ms/step - loss: 0.6519 - sparse_categorical_accuracy: 0.7881 - val_loss: 0.5635 - val_sparse_categorical_accuracy: 0.8291 - lr: 0.0050\n",
      "Epoch 25/100\n",
      "3173/3173 [==============================] - 7s 2ms/step - loss: 0.6491 - sparse_categorical_accuracy: 0.7888 - val_loss: 0.5473 - val_sparse_categorical_accuracy: 0.8325 - lr: 0.0050\n",
      "Epoch 26/100\n",
      "3173/3173 [==============================] - 7s 2ms/step - loss: 0.6477 - sparse_categorical_accuracy: 0.7889 - val_loss: 0.5483 - val_sparse_categorical_accuracy: 0.8335 - lr: 0.0050\n",
      "Epoch 27/100\n",
      "3173/3173 [==============================] - 7s 2ms/step - loss: 0.6507 - sparse_categorical_accuracy: 0.7880 - val_loss: 0.5414 - val_sparse_categorical_accuracy: 0.8363 - lr: 0.0050\n",
      "Epoch 28/100\n",
      "3173/3173 [==============================] - 6s 2ms/step - loss: 0.6428 - sparse_categorical_accuracy: 0.7912 - val_loss: 0.5721 - val_sparse_categorical_accuracy: 0.8320 - lr: 0.0050\n",
      "Epoch 29/100\n",
      "3173/3173 [==============================] - 7s 2ms/step - loss: 0.6388 - sparse_categorical_accuracy: 0.7904 - val_loss: 0.5651 - val_sparse_categorical_accuracy: 0.8313 - lr: 0.0050\n",
      "Epoch 30/100\n",
      "3173/3173 [==============================] - 6s 2ms/step - loss: 0.6386 - sparse_categorical_accuracy: 0.7927 - val_loss: 0.5340 - val_sparse_categorical_accuracy: 0.8340 - lr: 0.0050\n",
      "Epoch 31/100\n",
      "3173/3173 [==============================] - 6s 2ms/step - loss: 0.6369 - sparse_categorical_accuracy: 0.7928 - val_loss: 0.5681 - val_sparse_categorical_accuracy: 0.8331 - lr: 0.0050\n",
      "Epoch 32/100\n",
      "3173/3173 [==============================] - 7s 2ms/step - loss: 0.6330 - sparse_categorical_accuracy: 0.7933 - val_loss: 0.5640 - val_sparse_categorical_accuracy: 0.8351 - lr: 0.0050\n",
      "Epoch 33/100\n",
      "3173/3173 [==============================] - 7s 2ms/step - loss: 0.6289 - sparse_categorical_accuracy: 0.7947 - val_loss: 0.5491 - val_sparse_categorical_accuracy: 0.8330 - lr: 0.0050\n",
      "Epoch 34/100\n",
      "3173/3173 [==============================] - 6s 2ms/step - loss: 0.6305 - sparse_categorical_accuracy: 0.7956 - val_loss: 0.5485 - val_sparse_categorical_accuracy: 0.8378 - lr: 0.0050\n",
      "Epoch 35/100\n",
      "3173/3173 [==============================] - 6s 2ms/step - loss: 0.5930 - sparse_categorical_accuracy: 0.8033 - val_loss: 0.5181 - val_sparse_categorical_accuracy: 0.8432 - lr: 0.0025\n",
      "Epoch 36/100\n",
      "3173/3173 [==============================] - 6s 2ms/step - loss: 0.5815 - sparse_categorical_accuracy: 0.8055 - val_loss: 0.5187 - val_sparse_categorical_accuracy: 0.8421 - lr: 0.0025\n",
      "Epoch 37/100\n",
      "3173/3173 [==============================] - 6s 2ms/step - loss: 0.5778 - sparse_categorical_accuracy: 0.8078 - val_loss: 0.5144 - val_sparse_categorical_accuracy: 0.8430 - lr: 0.0025\n",
      "Epoch 38/100\n",
      "3173/3173 [==============================] - 6s 2ms/step - loss: 0.5764 - sparse_categorical_accuracy: 0.8082 - val_loss: 0.5165 - val_sparse_categorical_accuracy: 0.8406 - lr: 0.0025\n",
      "Epoch 39/100\n",
      "3173/3173 [==============================] - 6s 2ms/step - loss: 0.5737 - sparse_categorical_accuracy: 0.8082 - val_loss: 0.5143 - val_sparse_categorical_accuracy: 0.8386 - lr: 0.0025\n",
      "Epoch 40/100\n",
      "3173/3173 [==============================] - 6s 2ms/step - loss: 0.5725 - sparse_categorical_accuracy: 0.8072 - val_loss: 0.5149 - val_sparse_categorical_accuracy: 0.8387 - lr: 0.0025\n",
      "Epoch 41/100\n",
      "3173/3173 [==============================] - 6s 2ms/step - loss: 0.5703 - sparse_categorical_accuracy: 0.8095 - val_loss: 0.5142 - val_sparse_categorical_accuracy: 0.8411 - lr: 0.0025\n",
      "Epoch 42/100\n",
      "3173/3173 [==============================] - 6s 2ms/step - loss: 0.5690 - sparse_categorical_accuracy: 0.8091 - val_loss: 0.5173 - val_sparse_categorical_accuracy: 0.8426 - lr: 0.0025\n",
      "Epoch 43/100\n",
      "3173/3173 [==============================] - 6s 2ms/step - loss: 0.5639 - sparse_categorical_accuracy: 0.8102 - val_loss: 0.5075 - val_sparse_categorical_accuracy: 0.8425 - lr: 0.0025\n",
      "Epoch 44/100\n",
      "3173/3173 [==============================] - 6s 2ms/step - loss: 0.5651 - sparse_categorical_accuracy: 0.8110 - val_loss: 0.5187 - val_sparse_categorical_accuracy: 0.8379 - lr: 0.0025\n",
      "Epoch 45/100\n",
      "3173/3173 [==============================] - 6s 2ms/step - loss: 0.5677 - sparse_categorical_accuracy: 0.8086 - val_loss: 0.5193 - val_sparse_categorical_accuracy: 0.8432 - lr: 0.0025\n",
      "Epoch 46/100\n",
      "3173/3173 [==============================] - 6s 2ms/step - loss: 0.5641 - sparse_categorical_accuracy: 0.8128 - val_loss: 0.5065 - val_sparse_categorical_accuracy: 0.8445 - lr: 0.0025\n",
      "Epoch 47/100\n",
      "3173/3173 [==============================] - 6s 2ms/step - loss: 0.5607 - sparse_categorical_accuracy: 0.8107 - val_loss: 0.5118 - val_sparse_categorical_accuracy: 0.8429 - lr: 0.0025\n",
      "Epoch 48/100\n",
      "3173/3173 [==============================] - 6s 2ms/step - loss: 0.5640 - sparse_categorical_accuracy: 0.8086 - val_loss: 0.5178 - val_sparse_categorical_accuracy: 0.8416 - lr: 0.0025\n",
      "Epoch 49/100\n",
      "3173/3173 [==============================] - 6s 2ms/step - loss: 0.5595 - sparse_categorical_accuracy: 0.8117 - val_loss: 0.5124 - val_sparse_categorical_accuracy: 0.8403 - lr: 0.0025\n",
      "Epoch 50/100\n",
      "3173/3173 [==============================] - 6s 2ms/step - loss: 0.5601 - sparse_categorical_accuracy: 0.8107 - val_loss: 0.5081 - val_sparse_categorical_accuracy: 0.8458 - lr: 0.0025\n",
      "Epoch 51/100\n",
      "3173/3173 [==============================] - 6s 2ms/step - loss: 0.5432 - sparse_categorical_accuracy: 0.8172 - val_loss: 0.4978 - val_sparse_categorical_accuracy: 0.8441 - lr: 0.0012\n",
      "Epoch 52/100\n",
      "3173/3173 [==============================] - 6s 2ms/step - loss: 0.5405 - sparse_categorical_accuracy: 0.8175 - val_loss: 0.5044 - val_sparse_categorical_accuracy: 0.8463 - lr: 0.0012\n",
      "Epoch 53/100\n",
      "3173/3173 [==============================] - 6s 2ms/step - loss: 0.5365 - sparse_categorical_accuracy: 0.8194 - val_loss: 0.4977 - val_sparse_categorical_accuracy: 0.8455 - lr: 0.0012\n",
      "Epoch 54/100\n",
      "3173/3173 [==============================] - 6s 2ms/step - loss: 0.5329 - sparse_categorical_accuracy: 0.8201 - val_loss: 0.5011 - val_sparse_categorical_accuracy: 0.8426 - lr: 0.0012\n",
      "Epoch 55/100\n",
      "3173/3173 [==============================] - 6s 2ms/step - loss: 0.5341 - sparse_categorical_accuracy: 0.8186 - val_loss: 0.4945 - val_sparse_categorical_accuracy: 0.8440 - lr: 0.0012\n",
      "Epoch 56/100\n",
      "3173/3173 [==============================] - 6s 2ms/step - loss: 0.5326 - sparse_categorical_accuracy: 0.8209 - val_loss: 0.4964 - val_sparse_categorical_accuracy: 0.8470 - lr: 0.0012\n",
      "Epoch 57/100\n",
      "3173/3173 [==============================] - 6s 2ms/step - loss: 0.5303 - sparse_categorical_accuracy: 0.8203 - val_loss: 0.4975 - val_sparse_categorical_accuracy: 0.8466 - lr: 0.0012\n",
      "Epoch 58/100\n",
      "3173/3173 [==============================] - 6s 2ms/step - loss: 0.5314 - sparse_categorical_accuracy: 0.8198 - val_loss: 0.4954 - val_sparse_categorical_accuracy: 0.8453 - lr: 0.0012\n",
      "Epoch 59/100\n",
      "3173/3173 [==============================] - 6s 2ms/step - loss: 0.5272 - sparse_categorical_accuracy: 0.8210 - val_loss: 0.4948 - val_sparse_categorical_accuracy: 0.8434 - lr: 0.0012\n",
      "Epoch 60/100\n",
      "3173/3173 [==============================] - 6s 2ms/step - loss: 0.5240 - sparse_categorical_accuracy: 0.8212 - val_loss: 0.4890 - val_sparse_categorical_accuracy: 0.8480 - lr: 6.2500e-04\n",
      "Epoch 61/100\n",
      "3173/3173 [==============================] - 6s 2ms/step - loss: 0.5205 - sparse_categorical_accuracy: 0.8231 - val_loss: 0.4904 - val_sparse_categorical_accuracy: 0.8483 - lr: 6.2500e-04\n",
      "Epoch 62/100\n",
      "3173/3173 [==============================] - 6s 2ms/step - loss: 0.5229 - sparse_categorical_accuracy: 0.8239 - val_loss: 0.4858 - val_sparse_categorical_accuracy: 0.8488 - lr: 6.2500e-04\n",
      "Epoch 63/100\n",
      "3173/3173 [==============================] - 6s 2ms/step - loss: 0.5181 - sparse_categorical_accuracy: 0.8249 - val_loss: 0.4845 - val_sparse_categorical_accuracy: 0.8456 - lr: 6.2500e-04\n",
      "Epoch 64/100\n",
      "3173/3173 [==============================] - 6s 2ms/step - loss: 0.5188 - sparse_categorical_accuracy: 0.8237 - val_loss: 0.4930 - val_sparse_categorical_accuracy: 0.8470 - lr: 6.2500e-04\n",
      "Epoch 65/100\n",
      "3173/3173 [==============================] - 6s 2ms/step - loss: 0.5170 - sparse_categorical_accuracy: 0.8249 - val_loss: 0.4874 - val_sparse_categorical_accuracy: 0.8478 - lr: 6.2500e-04\n",
      "Epoch 66/100\n",
      "3173/3173 [==============================] - 6s 2ms/step - loss: 0.5185 - sparse_categorical_accuracy: 0.8247 - val_loss: 0.4849 - val_sparse_categorical_accuracy: 0.8493 - lr: 6.2500e-04\n",
      "Epoch 67/100\n",
      "3173/3173 [==============================] - 6s 2ms/step - loss: 0.5175 - sparse_categorical_accuracy: 0.8247 - val_loss: 0.4881 - val_sparse_categorical_accuracy: 0.8460 - lr: 6.2500e-04\n",
      "Epoch 68/100\n",
      "3173/3173 [==============================] - 6s 2ms/step - loss: 0.5121 - sparse_categorical_accuracy: 0.8266 - val_loss: 0.4866 - val_sparse_categorical_accuracy: 0.8465 - lr: 3.1250e-04\n",
      "Epoch 69/100\n",
      "3173/3173 [==============================] - 6s 2ms/step - loss: 0.5134 - sparse_categorical_accuracy: 0.8264 - val_loss: 0.4813 - val_sparse_categorical_accuracy: 0.8485 - lr: 3.1250e-04\n",
      "Epoch 70/100\n",
      "3173/3173 [==============================] - 6s 2ms/step - loss: 0.5103 - sparse_categorical_accuracy: 0.8278 - val_loss: 0.4838 - val_sparse_categorical_accuracy: 0.8471 - lr: 3.1250e-04\n",
      "Epoch 71/100\n",
      "3173/3173 [==============================] - 6s 2ms/step - loss: 0.5137 - sparse_categorical_accuracy: 0.8265 - val_loss: 0.4825 - val_sparse_categorical_accuracy: 0.8485 - lr: 3.1250e-04\n",
      "Epoch 72/100\n",
      "3173/3173 [==============================] - 6s 2ms/step - loss: 0.5106 - sparse_categorical_accuracy: 0.8263 - val_loss: 0.4826 - val_sparse_categorical_accuracy: 0.8480 - lr: 3.1250e-04\n",
      "Epoch 73/100\n",
      "3173/3173 [==============================] - 6s 2ms/step - loss: 0.5065 - sparse_categorical_accuracy: 0.8288 - val_loss: 0.4863 - val_sparse_categorical_accuracy: 0.8473 - lr: 3.1250e-04\n",
      "Epoch 74/100\n",
      "3173/3173 [==============================] - 6s 2ms/step - loss: 0.5094 - sparse_categorical_accuracy: 0.8279 - val_loss: 0.4797 - val_sparse_categorical_accuracy: 0.8471 - lr: 1.5625e-04\n",
      "Epoch 75/100\n",
      "3173/3173 [==============================] - 6s 2ms/step - loss: 0.5078 - sparse_categorical_accuracy: 0.8291 - val_loss: 0.4822 - val_sparse_categorical_accuracy: 0.8481 - lr: 1.5625e-04\n",
      "Epoch 76/100\n",
      "3173/3173 [==============================] - 6s 2ms/step - loss: 0.5052 - sparse_categorical_accuracy: 0.8279 - val_loss: 0.4789 - val_sparse_categorical_accuracy: 0.8489 - lr: 1.5625e-04\n",
      "Epoch 77/100\n",
      "3173/3173 [==============================] - 6s 2ms/step - loss: 0.5043 - sparse_categorical_accuracy: 0.8306 - val_loss: 0.4815 - val_sparse_categorical_accuracy: 0.8478 - lr: 1.5625e-04\n",
      "Epoch 78/100\n",
      "3173/3173 [==============================] - 6s 2ms/step - loss: 0.5085 - sparse_categorical_accuracy: 0.8275 - val_loss: 0.4814 - val_sparse_categorical_accuracy: 0.8481 - lr: 1.5625e-04\n",
      "Epoch 79/100\n",
      "3173/3173 [==============================] - 6s 2ms/step - loss: 0.5071 - sparse_categorical_accuracy: 0.8286 - val_loss: 0.4815 - val_sparse_categorical_accuracy: 0.8473 - lr: 1.5625e-04\n",
      "Epoch 80/100\n",
      "3173/3173 [==============================] - 6s 2ms/step - loss: 0.5061 - sparse_categorical_accuracy: 0.8287 - val_loss: 0.4798 - val_sparse_categorical_accuracy: 0.8471 - lr: 1.5625e-04\n",
      "Epoch 81/100\n",
      "3173/3173 [==============================] - 6s 2ms/step - loss: 0.5062 - sparse_categorical_accuracy: 0.8298 - val_loss: 0.4792 - val_sparse_categorical_accuracy: 0.8475 - lr: 7.8125e-05\n",
      "Epoch 82/100\n",
      "3173/3173 [==============================] - 6s 2ms/step - loss: 0.5049 - sparse_categorical_accuracy: 0.8294 - val_loss: 0.4790 - val_sparse_categorical_accuracy: 0.8484 - lr: 7.8125e-05\n",
      "Epoch 83/100\n",
      "3173/3173 [==============================] - 6s 2ms/step - loss: 0.5065 - sparse_categorical_accuracy: 0.8293 - val_loss: 0.4786 - val_sparse_categorical_accuracy: 0.8479 - lr: 7.8125e-05\n",
      "Epoch 84/100\n",
      "3173/3173 [==============================] - 6s 2ms/step - loss: 0.5063 - sparse_categorical_accuracy: 0.8301 - val_loss: 0.4794 - val_sparse_categorical_accuracy: 0.8477 - lr: 7.8125e-05\n",
      "Epoch 85/100\n",
      "3173/3173 [==============================] - 7s 2ms/step - loss: 0.5033 - sparse_categorical_accuracy: 0.8302 - val_loss: 0.4804 - val_sparse_categorical_accuracy: 0.8485 - lr: 7.8125e-05\n",
      "Epoch 86/100\n",
      "3173/3173 [==============================] - 6s 2ms/step - loss: 0.5040 - sparse_categorical_accuracy: 0.8304 - val_loss: 0.4797 - val_sparse_categorical_accuracy: 0.8484 - lr: 7.8125e-05\n",
      "Epoch 87/100\n",
      "3173/3173 [==============================] - 6s 2ms/step - loss: 0.5065 - sparse_categorical_accuracy: 0.8278 - val_loss: 0.4787 - val_sparse_categorical_accuracy: 0.8487 - lr: 7.8125e-05\n",
      "Epoch 88/100\n",
      "3173/3173 [==============================] - 6s 2ms/step - loss: 0.5024 - sparse_categorical_accuracy: 0.8298 - val_loss: 0.4790 - val_sparse_categorical_accuracy: 0.8481 - lr: 3.9062e-05\n",
      "Epoch 89/100\n",
      "3173/3173 [==============================] - 6s 2ms/step - loss: 0.5033 - sparse_categorical_accuracy: 0.8300 - val_loss: 0.4780 - val_sparse_categorical_accuracy: 0.8488 - lr: 3.9062e-05\n",
      "Epoch 90/100\n",
      "3173/3173 [==============================] - 6s 2ms/step - loss: 0.5041 - sparse_categorical_accuracy: 0.8303 - val_loss: 0.4787 - val_sparse_categorical_accuracy: 0.8481 - lr: 3.9062e-05\n",
      "Epoch 91/100\n",
      "3173/3173 [==============================] - 6s 2ms/step - loss: 0.5025 - sparse_categorical_accuracy: 0.8304 - val_loss: 0.4793 - val_sparse_categorical_accuracy: 0.8482 - lr: 3.9062e-05\n",
      "Epoch 92/100\n",
      "3173/3173 [==============================] - 6s 2ms/step - loss: 0.5029 - sparse_categorical_accuracy: 0.8305 - val_loss: 0.4787 - val_sparse_categorical_accuracy: 0.8488 - lr: 3.9062e-05\n",
      "Epoch 93/100\n",
      "3173/3173 [==============================] - 6s 2ms/step - loss: 0.5016 - sparse_categorical_accuracy: 0.8309 - val_loss: 0.4791 - val_sparse_categorical_accuracy: 0.8481 - lr: 3.9062e-05\n",
      "Epoch 94/100\n",
      "3173/3173 [==============================] - 6s 2ms/step - loss: 0.5040 - sparse_categorical_accuracy: 0.8293 - val_loss: 0.4790 - val_sparse_categorical_accuracy: 0.8488 - lr: 1.9531e-05\n",
      "Epoch 95/100\n",
      "3173/3173 [==============================] - 6s 2ms/step - loss: 0.5032 - sparse_categorical_accuracy: 0.8297 - val_loss: 0.4791 - val_sparse_categorical_accuracy: 0.8483 - lr: 1.9531e-05\n",
      "Epoch 96/100\n",
      "3173/3173 [==============================] - 6s 2ms/step - loss: 0.5006 - sparse_categorical_accuracy: 0.8299 - val_loss: 0.4791 - val_sparse_categorical_accuracy: 0.8481 - lr: 1.9531e-05\n",
      "Epoch 97/100\n",
      "3173/3173 [==============================] - 6s 2ms/step - loss: 0.5043 - sparse_categorical_accuracy: 0.8312 - val_loss: 0.4788 - val_sparse_categorical_accuracy: 0.8485 - lr: 1.9531e-05\n",
      "Epoch 98/100\n",
      "3173/3173 [==============================] - 6s 2ms/step - loss: 0.5021 - sparse_categorical_accuracy: 0.8314 - val_loss: 0.4787 - val_sparse_categorical_accuracy: 0.8486 - lr: 9.7656e-06\n",
      "Epoch 99/100\n",
      "3173/3173 [==============================] - 6s 2ms/step - loss: 0.5019 - sparse_categorical_accuracy: 0.8298 - val_loss: 0.4786 - val_sparse_categorical_accuracy: 0.8484 - lr: 9.7656e-06\n"
     ]
    }
   ],
   "source": [
    "tensorboard_cb = callbacks.TensorBoard(run_logdir)\n",
    "early_stopping_cb = callbacks.EarlyStopping(patience=10, restore_best_weights=True)\n",
    "lr_scheduler_cb = callbacks.ReduceLROnPlateau(factor=0.5, patience=4)\n",
    "history = model.fit(x_train, y_train, epochs=100, validation_split=0.1, callbacks=[early_stopping_cb, lr_scheduler_cb, tensorboard_cb])"
   ]
  },
  {
   "cell_type": "code",
   "execution_count": 73,
   "metadata": {},
   "outputs": [
    {
     "data": {
      "image/png": "[encoded data removed]",
      "text/plain": [
       "<Figure size 576x360 with 1 Axes>"
      ]
     },
     "metadata": {
      "needs_background": "light"
     },
     "output_type": "display_data"
    }
   ],
   "source": [
    "pd.DataFrame(history.history).plot(figsize=(8, 5))\n",
    "plt.grid(True)\n",
    "plt.gca().set_ylim(0, 1) # set the vertical range to [0-1]\n",
    "plt.show()"
   ]
  },
  {
   "cell_type": "code",
   "execution_count": 74,
   "metadata": {},
   "outputs": [],
   "source": [
    "label_map = pd.read_csv(\"Datasets/emnist-balanced-mapping.txt\", \n",
    "                        delimiter = ' ', \n",
    "                        index_col=0, \n",
    "                        header=None, \n",
    "                        squeeze=True)\n",
    "\n",
    "label_dictionary = {}\n",
    "for index, label in enumerate(label_map):\n",
    "    label_dictionary[index] = chr(label)"
   ]
  },
  {
   "cell_type": "code",
   "execution_count": 75,
   "metadata": {},
   "outputs": [],
   "source": [
    "def show_image(image):\n",
    "    image = image.reshape(28,28)\n",
    "    image = numpy.fliplr(image)\n",
    "    image = numpy.rot90(image)\n",
    "\n",
    "    plt.imshow(image, cmap=\"binary\")\n",
    "    plt.axis(\"off\")\n",
    "    plt.show()\n",
    "\n",
    "def get_random_image():\n",
    "    x_test = random.choice(test[:,1:])\n",
    "    x_test = x_test / 255.0\n",
    "    x_test = numpy.expand_dims(x_test, axis=0)\n",
    "    return x_test\n",
    "\n",
    "def predict_image(image):\n",
    "    y_proba = model.predict(image)\n",
    "    print(y_proba.round(2))\n",
    "    return numpy.argmax(y_proba, axis=1)\n"
   ]
  },
  {
   "cell_type": "code",
   "execution_count": 109,
   "metadata": {},
   "outputs": [
    {
     "data": {
      "image/png": "[encoded data removed]",
      "text/plain": [
       "<Figure size 432x288 with 1 Axes>"
      ]
     },
     "metadata": {
      "needs_background": "light"
     },
     "output_type": "display_data"
    },
    {
     "name": "stdout",
     "output_type": "stream",
     "text": [
      "[[0. 0. 0. 0. 0. 0. 0. 0. 0. 0. 0. 0. 0. 0. 0. 0. 0. 0. 0. 0. 0. 0. 0. 0.\n",
      "  0. 0. 0. 0. 0. 0. 0. 0. 0. 0. 0. 0. 0. 0. 0. 0. 0. 0. 0. 1. 0. 0. 0.]]\n",
      "Prediction:\n",
      "Label index: 43\n",
      "Character predicted: n\n"
     ]
    }
   ],
   "source": [
    "image = get_random_image()\n",
    "show_image(image)\n",
    "image_class = predict_image(image)\n",
    "\n",
    "print(\"Prediction:\")\n",
    "print(\"Label index:\", image_class[0])\n",
    "print(\"Character predicted:\", label_dictionary[image_class[0]])"
   ]
  },
  {
   "cell_type": "code",
   "execution_count": 77,
   "metadata": {},
   "outputs": [
    {
     "name": "stdout",
     "output_type": "stream",
     "text": [
      "The tensorboard extension is already loaded. To reload it, use:\n",
      "  %reload_ext tensorboard\n"
     ]
    },
    {
     "data": {
      "text/plain": [
       "Reusing TensorBoard on port 6006 (pid 30988), started 13:07:17 ago. (Use '!kill 30988' to kill it.)"
      ]
     },
     "metadata": {},
     "output_type": "display_data"
    },
    {
     "data": {
      "text/html": [
       "\n",
       "      <iframe id=\"tensorboard-frame-ca8dd3f875965583\" width=\"100%\" height=\"800\" frameborder=\"0\">\n",
       "      </iframe>\n",
       "      <script>\n",
       "        (function() {\n",
       "          const frame = document.getElementById(\"tensorboard-frame-ca8dd3f875965583\");\n",
       "          const url = new URL(\"http://localhost\");\n",
       "          const port = 6006;\n",
       "          if (port) {\n",
       "            url.port = port;\n",
       "          }\n",
       "          frame.src = url;\n",
       "        })();\n",
       "      </script>\n",
       "    "
      ],
      "text/plain": [
       "<IPython.core.display.HTML object>"
      ]
     },
     "metadata": {},
     "output_type": "display_data"
    }
   ],
   "source": [
    "%load_ext tensorboard\n",
    "%tensorboard --logdir=./my_logs --port=6006\n"
   ]
  }
 ],
 "metadata": {
  "interpreter": {
   "hash": "830bd4b94685321d0b550ba9a75ad9d58de144fde38c75487e899dd4e7e6ada5"
  },
  "kernelspec": {
   "display_name": "Python 3.9.8 64-bit",
   "language": "python",
   "name": "python3"
  },
  "language_info": {
   "codemirror_mode": {
    "name": "ipython",
    "version": 3
   },
   "file_extension": ".py",
   "mimetype": "text/x-python",
   "name": "python",
   "nbconvert_exporter": "python",
   "pygments_lexer": "ipython3",
   "version": "3.9.9"
  },
  "orig_nbformat": 4
 },
 "nbformat": 4,
 "nbformat_minor": 2
}
