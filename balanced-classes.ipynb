{
 "cells": [
  {
   "cell_type": "code",
   "execution_count": 8,
   "metadata": {},
   "outputs": [],
   "source": [
    "import pandas as pd\n",
    "import matplotlib.pyplot as plt\n",
    "import numpy\n",
    "from tensorflow import keras\n",
    "from keras.layers import Dense, Flatten, AlphaDropout\n",
    "import keras.callbacks as callbacks;\n",
    "import os"
   ]
  },
  {
   "cell_type": "code",
   "execution_count": 9,
   "metadata": {},
   "outputs": [],
   "source": [
    "root_logdir = os.path.join(os.curdir, \"my_logs\")\n",
    "\n",
    "def get_run_logdir():\n",
    " import time\n",
    " run_id = time.strftime(\"run_%Y_%m_%d-%H_%M_%S\")\n",
    " return os.path.join(root_logdir, run_id)\n",
    "\n",
    "run_logdir = get_run_logdir()"
   ]
  },
  {
   "cell_type": "code",
   "execution_count": 33,
   "metadata": {},
   "outputs": [],
   "source": [
    "test = pd.read_csv(\"Datasets/emnist-balanced-test.csv\").to_numpy()\n",
    "train = pd.read_csv(\"Datasets/emnist-balanced-train.csv\").to_numpy()"
   ]
  },
  {
   "cell_type": "code",
   "execution_count": 11,
   "metadata": {},
   "outputs": [
    {
     "data": {
      "text/plain": [
       "((107799, 784), (107799,))"
      ]
     },
     "execution_count": 11,
     "metadata": {},
     "output_type": "execute_result"
    }
   ],
   "source": [
    "x_train, x_valid = train[5000:, 1:], train[:5000, 1:]\n",
    "x_train, x_valid = x_train / 255.0, x_valid/ 255.0\n",
    "y_train, y_valid = train[5000:, 0], train[:5000, 0]\n",
    "\n",
    "x_train.shape, y_train.shape"
   ]
  },
  {
   "cell_type": "code",
   "execution_count": 12,
   "metadata": {},
   "outputs": [
    {
     "data": {
      "text/plain": [
       "47"
      ]
     },
     "execution_count": 12,
     "metadata": {},
     "output_type": "execute_result"
    }
   ],
   "source": [
    "y_train_unique = numpy.unique(y_train)\n",
    "y_train_unique.size"
   ]
  },
  {
   "cell_type": "code",
   "execution_count": 13,
   "metadata": {},
   "outputs": [],
   "source": [
    "model = keras.models.Sequential([\n",
    "    Flatten(input_shape=[784]),\n",
    "    Dense(416, activation=\"relu\"),\n",
    "    AlphaDropout(rate=0.2),\n",
    "    Dense(y_train_unique.size, activation=\"softmax\")\n",
    "])"
   ]
  },
  {
   "cell_type": "code",
   "execution_count": 14,
   "metadata": {},
   "outputs": [
    {
     "name": "stdout",
     "output_type": "stream",
     "text": [
      "Model: \"sequential\"\n",
      "_________________________________________________________________\n",
      " Layer (type)                Output Shape              Param #   \n",
      "=================================================================\n",
      " flatten (Flatten)           (None, 784)               0         \n",
      "                                                                 \n",
      " dense (Dense)               (None, 416)               326560    \n",
      "                                                                 \n",
      " alpha_dropout (AlphaDropout  (None, 416)              0         \n",
      " )                                                               \n",
      "                                                                 \n",
      " dense_1 (Dense)             (None, 47)                19599     \n",
      "                                                                 \n",
      "=================================================================\n",
      "Total params: 346,159\n",
      "Trainable params: 346,159\n",
      "Non-trainable params: 0\n",
      "_________________________________________________________________\n"
     ]
    },
    {
     "data": {
      "text/plain": [
       "(None, (None, 784))"
      ]
     },
     "execution_count": 14,
     "metadata": {},
     "output_type": "execute_result"
    }
   ],
   "source": [
    "model.summary(), model.input_shape"
   ]
  },
  {
   "cell_type": "code",
   "execution_count": 15,
   "metadata": {},
   "outputs": [],
   "source": [
    "model.compile(loss=keras.losses.sparse_categorical_crossentropy, \n",
    "              optimizer=keras.optimizers.SGD(momentum=0.9), \n",
    "              metrics=[keras.metrics.sparse_categorical_accuracy])"
   ]
  },
  {
   "cell_type": "code",
   "execution_count": 16,
   "metadata": {},
   "outputs": [
    {
     "name": "stdout",
     "output_type": "stream",
     "text": [
      "Epoch 1/100\n",
      "3369/3369 [==============================] - 7s 2ms/step - loss: 1.6972 - sparse_categorical_accuracy: 0.5171 - val_loss: 1.0059 - val_sparse_categorical_accuracy: 0.7114 - lr: 0.0100\n",
      "Epoch 2/100\n",
      "3369/3369 [==============================] - 6s 2ms/step - loss: 1.2079 - sparse_categorical_accuracy: 0.6392 - val_loss: 0.8349 - val_sparse_categorical_accuracy: 0.7588 - lr: 0.0100\n",
      "Epoch 3/100\n",
      "3369/3369 [==============================] - 6s 2ms/step - loss: 1.0827 - sparse_categorical_accuracy: 0.6757 - val_loss: 0.7712 - val_sparse_categorical_accuracy: 0.7792 - lr: 0.0100\n",
      "Epoch 4/100\n",
      "3369/3369 [==============================] - 6s 2ms/step - loss: 1.0075 - sparse_categorical_accuracy: 0.6965 - val_loss: 0.6996 - val_sparse_categorical_accuracy: 0.7968 - lr: 0.0100\n",
      "Epoch 5/100\n",
      "3369/3369 [==============================] - 7s 2ms/step - loss: 0.9621 - sparse_categorical_accuracy: 0.7093 - val_loss: 0.7159 - val_sparse_categorical_accuracy: 0.7920 - lr: 0.0100\n",
      "Epoch 6/100\n",
      "3369/3369 [==============================] - 7s 2ms/step - loss: 0.9276 - sparse_categorical_accuracy: 0.7186 - val_loss: 0.7127 - val_sparse_categorical_accuracy: 0.8024 - lr: 0.0100\n",
      "Epoch 7/100\n",
      "3369/3369 [==============================] - 7s 2ms/step - loss: 0.9008 - sparse_categorical_accuracy: 0.7253 - val_loss: 0.7180 - val_sparse_categorical_accuracy: 0.8062 - lr: 0.0100\n",
      "Epoch 8/100\n",
      "3369/3369 [==============================] - 7s 2ms/step - loss: 0.8808 - sparse_categorical_accuracy: 0.7334 - val_loss: 0.6936 - val_sparse_categorical_accuracy: 0.8128 - lr: 0.0100\n",
      "Epoch 9/100\n",
      "3369/3369 [==============================] - 6s 2ms/step - loss: 0.8653 - sparse_categorical_accuracy: 0.7380 - val_loss: 0.6740 - val_sparse_categorical_accuracy: 0.8118 - lr: 0.0100\n",
      "Epoch 10/100\n",
      "3369/3369 [==============================] - 7s 2ms/step - loss: 0.8469 - sparse_categorical_accuracy: 0.7427 - val_loss: 0.6608 - val_sparse_categorical_accuracy: 0.8152 - lr: 0.0100\n",
      "Epoch 11/100\n",
      "3369/3369 [==============================] - 6s 2ms/step - loss: 0.8410 - sparse_categorical_accuracy: 0.7449 - val_loss: 0.6501 - val_sparse_categorical_accuracy: 0.8182 - lr: 0.0100\n",
      "Epoch 12/100\n",
      "3369/3369 [==============================] - 6s 2ms/step - loss: 0.8233 - sparse_categorical_accuracy: 0.7496 - val_loss: 0.6404 - val_sparse_categorical_accuracy: 0.8140 - lr: 0.0100\n",
      "Epoch 13/100\n",
      "3369/3369 [==============================] - 6s 2ms/step - loss: 0.8175 - sparse_categorical_accuracy: 0.7517 - val_loss: 0.6286 - val_sparse_categorical_accuracy: 0.8176 - lr: 0.0100\n",
      "Epoch 14/100\n",
      "3369/3369 [==============================] - 6s 2ms/step - loss: 0.7976 - sparse_categorical_accuracy: 0.7553 - val_loss: 0.6563 - val_sparse_categorical_accuracy: 0.8220 - lr: 0.0100\n",
      "Epoch 15/100\n",
      "3369/3369 [==============================] - 6s 2ms/step - loss: 0.7928 - sparse_categorical_accuracy: 0.7574 - val_loss: 0.6274 - val_sparse_categorical_accuracy: 0.8242 - lr: 0.0100\n",
      "Epoch 16/100\n",
      "3369/3369 [==============================] - 6s 2ms/step - loss: 0.7907 - sparse_categorical_accuracy: 0.7578 - val_loss: 0.6460 - val_sparse_categorical_accuracy: 0.8210 - lr: 0.0100\n",
      "Epoch 17/100\n",
      "3369/3369 [==============================] - 7s 2ms/step - loss: 0.7802 - sparse_categorical_accuracy: 0.7613 - val_loss: 0.6415 - val_sparse_categorical_accuracy: 0.8248 - lr: 0.0100\n",
      "Epoch 18/100\n",
      "3369/3369 [==============================] - 6s 2ms/step - loss: 0.7732 - sparse_categorical_accuracy: 0.7628 - val_loss: 0.6135 - val_sparse_categorical_accuracy: 0.8264 - lr: 0.0100\n",
      "Epoch 19/100\n",
      "3369/3369 [==============================] - 7s 2ms/step - loss: 0.7689 - sparse_categorical_accuracy: 0.7647 - val_loss: 0.6469 - val_sparse_categorical_accuracy: 0.8210 - lr: 0.0100\n",
      "Epoch 20/100\n",
      "3369/3369 [==============================] - 7s 2ms/step - loss: 0.7602 - sparse_categorical_accuracy: 0.7663 - val_loss: 0.6213 - val_sparse_categorical_accuracy: 0.8236 - lr: 0.0100\n",
      "Epoch 21/100\n",
      "3369/3369 [==============================] - 7s 2ms/step - loss: 0.7566 - sparse_categorical_accuracy: 0.7666 - val_loss: 0.6787 - val_sparse_categorical_accuracy: 0.8174 - lr: 0.0100\n",
      "Epoch 22/100\n",
      "3369/3369 [==============================] - 7s 2ms/step - loss: 0.7533 - sparse_categorical_accuracy: 0.7697 - val_loss: 0.6227 - val_sparse_categorical_accuracy: 0.8254 - lr: 0.0100\n",
      "Epoch 23/100\n",
      "3369/3369 [==============================] - 7s 2ms/step - loss: 0.6689 - sparse_categorical_accuracy: 0.7871 - val_loss: 0.5359 - val_sparse_categorical_accuracy: 0.8440 - lr: 0.0050\n",
      "Epoch 24/100\n",
      "3369/3369 [==============================] - 6s 2ms/step - loss: 0.6410 - sparse_categorical_accuracy: 0.7916 - val_loss: 0.5453 - val_sparse_categorical_accuracy: 0.8422 - lr: 0.0050\n",
      "Epoch 25/100\n",
      "3369/3369 [==============================] - 6s 2ms/step - loss: 0.6357 - sparse_categorical_accuracy: 0.7943 - val_loss: 0.5466 - val_sparse_categorical_accuracy: 0.8416 - lr: 0.0050\n",
      "Epoch 26/100\n",
      "3369/3369 [==============================] - 6s 2ms/step - loss: 0.6351 - sparse_categorical_accuracy: 0.7936 - val_loss: 0.5328 - val_sparse_categorical_accuracy: 0.8470 - lr: 0.0050\n",
      "Epoch 27/100\n",
      "3369/3369 [==============================] - 6s 2ms/step - loss: 0.6302 - sparse_categorical_accuracy: 0.7944 - val_loss: 0.5495 - val_sparse_categorical_accuracy: 0.8388 - lr: 0.0050\n",
      "Epoch 28/100\n",
      "3369/3369 [==============================] - 7s 2ms/step - loss: 0.6289 - sparse_categorical_accuracy: 0.7939 - val_loss: 0.5583 - val_sparse_categorical_accuracy: 0.8332 - lr: 0.0050\n",
      "Epoch 29/100\n",
      "3369/3369 [==============================] - 7s 2ms/step - loss: 0.6240 - sparse_categorical_accuracy: 0.7960 - val_loss: 0.5718 - val_sparse_categorical_accuracy: 0.8352 - lr: 0.0050\n",
      "Epoch 30/100\n",
      "3369/3369 [==============================] - 6s 2ms/step - loss: 0.6200 - sparse_categorical_accuracy: 0.7965 - val_loss: 0.5504 - val_sparse_categorical_accuracy: 0.8432 - lr: 0.0050\n",
      "Epoch 31/100\n",
      "3369/3369 [==============================] - 6s 2ms/step - loss: 0.5910 - sparse_categorical_accuracy: 0.8036 - val_loss: 0.5069 - val_sparse_categorical_accuracy: 0.8510 - lr: 0.0025\n",
      "Epoch 32/100\n",
      "3369/3369 [==============================] - 6s 2ms/step - loss: 0.5814 - sparse_categorical_accuracy: 0.8062 - val_loss: 0.5074 - val_sparse_categorical_accuracy: 0.8464 - lr: 0.0025\n",
      "Epoch 33/100\n",
      "3369/3369 [==============================] - 7s 2ms/step - loss: 0.5711 - sparse_categorical_accuracy: 0.8098 - val_loss: 0.5105 - val_sparse_categorical_accuracy: 0.8510 - lr: 0.0025\n",
      "Epoch 34/100\n",
      "3369/3369 [==============================] - 7s 2ms/step - loss: 0.5702 - sparse_categorical_accuracy: 0.8087 - val_loss: 0.5226 - val_sparse_categorical_accuracy: 0.8410 - lr: 0.0025\n",
      "Epoch 35/100\n",
      "3369/3369 [==============================] - 6s 2ms/step - loss: 0.5666 - sparse_categorical_accuracy: 0.8099 - val_loss: 0.5079 - val_sparse_categorical_accuracy: 0.8518 - lr: 0.0025\n",
      "Epoch 36/100\n",
      "3369/3369 [==============================] - 7s 2ms/step - loss: 0.5504 - sparse_categorical_accuracy: 0.8151 - val_loss: 0.4920 - val_sparse_categorical_accuracy: 0.8538 - lr: 0.0012\n",
      "Epoch 37/100\n",
      "3369/3369 [==============================] - 7s 2ms/step - loss: 0.5469 - sparse_categorical_accuracy: 0.8170 - val_loss: 0.5042 - val_sparse_categorical_accuracy: 0.8482 - lr: 0.0012\n",
      "Epoch 38/100\n",
      "3369/3369 [==============================] - 6s 2ms/step - loss: 0.5439 - sparse_categorical_accuracy: 0.8166 - val_loss: 0.5017 - val_sparse_categorical_accuracy: 0.8506 - lr: 0.0012\n",
      "Epoch 39/100\n",
      "3369/3369 [==============================] - 6s 2ms/step - loss: 0.5433 - sparse_categorical_accuracy: 0.8172 - val_loss: 0.4984 - val_sparse_categorical_accuracy: 0.8504 - lr: 0.0012\n",
      "Epoch 40/100\n",
      "3369/3369 [==============================] - 6s 2ms/step - loss: 0.5439 - sparse_categorical_accuracy: 0.8170 - val_loss: 0.4929 - val_sparse_categorical_accuracy: 0.8516 - lr: 0.0012\n",
      "Epoch 41/100\n",
      "3369/3369 [==============================] - 7s 2ms/step - loss: 0.5335 - sparse_categorical_accuracy: 0.8207 - val_loss: 0.4882 - val_sparse_categorical_accuracy: 0.8550 - lr: 6.2500e-04\n",
      "Epoch 42/100\n",
      "3369/3369 [==============================] - 7s 2ms/step - loss: 0.5336 - sparse_categorical_accuracy: 0.8209 - val_loss: 0.4825 - val_sparse_categorical_accuracy: 0.8546 - lr: 6.2500e-04\n",
      "Epoch 43/100\n",
      "3369/3369 [==============================] - 7s 2ms/step - loss: 0.5300 - sparse_categorical_accuracy: 0.8207 - val_loss: 0.4867 - val_sparse_categorical_accuracy: 0.8538 - lr: 6.2500e-04\n",
      "Epoch 44/100\n",
      "3369/3369 [==============================] - 7s 2ms/step - loss: 0.5307 - sparse_categorical_accuracy: 0.8208 - val_loss: 0.4880 - val_sparse_categorical_accuracy: 0.8524 - lr: 6.2500e-04\n",
      "Epoch 45/100\n",
      "3369/3369 [==============================] - 7s 2ms/step - loss: 0.5269 - sparse_categorical_accuracy: 0.8227 - val_loss: 0.4859 - val_sparse_categorical_accuracy: 0.8528 - lr: 6.2500e-04\n",
      "Epoch 46/100\n",
      "3369/3369 [==============================] - 7s 2ms/step - loss: 0.5257 - sparse_categorical_accuracy: 0.8224 - val_loss: 0.4853 - val_sparse_categorical_accuracy: 0.8536 - lr: 6.2500e-04\n",
      "Epoch 47/100\n",
      "3369/3369 [==============================] - 7s 2ms/step - loss: 0.5224 - sparse_categorical_accuracy: 0.8236 - val_loss: 0.4820 - val_sparse_categorical_accuracy: 0.8534 - lr: 3.1250e-04\n",
      "Epoch 48/100\n",
      "3369/3369 [==============================] - 7s 2ms/step - loss: 0.5189 - sparse_categorical_accuracy: 0.8239 - val_loss: 0.4798 - val_sparse_categorical_accuracy: 0.8536 - lr: 3.1250e-04\n",
      "Epoch 49/100\n",
      "3369/3369 [==============================] - 7s 2ms/step - loss: 0.5224 - sparse_categorical_accuracy: 0.8252 - val_loss: 0.4800 - val_sparse_categorical_accuracy: 0.8568 - lr: 3.1250e-04\n",
      "Epoch 50/100\n",
      "3369/3369 [==============================] - 7s 2ms/step - loss: 0.5215 - sparse_categorical_accuracy: 0.8254 - val_loss: 0.4817 - val_sparse_categorical_accuracy: 0.8538 - lr: 3.1250e-04\n",
      "Epoch 51/100\n",
      "3369/3369 [==============================] - 6s 2ms/step - loss: 0.5216 - sparse_categorical_accuracy: 0.8254 - val_loss: 0.4817 - val_sparse_categorical_accuracy: 0.8538 - lr: 3.1250e-04\n",
      "Epoch 52/100\n",
      "3369/3369 [==============================] - 6s 2ms/step - loss: 0.5212 - sparse_categorical_accuracy: 0.8253 - val_loss: 0.4799 - val_sparse_categorical_accuracy: 0.8546 - lr: 3.1250e-04\n",
      "Epoch 53/100\n",
      "3369/3369 [==============================] - 6s 2ms/step - loss: 0.5199 - sparse_categorical_accuracy: 0.8253 - val_loss: 0.4819 - val_sparse_categorical_accuracy: 0.8526 - lr: 1.5625e-04\n",
      "Epoch 54/100\n",
      "3369/3369 [==============================] - 6s 2ms/step - loss: 0.5190 - sparse_categorical_accuracy: 0.8255 - val_loss: 0.4787 - val_sparse_categorical_accuracy: 0.8536 - lr: 1.5625e-04\n",
      "Epoch 55/100\n",
      "3369/3369 [==============================] - 6s 2ms/step - loss: 0.5161 - sparse_categorical_accuracy: 0.8247 - val_loss: 0.4794 - val_sparse_categorical_accuracy: 0.8540 - lr: 1.5625e-04\n",
      "Epoch 56/100\n",
      "3369/3369 [==============================] - 7s 2ms/step - loss: 0.5193 - sparse_categorical_accuracy: 0.8245 - val_loss: 0.4795 - val_sparse_categorical_accuracy: 0.8540 - lr: 1.5625e-04\n",
      "Epoch 57/100\n",
      "3369/3369 [==============================] - 6s 2ms/step - loss: 0.5164 - sparse_categorical_accuracy: 0.8268 - val_loss: 0.4789 - val_sparse_categorical_accuracy: 0.8570 - lr: 1.5625e-04\n",
      "Epoch 58/100\n",
      "3369/3369 [==============================] - 7s 2ms/step - loss: 0.5150 - sparse_categorical_accuracy: 0.8264 - val_loss: 0.4779 - val_sparse_categorical_accuracy: 0.8556 - lr: 1.5625e-04\n",
      "Epoch 59/100\n",
      "3369/3369 [==============================] - 6s 2ms/step - loss: 0.5157 - sparse_categorical_accuracy: 0.8265 - val_loss: 0.4796 - val_sparse_categorical_accuracy: 0.8570 - lr: 1.5625e-04\n",
      "Epoch 60/100\n",
      "3369/3369 [==============================] - 7s 2ms/step - loss: 0.5163 - sparse_categorical_accuracy: 0.8260 - val_loss: 0.4806 - val_sparse_categorical_accuracy: 0.8554 - lr: 1.5625e-04\n",
      "Epoch 61/100\n",
      "3369/3369 [==============================] - 7s 2ms/step - loss: 0.5187 - sparse_categorical_accuracy: 0.8257 - val_loss: 0.4775 - val_sparse_categorical_accuracy: 0.8568 - lr: 1.5625e-04\n",
      "Epoch 62/100\n",
      "3369/3369 [==============================] - 7s 2ms/step - loss: 0.5161 - sparse_categorical_accuracy: 0.8257 - val_loss: 0.4782 - val_sparse_categorical_accuracy: 0.8546 - lr: 1.5625e-04\n",
      "Epoch 63/100\n",
      "3369/3369 [==============================] - 7s 2ms/step - loss: 0.5154 - sparse_categorical_accuracy: 0.8267 - val_loss: 0.4779 - val_sparse_categorical_accuracy: 0.8572 - lr: 1.5625e-04\n",
      "Epoch 64/100\n",
      "3369/3369 [==============================] - 7s 2ms/step - loss: 0.5174 - sparse_categorical_accuracy: 0.8253 - val_loss: 0.4801 - val_sparse_categorical_accuracy: 0.8556 - lr: 1.5625e-04\n",
      "Epoch 65/100\n",
      "3369/3369 [==============================] - 7s 2ms/step - loss: 0.5148 - sparse_categorical_accuracy: 0.8259 - val_loss: 0.4773 - val_sparse_categorical_accuracy: 0.8552 - lr: 1.5625e-04\n",
      "Epoch 66/100\n",
      "3369/3369 [==============================] - 6s 2ms/step - loss: 0.5141 - sparse_categorical_accuracy: 0.8267 - val_loss: 0.4780 - val_sparse_categorical_accuracy: 0.8530 - lr: 1.5625e-04\n",
      "Epoch 67/100\n",
      "3369/3369 [==============================] - 6s 2ms/step - loss: 0.5132 - sparse_categorical_accuracy: 0.8271 - val_loss: 0.4782 - val_sparse_categorical_accuracy: 0.8566 - lr: 1.5625e-04\n",
      "Epoch 68/100\n",
      "3369/3369 [==============================] - 7s 2ms/step - loss: 0.5144 - sparse_categorical_accuracy: 0.8274 - val_loss: 0.4797 - val_sparse_categorical_accuracy: 0.8562 - lr: 1.5625e-04\n",
      "Epoch 69/100\n",
      "3369/3369 [==============================] - 7s 2ms/step - loss: 0.5153 - sparse_categorical_accuracy: 0.8260 - val_loss: 0.4794 - val_sparse_categorical_accuracy: 0.8566 - lr: 1.5625e-04\n",
      "Epoch 70/100\n",
      "3369/3369 [==============================] - 7s 2ms/step - loss: 0.5149 - sparse_categorical_accuracy: 0.8267 - val_loss: 0.4773 - val_sparse_categorical_accuracy: 0.8566 - lr: 7.8125e-05\n",
      "Epoch 71/100\n",
      "3369/3369 [==============================] - 7s 2ms/step - loss: 0.5159 - sparse_categorical_accuracy: 0.8271 - val_loss: 0.4785 - val_sparse_categorical_accuracy: 0.8562 - lr: 7.8125e-05\n",
      "Epoch 72/100\n",
      "3369/3369 [==============================] - 7s 2ms/step - loss: 0.5152 - sparse_categorical_accuracy: 0.8255 - val_loss: 0.4768 - val_sparse_categorical_accuracy: 0.8570 - lr: 7.8125e-05\n",
      "Epoch 73/100\n",
      "3369/3369 [==============================] - 7s 2ms/step - loss: 0.5140 - sparse_categorical_accuracy: 0.8273 - val_loss: 0.4772 - val_sparse_categorical_accuracy: 0.8556 - lr: 7.8125e-05\n",
      "Epoch 74/100\n",
      "3369/3369 [==============================] - 7s 2ms/step - loss: 0.5152 - sparse_categorical_accuracy: 0.8257 - val_loss: 0.4784 - val_sparse_categorical_accuracy: 0.8572 - lr: 7.8125e-05\n",
      "Epoch 75/100\n",
      "3369/3369 [==============================] - 6s 2ms/step - loss: 0.5143 - sparse_categorical_accuracy: 0.8250 - val_loss: 0.4790 - val_sparse_categorical_accuracy: 0.8552 - lr: 7.8125e-05\n",
      "Epoch 76/100\n",
      "3369/3369 [==============================] - 7s 2ms/step - loss: 0.5140 - sparse_categorical_accuracy: 0.8275 - val_loss: 0.4787 - val_sparse_categorical_accuracy: 0.8548 - lr: 7.8125e-05\n",
      "Epoch 77/100\n",
      "3369/3369 [==============================] - 7s 2ms/step - loss: 0.5133 - sparse_categorical_accuracy: 0.8267 - val_loss: 0.4777 - val_sparse_categorical_accuracy: 0.8568 - lr: 3.9062e-05\n",
      "Epoch 78/100\n",
      "3369/3369 [==============================] - 7s 2ms/step - loss: 0.5143 - sparse_categorical_accuracy: 0.8278 - val_loss: 0.4773 - val_sparse_categorical_accuracy: 0.8570 - lr: 3.9062e-05\n",
      "Epoch 79/100\n",
      "3369/3369 [==============================] - 6s 2ms/step - loss: 0.5160 - sparse_categorical_accuracy: 0.8267 - val_loss: 0.4766 - val_sparse_categorical_accuracy: 0.8570 - lr: 3.9062e-05\n",
      "Epoch 80/100\n",
      "3369/3369 [==============================] - 6s 2ms/step - loss: 0.5133 - sparse_categorical_accuracy: 0.8272 - val_loss: 0.4775 - val_sparse_categorical_accuracy: 0.8566 - lr: 3.9062e-05\n",
      "Epoch 81/100\n",
      "3369/3369 [==============================] - 6s 2ms/step - loss: 0.5085 - sparse_categorical_accuracy: 0.8288 - val_loss: 0.4773 - val_sparse_categorical_accuracy: 0.8566 - lr: 3.9062e-05\n",
      "Epoch 82/100\n",
      "3369/3369 [==============================] - 6s 2ms/step - loss: 0.5127 - sparse_categorical_accuracy: 0.8265 - val_loss: 0.4773 - val_sparse_categorical_accuracy: 0.8560 - lr: 3.9062e-05\n",
      "Epoch 83/100\n",
      "3369/3369 [==============================] - 7s 2ms/step - loss: 0.5116 - sparse_categorical_accuracy: 0.8278 - val_loss: 0.4774 - val_sparse_categorical_accuracy: 0.8562 - lr: 3.9062e-05\n",
      "Epoch 84/100\n",
      "3369/3369 [==============================] - 7s 2ms/step - loss: 0.5151 - sparse_categorical_accuracy: 0.8277 - val_loss: 0.4772 - val_sparse_categorical_accuracy: 0.8562 - lr: 1.9531e-05\n",
      "Epoch 85/100\n",
      "3369/3369 [==============================] - 7s 2ms/step - loss: 0.5130 - sparse_categorical_accuracy: 0.8265 - val_loss: 0.4774 - val_sparse_categorical_accuracy: 0.8564 - lr: 1.9531e-05\n",
      "Epoch 86/100\n",
      "3369/3369 [==============================] - 7s 2ms/step - loss: 0.5119 - sparse_categorical_accuracy: 0.8271 - val_loss: 0.4774 - val_sparse_categorical_accuracy: 0.8562 - lr: 1.9531e-05\n",
      "Epoch 87/100\n",
      "3369/3369 [==============================] - 7s 2ms/step - loss: 0.5150 - sparse_categorical_accuracy: 0.8270 - val_loss: 0.4777 - val_sparse_categorical_accuracy: 0.8564 - lr: 1.9531e-05\n",
      "Epoch 88/100\n",
      "3369/3369 [==============================] - 7s 2ms/step - loss: 0.5106 - sparse_categorical_accuracy: 0.8272 - val_loss: 0.4776 - val_sparse_categorical_accuracy: 0.8562 - lr: 9.7656e-06\n",
      "Epoch 89/100\n",
      "3369/3369 [==============================] - 6s 2ms/step - loss: 0.5120 - sparse_categorical_accuracy: 0.8274 - val_loss: 0.4776 - val_sparse_categorical_accuracy: 0.8566 - lr: 9.7656e-06\n"
     ]
    }
   ],
   "source": [
    "tensorboard_cb = callbacks.TensorBoard(run_logdir)\n",
    "early_stopping_cb = callbacks.EarlyStopping(patience=10, restore_best_weights=True)\n",
    "lr_scheduler_cb = callbacks.ReduceLROnPlateau(factor=0.5, patience=4)\n",
    "history = model.fit(x_train, y_train, epochs=100, validation_data=(x_valid, y_valid), callbacks=[early_stopping_cb, lr_scheduler_cb])"
   ]
  },
  {
   "cell_type": "code",
   "execution_count": 17,
   "metadata": {},
   "outputs": [
    {
     "data": {
      "image/png": "[encoded data removed]",
      "text/plain": [
       "<Figure size 576x360 with 1 Axes>"
      ]
     },
     "metadata": {
      "needs_background": "light"
     },
     "output_type": "display_data"
    }
   ],
   "source": [
    "pd.DataFrame(history.history).plot(figsize=(8, 5))\n",
    "plt.grid(True)\n",
    "plt.gca().set_ylim(0, 1) # set the vertical range to [0-1]\n",
    "plt.show()"
   ]
  },
  {
   "cell_type": "code",
   "execution_count": 34,
   "metadata": {},
   "outputs": [
    {
     "data": {
      "text/plain": [
       "(3, 784)"
      ]
     },
     "execution_count": 34,
     "metadata": {},
     "output_type": "execute_result"
    }
   ],
   "source": [
    "x_test = test[:3,1:]\n",
    "x_test = x_test / 255.0\n",
    "x_test.shape"
   ]
  },
  {
   "cell_type": "code",
   "execution_count": 54,
   "metadata": {},
   "outputs": [],
   "source": [
    "def show_image(image):\n",
    "    image = image.reshape(28,28)\n",
    "    image = numpy.fliplr(image)\n",
    "    image = numpy.rot90(image)\n",
    "\n",
    "    plt.imshow(image, cmap=\"binary\")\n",
    "    plt.axis(\"off\")\n",
    "    plt.show()\n",
    "    "
   ]
  },
  {
   "cell_type": "code",
   "execution_count": 52,
   "metadata": {},
   "outputs": [
    {
     "data": {
      "text/plain": [
       "array([[0.  , 0.  , 0.  , 0.  , 0.  , 0.  , 0.  , 0.  , 0.  , 0.  , 0.  ,\n",
       "        0.  , 0.  , 0.  , 0.  , 0.  , 0.  , 0.  , 0.  , 0.  , 0.  , 0.  ,\n",
       "        0.  , 0.  , 0.  , 0.  , 0.  , 0.  , 0.  , 0.  , 0.  , 0.  , 0.  ,\n",
       "        0.  , 0.  , 0.  , 0.  , 0.  , 0.  , 1.  , 0.  , 0.  , 0.  , 0.  ,\n",
       "        0.  , 0.  , 0.  ],\n",
       "       [0.  , 0.  , 0.  , 0.  , 0.  , 0.  , 0.  , 0.  , 0.  , 0.9 , 0.  ,\n",
       "        0.  , 0.  , 0.  , 0.  , 0.  , 0.  , 0.  , 0.  , 0.  , 0.  , 0.  ,\n",
       "        0.  , 0.  , 0.  , 0.  , 0.  , 0.  , 0.  , 0.  , 0.  , 0.  , 0.  ,\n",
       "        0.  , 0.  , 0.  , 0.  , 0.  , 0.  , 0.  , 0.  , 0.01, 0.  , 0.  ,\n",
       "        0.09, 0.  , 0.  ],\n",
       "       [0.  , 0.  , 0.  , 0.  , 0.  , 0.  , 0.  , 0.  , 0.  , 0.  , 0.  ,\n",
       "        0.  , 0.  , 0.  , 0.  , 0.  , 0.  , 0.  , 0.  , 0.  , 0.  , 0.  ,\n",
       "        0.  , 0.  , 0.  , 0.  , 0.99, 0.  , 0.  , 0.  , 0.  , 0.  , 0.  ,\n",
       "        0.  , 0.  , 0.  , 0.  , 0.  , 0.  , 0.  , 0.  , 0.  , 0.  , 0.  ,\n",
       "        0.  , 0.  , 0.  ]], dtype=float32)"
      ]
     },
     "execution_count": 52,
     "metadata": {},
     "output_type": "execute_result"
    }
   ],
   "source": [
    "y_proba = model.predict(x_test)\n",
    "y_proba.round(2)"
   ]
  },
  {
   "cell_type": "code",
   "execution_count": 55,
   "metadata": {},
   "outputs": [
    {
     "data": {
      "image/png": "[encoded data removed]",
      "text/plain": [
       "<Figure size 432x288 with 1 Axes>"
      ]
     },
     "metadata": {
      "needs_background": "light"
     },
     "output_type": "display_data"
    },
    {
     "name": "stdout",
     "output_type": "stream",
     "text": [
      "Label for 39 : e\n"
     ]
    }
   ],
   "source": [
    "some_x = test[0, 1:]\n",
    "show_image(some_x)\n",
    "classes = numpy.argmax(y_proba, axis=1)\n",
    "print(\"Label for\", classes[0], \":\", label_dictionary[classes[0]])"
   ]
  },
  {
   "cell_type": "code",
   "execution_count": 21,
   "metadata": {},
   "outputs": [
    {
     "data": {
      "text/plain": [
       "Reusing TensorBoard on port 6006 (pid 30988), started 10:49:33 ago. (Use '!kill 30988' to kill it.)"
      ]
     },
     "metadata": {},
     "output_type": "display_data"
    },
    {
     "data": {
      "text/html": [
       "\n",
       "      <iframe id=\"tensorboard-frame-bad8439f16d8dc50\" width=\"100%\" height=\"800\" frameborder=\"0\">\n",
       "      </iframe>\n",
       "      <script>\n",
       "        (function() {\n",
       "          const frame = document.getElementById(\"tensorboard-frame-bad8439f16d8dc50\");\n",
       "          const url = new URL(\"http://localhost\");\n",
       "          const port = 6006;\n",
       "          if (port) {\n",
       "            url.port = port;\n",
       "          }\n",
       "          frame.src = url;\n",
       "        })();\n",
       "      </script>\n",
       "    "
      ],
      "text/plain": [
       "<IPython.core.display.HTML object>"
      ]
     },
     "metadata": {},
     "output_type": "display_data"
    }
   ],
   "source": [
    "%load_ext tensorboard\n",
    "%tensorboard --logdir=./my_logs --port=6006\n"
   ]
  }
 ],
 "metadata": {
  "interpreter": {
   "hash": "830bd4b94685321d0b550ba9a75ad9d58de144fde38c75487e899dd4e7e6ada5"
  },
  "kernelspec": {
   "display_name": "Python 3.9.8 64-bit",
   "language": "python",
   "name": "python3"
  },
  "language_info": {
   "codemirror_mode": {
    "name": "ipython",
    "version": 3
   },
   "file_extension": ".py",
   "mimetype": "text/x-python",
   "name": "python",
   "nbconvert_exporter": "python",
   "pygments_lexer": "ipython3",
   "version": "3.9.9"
  },
  "orig_nbformat": 4
 },
 "nbformat": 4,
 "nbformat_minor": 2
}
